{
 "cells": [
  {
   "cell_type": "code",
   "execution_count": 243,
   "id": "08587bbf-a0b5-48fc-a3da-fbf61f821dfe",
   "metadata": {},
   "outputs": [],
   "source": [
    "import streamlit as st\n",
    "import pandas as pd\n",
    "import numpy as np\n",
    "import re\n",
    "import plotly.express as px"
   ]
  },
  {
   "cell_type": "code",
   "execution_count": null,
   "id": "b71c6e80-6981-4dc3-892b-aadf1f4165ba",
   "metadata": {},
   "outputs": [],
   "source": []
  },
  {
   "cell_type": "markdown",
   "id": "504c7b7e-4035-41ec-bd08-a2bf2841adbd",
   "metadata": {},
   "source": [
    "### Data Preparation and Cleaning"
   ]
  },
  {
   "cell_type": "code",
   "execution_count": 500,
   "id": "f3f162b1-426d-497b-8977-8db7ae7c0ae0",
   "metadata": {},
   "outputs": [
    {
     "data": {
      "text/html": [
       "<div>\n",
       "<style scoped>\n",
       "    .dataframe tbody tr th:only-of-type {\n",
       "        vertical-align: middle;\n",
       "    }\n",
       "\n",
       "    .dataframe tbody tr th {\n",
       "        vertical-align: top;\n",
       "    }\n",
       "\n",
       "    .dataframe thead th {\n",
       "        text-align: right;\n",
       "    }\n",
       "</style>\n",
       "<table border=\"1\" class=\"dataframe\">\n",
       "  <thead>\n",
       "    <tr style=\"text-align: right;\">\n",
       "      <th></th>\n",
       "      <th>Year</th>\n",
       "      <th>Quarter</th>\n",
       "      <th>Month</th>\n",
       "      <th>Day</th>\n",
       "      <th>Country/Region</th>\n",
       "      <th>Aircraft Manufacturer</th>\n",
       "      <th>Aircraft</th>\n",
       "      <th>Location</th>\n",
       "      <th>Operator</th>\n",
       "      <th>Ground</th>\n",
       "      <th>Fatalities (air)</th>\n",
       "      <th>Aboard</th>\n",
       "    </tr>\n",
       "  </thead>\n",
       "  <tbody>\n",
       "    <tr>\n",
       "      <th>0</th>\n",
       "      <td>1970</td>\n",
       "      <td>Qtr 2</td>\n",
       "      <td>April</td>\n",
       "      <td>28</td>\n",
       "      <td>NaN</td>\n",
       "      <td>de Havilland Canada</td>\n",
       "      <td>de Havilland Canada DHC 6 Twin Otter 100VH</td>\n",
       "      <td>Kainatu</td>\n",
       "      <td>Airlines Australia GuineaTrans New</td>\n",
       "      <td>0</td>\n",
       "      <td>8</td>\n",
       "      <td>11</td>\n",
       "    </tr>\n",
       "    <tr>\n",
       "      <th>1</th>\n",
       "      <td>1952</td>\n",
       "      <td>Qtr 2</td>\n",
       "      <td>April</td>\n",
       "      <td>30</td>\n",
       "      <td>NaN</td>\n",
       "      <td>Douglas</td>\n",
       "      <td>Douglas DC 3VT</td>\n",
       "      <td>Delhi</td>\n",
       "      <td>Airways IndiaDeccan</td>\n",
       "      <td>0</td>\n",
       "      <td>9</td>\n",
       "      <td>9</td>\n",
       "    </tr>\n",
       "    <tr>\n",
       "      <th>2</th>\n",
       "      <td>1973</td>\n",
       "      <td>Qtr 2</td>\n",
       "      <td>April</td>\n",
       "      <td>10</td>\n",
       "      <td>NaN</td>\n",
       "      <td>Vickers Vanguard</td>\n",
       "      <td>Vickers Vanguard 952G AXOP</td>\n",
       "      <td>Near Basel</td>\n",
       "      <td>(UK) Airlines International SwitzerlandInvicta</td>\n",
       "      <td>0</td>\n",
       "      <td>108</td>\n",
       "      <td>145</td>\n",
       "    </tr>\n",
       "    <tr>\n",
       "      <th>3</th>\n",
       "      <td>2000</td>\n",
       "      <td>Qtr 2</td>\n",
       "      <td>April</td>\n",
       "      <td>19</td>\n",
       "      <td>'-</td>\n",
       "      <td>Antonov</td>\n",
       "      <td>Antonov AN 8TL</td>\n",
       "      <td>Pepa  -</td>\n",
       "      <td>Airlines Centrafricain</td>\n",
       "      <td>0</td>\n",
       "      <td>24</td>\n",
       "      <td>24</td>\n",
       "    </tr>\n",
       "    <tr>\n",
       "      <th>4</th>\n",
       "      <td>1946</td>\n",
       "      <td>Qtr 2</td>\n",
       "      <td>April</td>\n",
       "      <td>30</td>\n",
       "      <td>'-</td>\n",
       "      <td>Douglas</td>\n",
       "      <td>Douglas C 47A FZ559</td>\n",
       "      <td>Pindi-Khut  -</td>\n",
       "      <td>Force Air Royal</td>\n",
       "      <td>0</td>\n",
       "      <td>12</td>\n",
       "      <td>12</td>\n",
       "    </tr>\n",
       "  </tbody>\n",
       "</table>\n",
       "</div>"
      ],
      "text/plain": [
       "   Year Quarter  Month  Day Country/Region Aircraft Manufacturer  \\\n",
       "0  1970   Qtr 2  April   28            NaN   de Havilland Canada   \n",
       "1  1952   Qtr 2  April   30            NaN               Douglas   \n",
       "2  1973   Qtr 2  April   10            NaN      Vickers Vanguard   \n",
       "3  2000   Qtr 2  April   19             '-               Antonov   \n",
       "4  1946   Qtr 2  April   30             '-               Douglas   \n",
       "\n",
       "                                     Aircraft       Location  \\\n",
       "0  de Havilland Canada DHC 6 Twin Otter 100VH        Kainatu   \n",
       "1                              Douglas DC 3VT          Delhi   \n",
       "2                  Vickers Vanguard 952G AXOP     Near Basel   \n",
       "3                              Antonov AN 8TL        Pepa  -   \n",
       "4                         Douglas C 47A FZ559  Pindi-Khut  -   \n",
       "\n",
       "                                         Operator  Ground  Fatalities (air)  \\\n",
       "0              Airlines Australia GuineaTrans New       0                 8   \n",
       "1                             Airways IndiaDeccan       0                 9   \n",
       "2  (UK) Airlines International SwitzerlandInvicta       0               108   \n",
       "3                          Airlines Centrafricain       0                24   \n",
       "4                                 Force Air Royal       0                12   \n",
       "\n",
       "   Aboard  \n",
       "0      11  \n",
       "1       9  \n",
       "2     145  \n",
       "3      24  \n",
       "4      12  "
      ]
     },
     "execution_count": 500,
     "metadata": {},
     "output_type": "execute_result"
    }
   ],
   "source": [
    "df = pd.read_csv(\"aircrahesFullDataUpdated_2024.csv\")\n",
    "\n",
    "df.head()"
   ]
  },
  {
   "cell_type": "code",
   "execution_count": 143,
   "id": "2b555090-4574-42f0-833e-ffb61c17a8a8",
   "metadata": {},
   "outputs": [
    {
     "data": {
      "text/html": [
       "<div>\n",
       "<style scoped>\n",
       "    .dataframe tbody tr th:only-of-type {\n",
       "        vertical-align: middle;\n",
       "    }\n",
       "\n",
       "    .dataframe tbody tr th {\n",
       "        vertical-align: top;\n",
       "    }\n",
       "\n",
       "    .dataframe thead th {\n",
       "        text-align: right;\n",
       "    }\n",
       "</style>\n",
       "<table border=\"1\" class=\"dataframe\">\n",
       "  <thead>\n",
       "    <tr style=\"text-align: right;\">\n",
       "      <th></th>\n",
       "      <th>Year</th>\n",
       "      <th>Day</th>\n",
       "      <th>Ground</th>\n",
       "      <th>Fatalities (air)</th>\n",
       "      <th>Aboard</th>\n",
       "    </tr>\n",
       "  </thead>\n",
       "  <tbody>\n",
       "    <tr>\n",
       "      <th>count</th>\n",
       "      <td>5035.000000</td>\n",
       "      <td>5035.000000</td>\n",
       "      <td>5035.000000</td>\n",
       "      <td>5035.000000</td>\n",
       "      <td>5035.000000</td>\n",
       "    </tr>\n",
       "    <tr>\n",
       "      <th>mean</th>\n",
       "      <td>1970.991063</td>\n",
       "      <td>15.785104</td>\n",
       "      <td>1.704469</td>\n",
       "      <td>22.218868</td>\n",
       "      <td>31.107249</td>\n",
       "    </tr>\n",
       "    <tr>\n",
       "      <th>std</th>\n",
       "      <td>24.814467</td>\n",
       "      <td>8.794474</td>\n",
       "      <td>55.105115</td>\n",
       "      <td>34.948929</td>\n",
       "      <td>45.740185</td>\n",
       "    </tr>\n",
       "    <tr>\n",
       "      <th>min</th>\n",
       "      <td>1908.000000</td>\n",
       "      <td>1.000000</td>\n",
       "      <td>0.000000</td>\n",
       "      <td>0.000000</td>\n",
       "      <td>0.000000</td>\n",
       "    </tr>\n",
       "    <tr>\n",
       "      <th>25%</th>\n",
       "      <td>1951.000000</td>\n",
       "      <td>8.000000</td>\n",
       "      <td>0.000000</td>\n",
       "      <td>4.000000</td>\n",
       "      <td>7.000000</td>\n",
       "    </tr>\n",
       "    <tr>\n",
       "      <th>50%</th>\n",
       "      <td>1970.000000</td>\n",
       "      <td>16.000000</td>\n",
       "      <td>0.000000</td>\n",
       "      <td>11.000000</td>\n",
       "      <td>16.000000</td>\n",
       "    </tr>\n",
       "    <tr>\n",
       "      <th>75%</th>\n",
       "      <td>1992.000000</td>\n",
       "      <td>23.000000</td>\n",
       "      <td>0.000000</td>\n",
       "      <td>25.000000</td>\n",
       "      <td>34.500000</td>\n",
       "    </tr>\n",
       "    <tr>\n",
       "      <th>max</th>\n",
       "      <td>2024.000000</td>\n",
       "      <td>31.000000</td>\n",
       "      <td>2750.000000</td>\n",
       "      <td>583.000000</td>\n",
       "      <td>644.000000</td>\n",
       "    </tr>\n",
       "  </tbody>\n",
       "</table>\n",
       "</div>"
      ],
      "text/plain": [
       "              Year          Day       Ground  Fatalities (air)       Aboard\n",
       "count  5035.000000  5035.000000  5035.000000       5035.000000  5035.000000\n",
       "mean   1970.991063    15.785104     1.704469         22.218868    31.107249\n",
       "std      24.814467     8.794474    55.105115         34.948929    45.740185\n",
       "min    1908.000000     1.000000     0.000000          0.000000     0.000000\n",
       "25%    1951.000000     8.000000     0.000000          4.000000     7.000000\n",
       "50%    1970.000000    16.000000     0.000000         11.000000    16.000000\n",
       "75%    1992.000000    23.000000     0.000000         25.000000    34.500000\n",
       "max    2024.000000    31.000000  2750.000000        583.000000   644.000000"
      ]
     },
     "execution_count": 143,
     "metadata": {},
     "output_type": "execute_result"
    }
   ],
   "source": [
    "df.describe()"
   ]
  },
  {
   "cell_type": "code",
   "execution_count": 182,
   "id": "2a9fd787-462e-461a-9556-8df639803d80",
   "metadata": {},
   "outputs": [
    {
     "name": "stdout",
     "output_type": "stream",
     "text": [
      "<class 'pandas.core.frame.DataFrame'>\n",
      "RangeIndex: 5035 entries, 0 to 5034\n",
      "Data columns (total 13 columns):\n",
      " #   Column                 Non-Null Count  Dtype \n",
      "---  ------                 --------------  ----- \n",
      " 0   Year                   5035 non-null   int64 \n",
      " 1   Quarter                5035 non-null   object\n",
      " 2   Month                  5035 non-null   object\n",
      " 3   Day                    5035 non-null   int64 \n",
      " 4   Country/Region         4805 non-null   object\n",
      " 5   Aircraft Manufacturer  5035 non-null   object\n",
      " 6   Aircraft               5035 non-null   object\n",
      " 7   Location               5035 non-null   object\n",
      " 8   Operator               4801 non-null   object\n",
      " 9   Ground                 5035 non-null   int64 \n",
      " 10  Fatalities (air)       5035 non-null   int64 \n",
      " 11  Aboard                 5035 non-null   int64 \n",
      " 12  survival_rate          5035 non-null   int64 \n",
      "dtypes: int64(6), object(7)\n",
      "memory usage: 511.5+ KB\n"
     ]
    }
   ],
   "source": [
    "df.info()"
   ]
  },
  {
   "cell_type": "code",
   "execution_count": 184,
   "id": "00b33a3e-e892-471f-a687-4e5361206946",
   "metadata": {},
   "outputs": [
    {
     "data": {
      "text/plain": [
       "0"
      ]
     },
     "execution_count": 184,
     "metadata": {},
     "output_type": "execute_result"
    }
   ],
   "source": [
    "df.duplicated().sum()"
   ]
  },
  {
   "cell_type": "code",
   "execution_count": 186,
   "id": "9cbc1ee9-8d4d-4aab-accf-917a225e0ce5",
   "metadata": {},
   "outputs": [
    {
     "data": {
      "text/plain": [
       "Year                       0\n",
       "Quarter                    0\n",
       "Month                      0\n",
       "Day                        0\n",
       "Country/Region           230\n",
       "Aircraft Manufacturer      0\n",
       "Aircraft                   0\n",
       "Location                   0\n",
       "Operator                 234\n",
       "Ground                     0\n",
       "Fatalities (air)           0\n",
       "Aboard                     0\n",
       "survival_rate              0\n",
       "dtype: int64"
      ]
     },
     "execution_count": 186,
     "metadata": {},
     "output_type": "execute_result"
    }
   ],
   "source": [
    "df.isna().sum()"
   ]
  },
  {
   "cell_type": "code",
   "execution_count": 188,
   "id": "55c500a4-0f48-469e-8d42-51de3ba995ab",
   "metadata": {},
   "outputs": [
    {
     "data": {
      "text/plain": [
       "Index(['Year', 'Quarter', 'Month', 'Day', 'Country/Region',\n",
       "       'Aircraft Manufacturer', 'Aircraft', 'Location', 'Operator', 'Ground',\n",
       "       'Fatalities (air)', 'Aboard', 'survival_rate'],\n",
       "      dtype='object')"
      ]
     },
     "execution_count": 188,
     "metadata": {},
     "output_type": "execute_result"
    }
   ],
   "source": [
    "df.columns"
   ]
  },
  {
   "cell_type": "code",
   "execution_count": 190,
   "id": "bf8a4f2a-2694-4eae-b98e-a0675a064bbd",
   "metadata": {},
   "outputs": [
    {
     "data": {
      "text/html": [
       "<div>\n",
       "<style scoped>\n",
       "    .dataframe tbody tr th:only-of-type {\n",
       "        vertical-align: middle;\n",
       "    }\n",
       "\n",
       "    .dataframe tbody tr th {\n",
       "        vertical-align: top;\n",
       "    }\n",
       "\n",
       "    .dataframe thead th {\n",
       "        text-align: right;\n",
       "    }\n",
       "</style>\n",
       "<table border=\"1\" class=\"dataframe\">\n",
       "  <thead>\n",
       "    <tr style=\"text-align: right;\">\n",
       "      <th></th>\n",
       "      <th>Country/Region</th>\n",
       "      <th>Operator</th>\n",
       "    </tr>\n",
       "  </thead>\n",
       "  <tbody>\n",
       "    <tr>\n",
       "      <th>0</th>\n",
       "      <td>NaN</td>\n",
       "      <td>Airlines Australia GuineaTrans New</td>\n",
       "    </tr>\n",
       "    <tr>\n",
       "      <th>1</th>\n",
       "      <td>NaN</td>\n",
       "      <td>Airways IndiaDeccan</td>\n",
       "    </tr>\n",
       "    <tr>\n",
       "      <th>2</th>\n",
       "      <td>NaN</td>\n",
       "      <td>(UK) Airlines International SwitzerlandInvicta</td>\n",
       "    </tr>\n",
       "    <tr>\n",
       "      <th>3</th>\n",
       "      <td>unknown</td>\n",
       "      <td>Airlines Centrafricain</td>\n",
       "    </tr>\n",
       "    <tr>\n",
       "      <th>4</th>\n",
       "      <td>unknown</td>\n",
       "      <td>Force Air Royal</td>\n",
       "    </tr>\n",
       "    <tr>\n",
       "      <th>...</th>\n",
       "      <td>...</td>\n",
       "      <td>...</td>\n",
       "    </tr>\n",
       "    <tr>\n",
       "      <th>5030</th>\n",
       "      <td>Zaire</td>\n",
       "      <td>Force Air Zairean - Military</td>\n",
       "    </tr>\n",
       "    <tr>\n",
       "      <th>5031</th>\n",
       "      <td>Zaire</td>\n",
       "      <td>Commuter Air TMK</td>\n",
       "    </tr>\n",
       "    <tr>\n",
       "      <th>5032</th>\n",
       "      <td>Zaire</td>\n",
       "      <td>Services Aero MMM</td>\n",
       "    </tr>\n",
       "    <tr>\n",
       "      <th>5033</th>\n",
       "      <td>Zaire</td>\n",
       "      <td>Zaïroise Aérienne Force - Military</td>\n",
       "    </tr>\n",
       "    <tr>\n",
       "      <th>5034</th>\n",
       "      <td>Zambia</td>\n",
       "      <td>Sweden Transair</td>\n",
       "    </tr>\n",
       "  </tbody>\n",
       "</table>\n",
       "<p>5035 rows × 2 columns</p>\n",
       "</div>"
      ],
      "text/plain": [
       "     Country/Region                                        Operator\n",
       "0               NaN              Airlines Australia GuineaTrans New\n",
       "1               NaN                             Airways IndiaDeccan\n",
       "2               NaN  (UK) Airlines International SwitzerlandInvicta\n",
       "3           unknown                          Airlines Centrafricain\n",
       "4           unknown                                 Force Air Royal\n",
       "...             ...                                             ...\n",
       "5030          Zaire                    Force Air Zairean - Military\n",
       "5031          Zaire                                Commuter Air TMK\n",
       "5032          Zaire                               Services Aero MMM\n",
       "5033          Zaire              Zaïroise Aérienne Force - Military\n",
       "5034         Zambia                                 Sweden Transair\n",
       "\n",
       "[5035 rows x 2 columns]"
      ]
     },
     "execution_count": 190,
     "metadata": {},
     "output_type": "execute_result"
    }
   ],
   "source": [
    "df[['Country/Region', 'Operator']]"
   ]
  },
  {
   "cell_type": "code",
   "execution_count": 192,
   "id": "e8223d66-9c35-45d4-95bf-b167c1dab1e2",
   "metadata": {},
   "outputs": [],
   "source": [
    "# will replace the Null values in both 'country/region' & 'operator' column with \"Unknown\"\n",
    "\n",
    "df['Country/Region'].fillna(\"unknown\", inplace = True)"
   ]
  },
  {
   "cell_type": "code",
   "execution_count": 194,
   "id": "eae46eab-75a2-4dfe-95dd-113215f89c00",
   "metadata": {},
   "outputs": [
    {
     "data": {
      "text/plain": [
       "Year                       0\n",
       "Quarter                    0\n",
       "Month                      0\n",
       "Day                        0\n",
       "Country/Region             0\n",
       "Aircraft Manufacturer      0\n",
       "Aircraft                   0\n",
       "Location                   0\n",
       "Operator                 234\n",
       "Ground                     0\n",
       "Fatalities (air)           0\n",
       "Aboard                     0\n",
       "survival_rate              0\n",
       "dtype: int64"
      ]
     },
     "execution_count": 194,
     "metadata": {},
     "output_type": "execute_result"
    }
   ],
   "source": [
    "df.isna().sum()"
   ]
  },
  {
   "cell_type": "code",
   "execution_count": 196,
   "id": "1556823a-baa5-4f80-8d3f-e825aea22a36",
   "metadata": {},
   "outputs": [
    {
     "name": "stderr",
     "output_type": "stream",
     "text": [
      "C:\\Users\\JOEL\\AppData\\Local\\Temp\\ipykernel_23652\\1517162253.py:1: FutureWarning: A value is trying to be set on a copy of a DataFrame or Series through chained assignment using an inplace method.\n",
      "The behavior will change in pandas 3.0. This inplace method will never work because the intermediate object on which we are setting values always behaves as a copy.\n",
      "\n",
      "For example, when doing 'df[col].method(value, inplace=True)', try using 'df.method({col: value}, inplace=True)' or df[col] = df[col].method(value) instead, to perform the operation inplace on the original object.\n",
      "\n",
      "\n",
      "  df['Operator'].fillna(\"unknown\", inplace = True)\n"
     ]
    }
   ],
   "source": [
    "df['Operator'].fillna(\"unknown\", inplace = True)"
   ]
  },
  {
   "cell_type": "code",
   "execution_count": 198,
   "id": "3a3ee1d4-d1ff-40e2-9cfa-cfa54a2b1322",
   "metadata": {},
   "outputs": [],
   "source": [
    "df.fillna({'Operator': \"unknown\"}, inplace = True)"
   ]
  },
  {
   "cell_type": "code",
   "execution_count": 200,
   "id": "f22335e8-8b0d-4a01-8a56-c490b950d7a9",
   "metadata": {},
   "outputs": [
    {
     "data": {
      "text/html": [
       "<div>\n",
       "<style scoped>\n",
       "    .dataframe tbody tr th:only-of-type {\n",
       "        vertical-align: middle;\n",
       "    }\n",
       "\n",
       "    .dataframe tbody tr th {\n",
       "        vertical-align: top;\n",
       "    }\n",
       "\n",
       "    .dataframe thead th {\n",
       "        text-align: right;\n",
       "    }\n",
       "</style>\n",
       "<table border=\"1\" class=\"dataframe\">\n",
       "  <thead>\n",
       "    <tr style=\"text-align: right;\">\n",
       "      <th></th>\n",
       "      <th>Year</th>\n",
       "      <th>Quarter</th>\n",
       "      <th>Month</th>\n",
       "      <th>Day</th>\n",
       "      <th>Country/Region</th>\n",
       "      <th>Aircraft Manufacturer</th>\n",
       "      <th>Aircraft</th>\n",
       "      <th>Location</th>\n",
       "      <th>Operator</th>\n",
       "      <th>Ground</th>\n",
       "      <th>Fatalities (air)</th>\n",
       "      <th>Aboard</th>\n",
       "      <th>survival_rate</th>\n",
       "    </tr>\n",
       "  </thead>\n",
       "  <tbody>\n",
       "    <tr>\n",
       "      <th>0</th>\n",
       "      <td>1970</td>\n",
       "      <td>Qtr 2</td>\n",
       "      <td>April</td>\n",
       "      <td>28</td>\n",
       "      <td>unknown</td>\n",
       "      <td>de Havilland Canada</td>\n",
       "      <td>de Havilland Canada DHC 6 Twin Otter 100VH</td>\n",
       "      <td>Kainatu</td>\n",
       "      <td>Airlines Australia GuineaTrans New</td>\n",
       "      <td>0</td>\n",
       "      <td>8</td>\n",
       "      <td>11</td>\n",
       "      <td>3</td>\n",
       "    </tr>\n",
       "    <tr>\n",
       "      <th>1</th>\n",
       "      <td>1952</td>\n",
       "      <td>Qtr 2</td>\n",
       "      <td>April</td>\n",
       "      <td>30</td>\n",
       "      <td>unknown</td>\n",
       "      <td>Douglas</td>\n",
       "      <td>Douglas DC 3VT</td>\n",
       "      <td>Delhi</td>\n",
       "      <td>Airways IndiaDeccan</td>\n",
       "      <td>0</td>\n",
       "      <td>9</td>\n",
       "      <td>9</td>\n",
       "      <td>0</td>\n",
       "    </tr>\n",
       "    <tr>\n",
       "      <th>2</th>\n",
       "      <td>1973</td>\n",
       "      <td>Qtr 2</td>\n",
       "      <td>April</td>\n",
       "      <td>10</td>\n",
       "      <td>unknown</td>\n",
       "      <td>Vickers Vanguard</td>\n",
       "      <td>Vickers Vanguard 952G AXOP</td>\n",
       "      <td>Near Basel</td>\n",
       "      <td>(UK) Airlines International SwitzerlandInvicta</td>\n",
       "      <td>0</td>\n",
       "      <td>108</td>\n",
       "      <td>145</td>\n",
       "      <td>37</td>\n",
       "    </tr>\n",
       "    <tr>\n",
       "      <th>3</th>\n",
       "      <td>2000</td>\n",
       "      <td>Qtr 2</td>\n",
       "      <td>April</td>\n",
       "      <td>19</td>\n",
       "      <td>unknown</td>\n",
       "      <td>Antonov</td>\n",
       "      <td>Antonov AN 8TL</td>\n",
       "      <td>Pepa  -</td>\n",
       "      <td>Airlines Centrafricain</td>\n",
       "      <td>0</td>\n",
       "      <td>24</td>\n",
       "      <td>24</td>\n",
       "      <td>0</td>\n",
       "    </tr>\n",
       "    <tr>\n",
       "      <th>4</th>\n",
       "      <td>1946</td>\n",
       "      <td>Qtr 2</td>\n",
       "      <td>April</td>\n",
       "      <td>30</td>\n",
       "      <td>unknown</td>\n",
       "      <td>Douglas</td>\n",
       "      <td>Douglas C 47A FZ559</td>\n",
       "      <td>Pindi-Khut  -</td>\n",
       "      <td>Force Air Royal</td>\n",
       "      <td>0</td>\n",
       "      <td>12</td>\n",
       "      <td>12</td>\n",
       "      <td>0</td>\n",
       "    </tr>\n",
       "  </tbody>\n",
       "</table>\n",
       "</div>"
      ],
      "text/plain": [
       "   Year Quarter  Month  Day Country/Region Aircraft Manufacturer  \\\n",
       "0  1970   Qtr 2  April   28        unknown   de Havilland Canada   \n",
       "1  1952   Qtr 2  April   30        unknown               Douglas   \n",
       "2  1973   Qtr 2  April   10        unknown      Vickers Vanguard   \n",
       "3  2000   Qtr 2  April   19        unknown               Antonov   \n",
       "4  1946   Qtr 2  April   30        unknown               Douglas   \n",
       "\n",
       "                                     Aircraft       Location  \\\n",
       "0  de Havilland Canada DHC 6 Twin Otter 100VH        Kainatu   \n",
       "1                              Douglas DC 3VT          Delhi   \n",
       "2                  Vickers Vanguard 952G AXOP     Near Basel   \n",
       "3                              Antonov AN 8TL        Pepa  -   \n",
       "4                         Douglas C 47A FZ559  Pindi-Khut  -   \n",
       "\n",
       "                                         Operator  Ground  Fatalities (air)  \\\n",
       "0              Airlines Australia GuineaTrans New       0                 8   \n",
       "1                             Airways IndiaDeccan       0                 9   \n",
       "2  (UK) Airlines International SwitzerlandInvicta       0               108   \n",
       "3                          Airlines Centrafricain       0                24   \n",
       "4                                 Force Air Royal       0                12   \n",
       "\n",
       "   Aboard  survival_rate  \n",
       "0      11              3  \n",
       "1       9              0  \n",
       "2     145             37  \n",
       "3      24              0  \n",
       "4      12              0  "
      ]
     },
     "execution_count": 200,
     "metadata": {},
     "output_type": "execute_result"
    }
   ],
   "source": [
    "df.head()"
   ]
  },
  {
   "cell_type": "code",
   "execution_count": 202,
   "id": "7d8f4e87-9c96-462b-99c9-00a3fc50baae",
   "metadata": {},
   "outputs": [
    {
     "data": {
      "text/plain": [
       "Year                     0\n",
       "Quarter                  0\n",
       "Month                    0\n",
       "Day                      0\n",
       "Country/Region           0\n",
       "Aircraft Manufacturer    0\n",
       "Aircraft                 0\n",
       "Location                 0\n",
       "Operator                 0\n",
       "Ground                   0\n",
       "Fatalities (air)         0\n",
       "Aboard                   0\n",
       "survival_rate            0\n",
       "dtype: int64"
      ]
     },
     "execution_count": 202,
     "metadata": {},
     "output_type": "execute_result"
    }
   ],
   "source": [
    "df.isna().sum()"
   ]
  },
  {
   "cell_type": "code",
   "execution_count": 204,
   "id": "66a8fb56-29d7-4efd-8b54-fd52f5186641",
   "metadata": {},
   "outputs": [
    {
     "name": "stdout",
     "output_type": "stream",
     "text": [
      "<class 'pandas.core.frame.DataFrame'>\n",
      "RangeIndex: 5035 entries, 0 to 5034\n",
      "Data columns (total 13 columns):\n",
      " #   Column                 Non-Null Count  Dtype \n",
      "---  ------                 --------------  ----- \n",
      " 0   Year                   5035 non-null   int64 \n",
      " 1   Quarter                5035 non-null   object\n",
      " 2   Month                  5035 non-null   object\n",
      " 3   Day                    5035 non-null   int64 \n",
      " 4   Country/Region         5035 non-null   object\n",
      " 5   Aircraft Manufacturer  5035 non-null   object\n",
      " 6   Aircraft               5035 non-null   object\n",
      " 7   Location               5035 non-null   object\n",
      " 8   Operator               5035 non-null   object\n",
      " 9   Ground                 5035 non-null   int64 \n",
      " 10  Fatalities (air)       5035 non-null   int64 \n",
      " 11  Aboard                 5035 non-null   int64 \n",
      " 12  survival_rate          5035 non-null   int64 \n",
      "dtypes: int64(6), object(7)\n",
      "memory usage: 511.5+ KB\n"
     ]
    }
   ],
   "source": [
    "df.info()"
   ]
  },
  {
   "cell_type": "code",
   "execution_count": 206,
   "id": "0d7f91f1-4912-4bdf-be19-fa0b55c0ce3b",
   "metadata": {},
   "outputs": [
    {
     "data": {
      "text/plain": [
       "0"
      ]
     },
     "execution_count": 206,
     "metadata": {},
     "output_type": "execute_result"
    }
   ],
   "source": [
    "df['Country/Region'].isna().sum()"
   ]
  },
  {
   "cell_type": "code",
   "execution_count": 208,
   "id": "c82a8099-bb40-4851-abdc-641081cbd0e9",
   "metadata": {},
   "outputs": [
    {
     "data": {
      "text/html": [
       "<div>\n",
       "<style scoped>\n",
       "    .dataframe tbody tr th:only-of-type {\n",
       "        vertical-align: middle;\n",
       "    }\n",
       "\n",
       "    .dataframe tbody tr th {\n",
       "        vertical-align: top;\n",
       "    }\n",
       "\n",
       "    .dataframe thead th {\n",
       "        text-align: right;\n",
       "    }\n",
       "</style>\n",
       "<table border=\"1\" class=\"dataframe\">\n",
       "  <thead>\n",
       "    <tr style=\"text-align: right;\">\n",
       "      <th></th>\n",
       "      <th>Year</th>\n",
       "      <th>Quarter</th>\n",
       "      <th>Month</th>\n",
       "      <th>Day</th>\n",
       "      <th>Country/Region</th>\n",
       "      <th>Aircraft Manufacturer</th>\n",
       "      <th>Aircraft</th>\n",
       "      <th>Location</th>\n",
       "      <th>Operator</th>\n",
       "      <th>Ground</th>\n",
       "      <th>Fatalities (air)</th>\n",
       "      <th>Aboard</th>\n",
       "      <th>survival_rate</th>\n",
       "    </tr>\n",
       "  </thead>\n",
       "  <tbody>\n",
       "    <tr>\n",
       "      <th>0</th>\n",
       "      <td>1970</td>\n",
       "      <td>Qtr 2</td>\n",
       "      <td>April</td>\n",
       "      <td>28</td>\n",
       "      <td>unknown</td>\n",
       "      <td>de Havilland Canada</td>\n",
       "      <td>de Havilland Canada DHC 6 Twin Otter 100VH</td>\n",
       "      <td>Kainatu</td>\n",
       "      <td>Airlines Australia GuineaTrans New</td>\n",
       "      <td>0</td>\n",
       "      <td>8</td>\n",
       "      <td>11</td>\n",
       "      <td>3</td>\n",
       "    </tr>\n",
       "    <tr>\n",
       "      <th>1</th>\n",
       "      <td>1952</td>\n",
       "      <td>Qtr 2</td>\n",
       "      <td>April</td>\n",
       "      <td>30</td>\n",
       "      <td>unknown</td>\n",
       "      <td>Douglas</td>\n",
       "      <td>Douglas DC 3VT</td>\n",
       "      <td>Delhi</td>\n",
       "      <td>Airways IndiaDeccan</td>\n",
       "      <td>0</td>\n",
       "      <td>9</td>\n",
       "      <td>9</td>\n",
       "      <td>0</td>\n",
       "    </tr>\n",
       "    <tr>\n",
       "      <th>2</th>\n",
       "      <td>1973</td>\n",
       "      <td>Qtr 2</td>\n",
       "      <td>April</td>\n",
       "      <td>10</td>\n",
       "      <td>unknown</td>\n",
       "      <td>Vickers Vanguard</td>\n",
       "      <td>Vickers Vanguard 952G AXOP</td>\n",
       "      <td>Near Basel</td>\n",
       "      <td>(UK) Airlines International SwitzerlandInvicta</td>\n",
       "      <td>0</td>\n",
       "      <td>108</td>\n",
       "      <td>145</td>\n",
       "      <td>37</td>\n",
       "    </tr>\n",
       "    <tr>\n",
       "      <th>3</th>\n",
       "      <td>2000</td>\n",
       "      <td>Qtr 2</td>\n",
       "      <td>April</td>\n",
       "      <td>19</td>\n",
       "      <td>unknown</td>\n",
       "      <td>Antonov</td>\n",
       "      <td>Antonov AN 8TL</td>\n",
       "      <td>Pepa  -</td>\n",
       "      <td>Airlines Centrafricain</td>\n",
       "      <td>0</td>\n",
       "      <td>24</td>\n",
       "      <td>24</td>\n",
       "      <td>0</td>\n",
       "    </tr>\n",
       "    <tr>\n",
       "      <th>4</th>\n",
       "      <td>1946</td>\n",
       "      <td>Qtr 2</td>\n",
       "      <td>April</td>\n",
       "      <td>30</td>\n",
       "      <td>unknown</td>\n",
       "      <td>Douglas</td>\n",
       "      <td>Douglas C 47A FZ559</td>\n",
       "      <td>Pindi-Khut  -</td>\n",
       "      <td>Force Air Royal</td>\n",
       "      <td>0</td>\n",
       "      <td>12</td>\n",
       "      <td>12</td>\n",
       "      <td>0</td>\n",
       "    </tr>\n",
       "  </tbody>\n",
       "</table>\n",
       "</div>"
      ],
      "text/plain": [
       "   Year Quarter  Month  Day Country/Region Aircraft Manufacturer  \\\n",
       "0  1970   Qtr 2  April   28        unknown   de Havilland Canada   \n",
       "1  1952   Qtr 2  April   30        unknown               Douglas   \n",
       "2  1973   Qtr 2  April   10        unknown      Vickers Vanguard   \n",
       "3  2000   Qtr 2  April   19        unknown               Antonov   \n",
       "4  1946   Qtr 2  April   30        unknown               Douglas   \n",
       "\n",
       "                                     Aircraft       Location  \\\n",
       "0  de Havilland Canada DHC 6 Twin Otter 100VH        Kainatu   \n",
       "1                              Douglas DC 3VT          Delhi   \n",
       "2                  Vickers Vanguard 952G AXOP     Near Basel   \n",
       "3                              Antonov AN 8TL        Pepa  -   \n",
       "4                         Douglas C 47A FZ559  Pindi-Khut  -   \n",
       "\n",
       "                                         Operator  Ground  Fatalities (air)  \\\n",
       "0              Airlines Australia GuineaTrans New       0                 8   \n",
       "1                             Airways IndiaDeccan       0                 9   \n",
       "2  (UK) Airlines International SwitzerlandInvicta       0               108   \n",
       "3                          Airlines Centrafricain       0                24   \n",
       "4                                 Force Air Royal       0                12   \n",
       "\n",
       "   Aboard  survival_rate  \n",
       "0      11              3  \n",
       "1       9              0  \n",
       "2     145             37  \n",
       "3      24              0  \n",
       "4      12              0  "
      ]
     },
     "execution_count": 208,
     "metadata": {},
     "output_type": "execute_result"
    }
   ],
   "source": [
    "df.head()"
   ]
  },
  {
   "cell_type": "code",
   "execution_count": 210,
   "id": "a659f027-ab88-4a6c-a0f0-16e9c519ec65",
   "metadata": {},
   "outputs": [],
   "source": [
    "df.loc[:,\"Country/Region\"] = df.loc[:,\"Country/Region\"].str.replace(\"'-\", \"unknown\").str.replace('The', 'unknown').str.replace(\"?\", '').str.replace('Djibouti\\tDjibouti', 'Djibouti').str.replace('Tajikistan\\tMilitary', 'Tajikistan').str.replace(\"Prov.\", \"Province\").str.replace(\"Surrey\", \"unknown\").str.replace('10', 'unknown').str.replace('Black', 'unknown').str.replace(\"Norway\\tCHC\", \"Norway\").str.replace(\"Brazil\\tAmazonaves\", \"Brazil\").str.replace(\"India\\tPawan\", \"India\").str.replace('110', 'unknown').str.replace(\"116\", \"unknown\").str.replace(\"\\r\\n\", '').str.replace(\"unknown0\", \"unknown\").str.replace(\"Brazil\\tLoide\", \"Brazil\").str.replace('near', 'unknown').str.replace('miles', 'unknown').str.replace(\"Reunion\", \"unknown\").str.replace(\"Virginia.American\", \"Virginia\").str.replace(\"SC\", \"Scotland\").str.replace(\"DR\", \"Dominican Republic\").str.replace(\"US\", \"United States\").str.replace('Inner', 'unknown').str.replace(\"Chile\\tAerolineas\", \"unknown\").str.replace(\"Volcano\", \"unknown\").str.replace(\"18\", \"unknown\").str.replace(\"Newfoundlandu.s.\", \"unknown\").str.replace('N', \"unknown\").str.replace(\"1unknown\", \"unknown\").str.replace(\"570\", \"unknown\").str.replace(\"800\", \"unknown\").str.replace(\"325\", \"unknown\").explode().str.strip()"
   ]
  },
  {
   "cell_type": "code",
   "execution_count": 212,
   "id": "0cff6340-e705-495a-b93f-d6f0a72367fe",
   "metadata": {},
   "outputs": [
    {
     "data": {
      "text/plain": [
       "array(['unknown', 'Alaska', 'Afghanistan', 'Aichi', 'Algeria', 'Angola',\n",
       "       'Argentina', 'Australia', 'Azerbaijan', 'Bahamas', 'Bali',\n",
       "       'Belgian', 'Bolivia', 'Botswana', 'Brazil', 'British', 'Calabria',\n",
       "       'California', 'Cameroon', 'Cameroons', 'Canada', 'Canary',\n",
       "       'Channel', 'Chechnya', 'Chile', 'China', 'Colombia', 'Colorado',\n",
       "       'Congo', 'Croatia', 'Cyprus', 'Democratic', 'East', 'Ecuador',\n",
       "       'England', 'Equatorial', 'Estonia', 'Ethiopia', 'Finland',\n",
       "       'Florida', 'France', 'French', 'Gambia', 'Georgia', 'Germany',\n",
       "       'Ghana', 'Greece', 'Greenland', 'Guangxi', 'Guatemala', 'Guyana',\n",
       "       'Hawaii', 'Honduras', 'Hong', 'Idaho', 'India', 'Indiana',\n",
       "       'Indonesia', 'Iowa', 'Iran', 'Iraq', 'Ireland', 'Isle', 'Italy',\n",
       "       'Jamaica', 'Japan', 'Jordan', 'Kansas', 'Kenya', 'Laos', 'Libya',\n",
       "       'London', 'Madagascar', 'Malta', 'Mexico', 'Michigan', 'Moldova',\n",
       "       'Mongolia', 'Morocco', 'unknownetherlands', 'unknownevada',\n",
       "       'unknownew', 'unknownewfoundland', 'unknownicaragua',\n",
       "       'unknowniger', 'unknownigeria', 'unknownorth', 'unknownorthern',\n",
       "       'unknownorway', 'unknownYUnited States', 'Ohio', 'Oklahoma',\n",
       "       'Ounknown', 'Pakistan', 'Panama', 'Papua', 'Pennsylvania', 'Peru',\n",
       "       'Philippines', 'Poland', 'Puerto', 'Quebec', 'Russia', 'Rwanda',\n",
       "       'Sarawak', 'Saudi', 'Scotland', 'Senegal', 'SK', 'Somalia',\n",
       "       'South', 'South-West', 'Spain', 'Sri', 'Sudan', 'Suriname',\n",
       "       'Switzerland', 'Syria', 'Taiwan', 'Tennesee', 'Tennessee', 'Texas',\n",
       "       'Thailand', 'Trinidad', 'Turkey', 'Ukraine',\n",
       "       'United StatesSRAeroflot', 'Venezuela', 'Vietnam', 'Virgin',\n",
       "       'Washington', 'West', 'Wyoming', 'Yugoslavia', 'Zaire', 'Alabama',\n",
       "       'Alaksa', 'Arizona', 'Arkansas', 'Australila', 'Azores', 'Bahrain',\n",
       "       'Bangladesh', 'BC', 'Belgium', 'Bias', 'Bulgaria', 'Burma', 'Cape',\n",
       "       'Connecticut', 'Cook', 'Costa', 'Cuba', 'Czechoslovakia',\n",
       "       'Denmark', 'Egypt', 'Guam', 'Guantanamo', 'Haiti', 'Hungary',\n",
       "       'Iceland', 'Illinois', 'Kazakastan', 'Kent', 'Kentucky',\n",
       "       'Kyrgyzstan', 'Lebanon', 'Leeward', 'Louisiana', 'Maine',\n",
       "       'Malaysia', 'Manitoba', 'Martinique', 'Maryland', 'Massachusetts',\n",
       "       'Mauretania', 'Miao-li', 'Minnesota', 'Mississippi', 'Missouri',\n",
       "       'Montana', 'Myanmar', 'unknownebraska', 'unknownepal',\n",
       "       'unknownunavut', 'Oman', 'Oregon', 'Paraguay', 'Persian', 'PQ',\n",
       "       'Romania', 'San', 'Spain\\tMoron', 'Sweden', 'Tajikistan',\n",
       "       'Tanzania', 'Terceira', 'United', 'Upper', 'Utah', 'Uzbekistan',\n",
       "       'Västergötland', 'Vera', 'Vermont', 'Virginia', 'Wisconsin',\n",
       "       'Yemen', 'Yugosalvia', 'Airlines', 'Algarve', 'Armenia',\n",
       "       'Atlantic', 'Austria', 'Ayrshire', 'Beni', 'Benin', 'Bermuda',\n",
       "       'Brunei', 'Bugaria', 'Chicago', 'Coloado', 'Comoros', 'Condor',\n",
       "       'Corsica', 'Curacao', 'D.C.Capital', 'Da', 'Fiji', 'Huanuco',\n",
       "       'Jiangsu', 'Kazakhstan', 'Kodiak', 'Kuwait', 'Labrador', 'Latvia',\n",
       "       'Mariana', 'Mauritania', 'unknownorthwest', 'unknownWT', 'off',\n",
       "       'Okinawa', 'Ontario', 'Portugal', 'Qatar', 'Saskatchewan',\n",
       "       'Sicily', 'Slovakia', 'Uzbekstan', 'Valle', 'WA',\n",
       "       'WYUnited States', 'Zimbabwe', 'Alberta', 'Argentinade', 'Belarus',\n",
       "       'Bosnia-Herzegovina', 'Brisbane', 'Buea', 'Californiia',\n",
       "       'Columbia', 'Crete', 'Delaware', 'Djbouti', 'Domincan',\n",
       "       'Dominican', 'El', 'Hati', 'HIPan', 'Indonesia\\tSarmi', 'Lancs',\n",
       "       'Liberia', 'Los', 'Mali', 'Margarita', 'Minnisota', 'Mozambique',\n",
       "       'unknownSW', 'Pacific', 'PE', 'Queensland', 'Rhode', 'Rhodesia',\n",
       "       'Rio', 'Trento', 'Tunisia', 'UARMisrair', 'Uruguay', 'Victoria',\n",
       "       'Vizcaya', 'Wantagh', 'Warks', 'Wisconson', 'Zambia',\n",
       "       'unknownWT Canada', 'Air', 'American', 'Ariège', 'Barbados',\n",
       "       'Besar', 'Boliva', 'Boliviano', 'Comoro', 'Covington',\n",
       "       'Cundinamarca', 'Czech', 'D.C.Air', 'Dutch', 'Gabon', 'Horley',\n",
       "       'Hunary', 'Ilinois', 'Inodnesia', 'Ivory', 'Jamacia',\n",
       "       'Lochgoilhead', 'Lombok', 'Macedonia', 'Maharashtra', 'Marine',\n",
       "       'Minnesota46826/unknown9', 'unknownE', 'unknownorrbotten', 'Qld',\n",
       "       'Samoa', 'Sardinia', 'Siberia', 'Sichuan', 'Suiyang', 'Sumatra',\n",
       "       'Timor', 'U.S.', 'Uganda', 'Veracruz', 'Western', 'Yukon',\n",
       "       'Alakska', 'Azuay', 'Baangladesh', 'Boston', 'Bulgeria', 'Cargo',\n",
       "       'Central', 'Eritrea', 'Gerona', 'Gilbert', 'Guinea', 'Gujarat',\n",
       "       'HIAir', 'Indian', 'Irian', 'Jersey', 'Lorraine', 'Malagasy',\n",
       "       'Manmar', 'Middlesex', 'Mississipi', 'unknownorfork', 'Orly',\n",
       "       'Para', 'Shetlands', 'Sulu', 'Tahiti', 'UKBritish', 'Vanuatu',\n",
       "       'Amsterdam', 'Bavaria', 'Cambodia', 'Chad', 'Cheshire',\n",
       "       'Covington/Hebron', 'Great', 'Guadaloupe', 'Gulf', 'Islay',\n",
       "       'Khmer', 'Lombardia', 'Manatoba', 'Mount', 'unknownamibia',\n",
       "       'unknownapal', 'unknownuevo', 'OLD', 'QC', 'Qld.', 'Ryukyu',\n",
       "       'Saudia', 'Sierra', 'Slovenia', 'Surinam', 'Tokyo', 'Val-de-Marne',\n",
       "       'Albania', 'Azerbaijan\\tBakou', 'CADuncan', 'Cailifornia',\n",
       "       'Calilfornia', 'Cardiff', 'Cocos', 'Guadeloupe', 'Kauai',\n",
       "       'Massachutes', 'Mexic', 'Mt.', 'unknownova', 'Philippine',\n",
       "       'Providencia', 'Republic', 'Sierre', 'Singapore', 'Soviet', 'St.',\n",
       "       'Tanganyika', 'Tasmania', 'Turkmenistan', 'United StatesSRBalkan',\n",
       "       'Zulia', 'Airzona', 'Aregntina', 'BrazilFlorianopolis', 'Catalina',\n",
       "       'Djibouti', 'Dorset', 'FL', 'Guanacaste', 'Hants', 'Madrid',\n",
       "       'Miami', 'Moldavia', 'Philipines', 'Picrdie', 'Province', 'Queens',\n",
       "       'United States', 'Aaland', 'Afghanstan', 'Bhutan', 'CAMilitary',\n",
       "       'de', 'Glens', 'Guernsey', 'Huila', 'Island', 'Jeddah', 'Kosovo',\n",
       "       'Lesotho', 'Luxembourg', 'Malawi', 'Malinau', 'Molokai',\n",
       "       'unknownambia', 'Ross', 'Saint', 'Sussex',\n",
       "       'United StatesSRMilitary', 'Washingon', 'Yunan',\n",
       "       'Dominican Republic', 'Ellesmere', 'Granada', 'Italyde', 'Jawa',\n",
       "       'Kirghizia', 'Loire', 'Malaya', 'Placentia', 'Solomon',\n",
       "       'United StatesSRAerflot', 'Aargau', 'Africa', 'AKAlaska', 'Argyll',\n",
       "       'Biafra', 'Buckinghamshire', 'Deleware', 'Democtratic', 'Faeroe',\n",
       "       'Hrvatska', 'Marshall', 'Micronesia', 'Montserrat', 'Morroco',\n",
       "       'Oltenia', 'Phillipines', 'Russian', 'Sao', 'Stirlingshire',\n",
       "       'Tusayan', 'UAEGulf', 'Zabul'], dtype=object)"
      ]
     },
     "execution_count": 212,
     "metadata": {},
     "output_type": "execute_result"
    }
   ],
   "source": [
    "df['Country/Region'].unique()"
   ]
  },
  {
   "cell_type": "code",
   "execution_count": 214,
   "id": "00c04010-e55b-45ba-a7f7-b8e190e3bbc4",
   "metadata": {},
   "outputs": [
    {
     "data": {
      "text/plain": [
       "array(['unknown', 'Alaska', 'Afghanistan', 'Aichi', 'Algeria', 'Angola',\n",
       "       'Argentina', 'Australia', 'Azerbaijan', 'Bahamas', 'Bali',\n",
       "       'Belgian', 'Bolivia', 'Botswana', 'Brazil', 'British', 'Calabria',\n",
       "       'California', 'Cameroon', 'Cameroons', 'Canada', 'Canary',\n",
       "       'Chechnya', 'Chile', 'China', 'Colombia', 'Colorado', 'Congo',\n",
       "       'Croatia', 'Cyprus', 'Democratic', 'East', 'Ecuador', 'England',\n",
       "       'Equatorial', 'Estonia', 'Ethiopia', 'Finland', 'Florida',\n",
       "       'France', 'French', 'Gambia', 'Georgia', 'Germany', 'Ghana',\n",
       "       'Greece', 'Greenland', 'Guangxi', 'Guatemala', 'Guyana', 'Hawaii',\n",
       "       'Honduras', 'Hong', 'Idaho', 'India', 'Indiana', 'Indonesia',\n",
       "       'Iowa', 'Iran', 'Iraq', 'Ireland', 'Isle', 'Italy', 'Jamaica',\n",
       "       'Japan', 'Jordan', 'Kansas', 'Kenya', 'Laos', 'Libya', 'London',\n",
       "       'Madagascar', 'Malta', 'Mexico', 'Michigan', 'Moldova', 'Mongolia',\n",
       "       'Morocco', 'Netherlands', 'Nevada', 'Newfoundland', 'Nicaragua',\n",
       "       'Niger', 'Nigeria', 'North', 'Norway', 'United States', 'Ohio',\n",
       "       'Oklahoma', 'Pakistan', 'Panama', 'Papua', 'Pennsylvania', 'Peru',\n",
       "       'Philippines', 'Poland', 'Puerto', 'Quebec', 'Russia', 'Rwanda',\n",
       "       'Sarawak', 'Saudi', 'Scotland', 'Senegal', 'Saskatchewan',\n",
       "       'Somalia', 'South', 'South-West', 'Spain', 'Sri Lanka', 'Sudan',\n",
       "       'Suriname', 'Switzerland', 'Syria', 'Taiwan', 'Tennesee',\n",
       "       'Tennessee', 'Texas', 'Thailand', 'Trinidad', 'Turkey', 'Ukraine',\n",
       "       'United StatesSRAeroflot', 'Venezuela', 'Vietnam', 'Virgin',\n",
       "       'Washington', 'West', 'Wyoming', 'Yugoslavia', 'Zaire', 'Alabama',\n",
       "       'Alaksa', 'Arizona', 'Arkansas', 'Australila', 'Azores', 'Bahrain',\n",
       "       'Bangladesh', 'British Columbia', 'Belgium', 'Bias', 'Bulgaria',\n",
       "       'Burma', 'Cape', 'Connecticut', 'Cook', 'Costa', 'Cuba',\n",
       "       'Czechoslovakia', 'Denmark', 'Egypt', 'Guam', 'Guantanamo',\n",
       "       'Haiti', 'Hungary', 'Iceland', 'Illinois', 'Kazakastan', 'Kent',\n",
       "       'Kentucky', 'Kyrgyzstan', 'Lebanon', 'Leeward', 'Louisiana',\n",
       "       'Maine', 'Malaysia', 'Manitoba', 'Martinique', 'Maryland',\n",
       "       'Massachusetts', 'Mauretania', 'Miao-li', 'Minnesota',\n",
       "       'Mississippi', 'Missouri', 'Montana', 'Myanmar', 'Ebraska', 'Epal',\n",
       "       'Unavut', 'Oman', 'Oregon', 'Paraguay', 'Persian', 'Romania',\n",
       "       'San Francisco', 'Sweden', 'Tajikistan', 'Tanzania', 'Terceira',\n",
       "       'Utah', 'Uzbekistan', 'Västergötland', 'Vera', 'Vermont',\n",
       "       'Virginia', 'Wisconsin', 'Yemen', 'Yugosalvia', 'Algarve',\n",
       "       'Armenia', 'Atlantic', 'Austria', 'Ayrshire', 'Beni', 'Benin',\n",
       "       'Bermuda', 'Brunei', 'Bugaria', 'Chicago', 'Coloado', 'Comoros',\n",
       "       'Condor', 'Corsica', 'Curacao', 'D.C.Capital', 'Fiji', 'Huanuco',\n",
       "       'Jiangsu', 'Kazakhstan', 'Kodiak', 'Kuwait', 'Labrador', 'Latvia',\n",
       "       'Mariana', 'Mauritania', 'Northwest', 'Okinawa', 'Ontario',\n",
       "       'Portugal', 'Qatar', 'Sicily', 'Slovakia', 'Uzbekstan', 'Valle',\n",
       "       'Washington State', 'Zimbabwe', 'Alberta', 'Argentinade',\n",
       "       'Belarus', 'Bosnia-Herzegovina', 'Brisbane', 'Buea', 'Californiia',\n",
       "       'Columbia', 'Crete', 'Delaware', 'Djbouti', 'Domincan',\n",
       "       'Dominican', 'Hati', 'Lancs', 'Liberia', 'Los Angeles', 'Mali',\n",
       "       'Margarita', 'Minnisota', 'Mozambique', 'unknownSW', 'Pacific',\n",
       "       'Queensland', 'Rhode', 'Rhodesia', ' Rio de Janeiro', 'Trento',\n",
       "       'Tunisia', 'United Arab Republic', 'Uruguay', 'Victoria',\n",
       "       'Vizcaya', 'Wantagh', 'Wisconson', 'Zambia', 'unknownWT Canada',\n",
       "       'American', 'Ariège', 'Barbados', 'Besar', 'Boliva', 'Boliviano',\n",
       "       'Comoro', 'Covington', 'Cundinamarca', 'Czech', 'Dutch', 'Gabon',\n",
       "       'Horley', 'Hunary', 'Ilinois', 'Inodnesia', 'Ivory', 'Jamacia',\n",
       "       'Lochgoilhead', 'Lombok', 'Macedonia', 'Maharashtra', 'Marine',\n",
       "       'Orrbotten', 'Samoa', 'Sardinia', 'Siberia', 'Sichuan', 'Suiyang',\n",
       "       'Sumatra', 'Timor', 'Uganda', 'Veracruz', 'Yukon', 'Alakska',\n",
       "       'Azuay', 'Baangladesh', 'Boston', 'Bulgeria', 'Cargo', 'Central',\n",
       "       'Eritrea', 'Gerona', 'Gilbert', 'Guinea', 'Gujarat', 'Indian',\n",
       "       'Irian', 'Jersey', 'Lorraine', 'Malagasy', 'Manmar', 'Middlesex',\n",
       "       'Mississipi', 'Orfork', 'Orly', 'Para', 'Shetlands', 'Sulu',\n",
       "       'Tahiti', 'UKBritish', 'Vanuatu', 'Amsterdam', 'Bavaria',\n",
       "       'Cambodia', 'Chad', 'Cheshire', 'Great Britain', 'Guadaloupe',\n",
       "       'Gulf', 'Islay', 'Khmer', 'Lombardia', 'Manatoba', 'Mount',\n",
       "       'Namibia', 'Apal', 'Uevo', 'Ryukyu', 'Saudia', 'Sierra',\n",
       "       'Slovenia', 'Surinam', 'Tokyo', 'Val-de-Marne', 'Albania',\n",
       "       'Cailifornia', 'Calilfornia', 'Cardiff', 'Cocos', 'Guadeloupe',\n",
       "       'Kauai', 'Massachutes', 'Mexic', 'Philippine', 'Providencia',\n",
       "       'Republic', 'Sierre', 'Singapore', 'Soviet', 'Saint Petersburg',\n",
       "       'Tanganyika', 'Tasmania', 'Turkmenistan', 'Zulia', 'Airzona',\n",
       "       'Aregntina', 'Catalina', 'Djibouti', 'Dorset', 'Guanacaste',\n",
       "       'Hants', 'Madrid', 'Miami', 'Moldavia', 'Philipines', 'Picrdie',\n",
       "       'Province', 'Queens', 'Aaland', 'Afghanstan', 'Bhutan',\n",
       "       'CAMilitary', 'Glens', 'Guernsey', 'Huila', 'Island', 'Jeddah',\n",
       "       'Kosovo', 'Lesotho', 'Luxembourg', 'Malawi', 'Malinau', 'Molokai',\n",
       "       'unknownambia', 'Ross', 'Saint', 'Sussex',\n",
       "       'United StatesSRMilitary', 'Washingon', 'Yunan',\n",
       "       'Dominican Republic', 'Ellesmere', 'Granada', 'Italyde', 'Jawa',\n",
       "       'Kirghizia', 'Loire', 'Malaya', 'Placentia', 'Solomon',\n",
       "       'United StatesSRAerflot', 'Aargau', 'Africa', 'AKAlaska', 'Argyll',\n",
       "       'Biafra', 'Buckinghamshire', 'Deleware', 'Democtratic', 'Faeroe',\n",
       "       'Hrvatska', 'Marshall', 'Micronesia', 'Montserrat', 'Morroco',\n",
       "       'Oltenia', 'Phillipines', 'Russian', 'São Paulo', 'Stirlingshire',\n",
       "       'Tusayan', 'UAEGulf', 'Zabul'], dtype=object)"
      ]
     },
     "execution_count": 214,
     "metadata": {},
     "output_type": "execute_result"
    }
   ],
   "source": [
    "location_mapping = {'OT': 'Ontario', 'NSW': 'New South Wales', 'New': 'Newfoundland', 'NYUS': 'New York', 'ON': 'unknown', 'Channel': 'unknown', 'SK': 'Saskatchewan', 'Sri': 'Sri Lanka', 'USSRAeroflot': 'unknown', 'Spain\\tMoron': 'Spain', 'United': 'United States', 'Upper': 'unknown',\n",
    "                    'BC': 'British Columbia', 'unknownevada': 'Nevada', 'unknownew': 'unknown', 'unknownewfoundland': 'Newfoundland', 'unknownicaragua': 'Nicaragua', 'unknowniger': 'Niger', 'unknownigeria':'Nigeria', 'unknownorth':'North', 'unknownorthern':'North', 'unknownorway': 'Norway', 'unknownYUnited States': 'United States', 'Ounknown': 'unknown', 'unknownebraska':'Ebraska', 'unknownepal': 'Epal', 'unknownunavut': 'Unavut', 'unknownorthwest':'Northwest', 'unknownWT':'unknown', 'WYUnited States':'United States', 'unknownE': 'unknown', 'unknownorrbotten':'Orrbotten', 'unknownorfork':'Orfork', 'unknownamibia':'Namibia', 'unknownapal': 'Apal', 'unknownuevo': 'Uevo', 'Qld.': 'Queensland', 'unknownova':'unknown', 'United StatesSRBalkan':'United States'\n",
    "                    ,'unknownetherlands' :'Netherlands', 'Brazil\\tLoide': 'unknown', 'PQ': 'Quebec', 'San': 'San Francisco','Airlines': 'unknown','Da': 'unknown', 'NWT': 'Northwest Territories', 'off': 'unknown', 'WA': 'Washington State','WYUS': 'unknown', 'El': 'unknown', 'HIPan': 'unknown', 'Indonesia\\tSarmi': 'Indonesia', 'Los': 'Los Angeles','NSW': 'New South Wales', 'PE': 'Peru', 'Rio': ' Rio de Janeiro', 'UARMisrair': 'United Arab Republic','Warks': 'unknown', 'Air': 'unknown', 'D.C.Air': 'Congo', 'Minnesota46826/unknown9': 'Minnesota', 'NE': 'New England','Qld': 'Queensland', 'U.S.': 'United States', 'Western': 'unknown', 'HIAir': 'unknown', 'Covington/Hebron': 'Covington','Great': 'Great Britain', 'OLD': 'unknown', 'QC': 'Quebec', 'Azerbaijan\\tBakou': 'Azerbaijan', 'CADuncan': 'unknown','Mt.': 'Mount', 'St.': 'Saint Petersburg', 'BrazilFlorianopolis': 'unknown', 'FL': 'Florida', 'de': 'unknown', 'Sao': 'São Paulo'}\n",
    "\n",
    "\n",
    "\n",
    "# Clean the 'Country/Region' column\n",
    "df['Country/Region'] = df['Country/Region'].apply(lambda x: location_mapping.get(x.strip(), x))\n",
    "\n",
    "df['Country/Region'].unique()"
   ]
  },
  {
   "cell_type": "code",
   "execution_count": 216,
   "id": "1c4a2349-0745-4a99-a45f-605cd71a8fd9",
   "metadata": {},
   "outputs": [
    {
     "data": {
      "text/plain": [
       "Index(['Year', 'Quarter', 'Month', 'Day', 'Country/Region',\n",
       "       'Aircraft Manufacturer', 'Aircraft', 'Location', 'Operator', 'Ground',\n",
       "       'Fatalities (air)', 'Aboard', 'survival_rate'],\n",
       "      dtype='object')"
      ]
     },
     "execution_count": 216,
     "metadata": {},
     "output_type": "execute_result"
    }
   ],
   "source": [
    "df.columns"
   ]
  },
  {
   "cell_type": "code",
   "execution_count": 218,
   "id": "c8d82f89-4891-4603-b743-1cb091f25ae7",
   "metadata": {},
   "outputs": [
    {
     "data": {
      "text/plain": [
       "array(['de Havilland Canada', 'Douglas', 'Vickers Vanguard', 'Antonov',\n",
       "       'Boeing', 'Airbus', 'Aero Commander', 'Britten', 'Cessna',\n",
       "       'Cessna 208B Caravan', 'Hughes', 'McDonnell Douglas', 'Pilgrim',\n",
       "       'Ilyushin', 'Cessna  208B Grand', 'Hawker Siddeley', 'HS', 'Avro',\n",
       "       'Lockheed 14', 'Swearingen SA227AC Metroliner', 'Yakovlev',\n",
       "       'Curtiss', 'Mil', 'Convair', 'Consolidated', 'Doublas',\n",
       "       'Embraer 110EJ Band./Embraer 110P', 'Learjet', 'NAMC',\n",
       "       'Embraer/Piper', 'Lockheed 18', 'Cams', 'Ford', 'Grumman',\n",
       "       'Lockheed', 'De Havilland', 'Mi', 'Pilatus', 'Sikorsky', '??',\n",
       "       'Aérospatiale', 'Bell 212FAC',\n",
       "       'Hadley Page 137Jetstream I / Cessna 206N11360 /', 'Canadair',\n",
       "       'Bristol Britannia', 'Fokker', 'Junkers', 'Sud Aviation',\n",
       "       'Vickers Viscount', 'Avro 685 York', 'Avro Shackleton',\n",
       "       'Vickers 610 Viking', 'BAC Super', 'Aerocomp Comp Air',\n",
       "       'Fairchild', 'Farman', 'Dornier', 'de Havilland  Canada',\n",
       "       'Aviation Traders', 'Embraer', 'Focke', 'Fokker FG',\n",
       "       'Messerschmitt', 'Vickers Viking 1B & Soviet',\n",
       "       'Hawker Siddeley Trident', 'Pilatus Britten Norman', 'Beechcraft',\n",
       "       'C', 'Swallow\\r\\nSwallow?', 'Stearman', 'British Aerospace',\n",
       "       'Britten Norman', 'Mitsubishi', 'Lockheed Super', 'B17G Flying',\n",
       "       'de Havilland DH106 Comet', 'OFM', 'Kawasaki', 'Martin',\n",
       "       'Shin Meiwa', 'Vickers Valetta', 'Harbin Yunshuji',\n",
       "       'Vickers Wellington', 'British Aerospace BAe',\n",
       "       'Aerospatiale Caravelle', 'Caudron C.635', 'Bell 205', 'Lisnov',\n",
       "       'Lockheed Hudson', 'Zeppelin', 'Saab', 'Bell', 'Goodyear', 'Short',\n",
       "       'Stinson Model', 'Lockheed 14 Super', 'Swearingen',\n",
       "       'de Hvilland 89A Dragon', 'Eurocopter EC225LP Super Puma M2+',\n",
       "       'Lockheed 188C', 'Embraer 110P1',\n",
       "       'Piper Aerostar 601 / Bell 412SPN3645D /', 'Let', 'Lockheed 749A',\n",
       "       'Vickers 757', 'ATR', 'Lisunov', 'Tupolev', 'Dassault Falcon',\n",
       "       'Sud Aviation Caravelle', 'Eurocopter AS 332L2 Super Puma',\n",
       "       'Boeing Vertol CH47C', 'Breguet', 'Rohrbach',\n",
       "       'Swearingen SA.227AC Metro', 'General Aviation',\n",
       "       'Handley Page Dart Herald', 'Avro 688 Super', 'Let 410UVP',\n",
       "       'Boeing 377 Stratocruiser', 'Lockheed Martin',\n",
       "       'Lockheed 1049H Super', 'Cessna 208 Grand', 'Reims Aviation',\n",
       "       'Liore et Olivier', 'Avro 691 Lancastrian',\n",
       "       'Aerospatiale AS350 Eurocopter', 'Piper', 'Howard', '?VH',\n",
       "       'de Havilland DH.80 Puss', 'Vickers 804', 'Embraer 120ER',\n",
       "       'Latecoere', 'Sikorsky S43 (flying',\n",
       "       'Supermarine Stranraer (flying', 'Beechcraft C99 / Rockwell',\n",
       "       'Bell 206B', 'MD Douglas', 'CASA', 'Gates Learjet', 'Lockheed 10',\n",
       "       'Bristol 170 Freighter', 'Savoia', 'Armstrong',\n",
       "       'Royal Airship Works', 'Wibault', 'Let 410UVP Turbojet / Tupolev',\n",
       "       'Shorts', 'Vickers 634 Viking', 'Catalina Flying', 'Norman',\n",
       "       'Hindustan Aeronautics 748', 'Pacific', 'HESA', 'UH', 'Caproni',\n",
       "       'Handley Page', 'Macchi', 'Unknown /', 'Bleriot',\n",
       "       'Consolidated Canso', 'Latecoere 631 (flying', 'Eurocopter',\n",
       "       'Lockheed 10B', 'Stinson', 'Aerospatiale', 'Avro Lancaster',\n",
       "       'Lockheed 10 Electra', 'Lockheed 9', 'Siebel',\n",
       "       'Lockheed Orion 9E Explorer float', 'BAC', 'Lockheed 5',\n",
       "       'Piper Navajo', 'Arava', 'Short Sandringham (flying',\n",
       "       'Vickers Viking', 'Cessna  501', 'North American',\n",
       "       'Avro 691 Lancastrian (flying', 'Vickers 815',\n",
       "       'Short Sandringham 5 (flying', 'Lockheed 188A', 'PA',\n",
       "       'Blériot Spad', 'AeroflotL5057', 'Kalinin', 'Lockheed 1049G Super',\n",
       "       'Boeing Vertol CH47B', 'Chance Vought', 'DC', 'Sud', 'Yunshuji',\n",
       "       'Bell Huey', 'Farman F.60', 'LET 410M', 'Cessna 208B Grand',\n",
       "       'Lockheed 10E', 'Embraer 110', 'Sud Aviation SE 210 Caravelle',\n",
       "       'Boeing Vertol', 'Bristol 170', 'Fairchild C119G / Fairchild',\n",
       "       'Waco, model', 'Latécoère 23 (flying', 'Curtiss C',\n",
       "       'Eurocopter Deutschland', 'Nord', 'Bristol 28',\n",
       "       'Short S23 ‘C’ Class flying', 'Martin PBM', 'Avro  685 York',\n",
       "       'Vickers Viscount 827 / Fokker', 'Loening', 'Curtis',\n",
       "       'Vickers Viscount 764', 'VC', 'Bristol 175 Britannia', '?NC21V',\n",
       "       'Grumman G73T Turbo', 'Caudron', 'Embraer 120', 'Potez',\n",
       "       'Vickers 708', 'Latécoère 300 (float', 'Mil Mi 8T', 'Arado',\n",
       "       'Beech', 'Cessna 208B Caravan I Super', 'Lockheed Vega', 'HAL',\n",
       "       'Hindustan Aeronautics', 'CASA 212 Aviocar', 'IPTN 332C Super',\n",
       "       'M28', 'SNCASE', 'Lockheed 049', 'Cessna 421 Golden',\n",
       "       'Short Empire flying', 'Vickers 785D', 'SNIAS',\n",
       "       'British Aerospace Jetstream', 'Avro 683', 'Cessna 207 / Cessna',\n",
       "       'Five Grumman TBM', 'UC', 'Zeppelin Dixmunde', 'Curtiss Wright',\n",
       "       'MD', 'McDonnell', 'Fairchild Pilgrim', 'KB', 'Nakajima', 'Ryan',\n",
       "       'GAF Nomad', 'Heinkel', 'Rockwell International', 'Ilyushin 14M',\n",
       "       'Li', 'Tupolev A.N.T.', 'Cessna 404', 'ATR42', 'DHC',\n",
       "       'Mc Donnell Douglas', 'Aérospatiale/Aeritalia', 'Lockheed Orion',\n",
       "       'Travel Air', 'Channel Air', 'de Havilland Comet', 'LET 410',\n",
       "       'PZL', 'British Aerospace 3101 Jetstream', 'Beech Queen Air',\n",
       "       'Twin', 'de Havilland DH.104 Dove', 'ConvairCV', 'Eurocopter EC',\n",
       "       'Beechcraft Super King Air', 'Bandeirante', 'Embraer 110C',\n",
       "       'Embraer 110P', 'Fokker 27 Friendship', 'deHavilland', 'Boeing 40',\n",
       "       'Consolidated  32 Liberator', 'Cessna 208A Caravan I',\n",
       "       'Cessna 560 Citation', 'Pitcairn', 'Transall',\n",
       "       'Vickers 628 Viking', 'Nord 2501', 'Vickers 813', 'Fairchild?',\n",
       "       'Lioré', 'Vickers 952F', 'Airspeed Ambassador', 'IAI 1124',\n",
       "       'Casa 212', 'Beechcraft Bonanza', 'Vickers 614 Viking',\n",
       "       'Fokker Universal', 'Mc Donnell Dougals',\n",
       "       'Swearingen SA.227AT Merlin', 'Latécoère', 'Cant', 'Dormier',\n",
       "       'Latecoere 301 (flying', 'Sikorsky CH53D / Sikorsky CH53D357 /',\n",
       "       'PAC', 'Bombardier', 'Desoutter', 'Embraer 110P2',\n",
       "       'Lockheed  188A', 'Curtiss Carrier', 'MH', 'Junkers 52/3m',\n",
       "       'de Havilland DHC', 'Eurocopter  AS332L2 Super', 'V6', 'Avia',\n",
       "       'Swearingen SA.226TC Metro', 'Grummand',\n",
       "       'Vickers Viscount 754D / Douglas', 'Beechcraft B200 Super King',\n",
       "       'Dirigible Roma', 'Helicopter?', 'BAe', 'Lear Jet', 'Sabca',\n",
       "       'Vickers 615 Viking', 'Breguet 14', 'Lockheed L 1049G Super',\n",
       "       'de Hav Can.', 'F', 'Shaanxi Yunshuji', 'Black Hawk',\n",
       "       'Hawker Siddeley HS', 'Beech King Air 200', 'Swearingen SA.227AC',\n",
       "       'Martin 202A /', 'DC3(C47)FAC', 'Vickers', 'Dewoitine',\n",
       "       'SNCASE SE.2010', 'CMASA', 'Lockheed P2V', 'Lockheed 1329 Jetstar',\n",
       "       'CH53E Sea', 'Lockheed Hercules', 'Savoia Marchetti',\n",
       "       'Vickers Valetta Mk1 / Avero LancasterVX562 /', 'AirbusA310',\n",
       "       'Lockheed 1049E Super', 'Embraer 120RT', 'Lockheed 14H Super',\n",
       "       'Britten Norman BN', 'Cessna 441', 'Avro 688 Tudor', 'Bell 206',\n",
       "       'Curtiss Condor', 'Embraer 110P1A', 'Stinson Reliant', 'Wapiti?',\n",
       "       'Fokker 28 Fellowship', 'GAF N22B', 'Military', 'Vickers 802',\n",
       "       'de Havilland Dove', 'Boeing B52 Stratofortress/Boeing KC',\n",
       "       'Casa 352', 'Shaanxi', 'Short Sunderland 9 (flying', 'Vultee',\n",
       "       'BAE Avro', 'LET  410M', 'Tupolev TU', 'Ilyushin76TD4K',\n",
       "       'Helicopter, Hughes', 'Rockwell Sabreliner',\n",
       "       'Short Sandringham 2 (flying', 'Lasco', 'Fiat', 'Boeing 377',\n",
       "       'Schutte', 'Spartan', 'Airspeed AS.57 Ambassador',\n",
       "       'Handley Page Hastings C Mark', 'Vickers 74',\n",
       "       'Aerospatiale BAe Concorde', 'Beechcraft 1900D / Cessna', 'LVG C',\n",
       "       'Consolidated Catalina', 'Hawker', 'Volpar', 'FD Type',\n",
       "       'Beechcraft B300 King', 'Lockheed 1049C Super', 'Avro 685', 'Saro',\n",
       "       'EC', 'British Aerospace  BAe Jetstream', 'Vickers 798D',\n",
       "       'General', 'CMASA Wal (flying', 'Consolidated Liberator B24',\n",
       "       'Fairchild packet (C119 flying', 'Fokker (KLM)', 'Dirigible?',\n",
       "       'R4D', 'Mitsubishi MU 2B', 'Beech King Air', 'Sikorsky  S 76',\n",
       "       'Sikorsky S', 'Antonov An', 'Ilushin', 'Iluyshin', 'Junkers JU86',\n",
       "       'Vickers 837', 'Caravelle', 'Kubicek BB85Z Hot Air', 'Sukhoi',\n",
       "       'EMB 721C', 'Fairchild Hiller', 'Bell 407 / Bell 407N407GA /',\n",
       "       'de Havilland Can.', 'Domier Delphin III (flying', 'Avro 691',\n",
       "       'Embraer 820C', 'Lockheed 10C', 'Beechcraft A100 King', 'KJ',\n",
       "       'PBY', 'Xian Yunshuji', 'Airspeed', 'Zepplin', 'AEGKD', 'VEB',\n",
       "       'Bleriot Spad', 'Lockheed 1649A', 'Sikorsly',\n",
       "       'de Havilland DH.89 Dragon', 'Sirkorsky', 'MI 172 V5',\n",
       "       'Swearingen 226TC Metro', 'Aerospeciale', 'B', 'Noorduyn',\n",
       "       'BAC One Eleven', 'L', 'Boeing Vertol Chinook', 'Socata',\n",
       "       'Piaggio', 'Ilysushin', 'Cessna 404 Titan Courier', 'Koolhoven',\n",
       "       'Pitcairns', 'Cessna 550 Citation', 'Both Eurocopter', 'Airship?',\n",
       "       'Armstrong Whitworth Argosy', 'Rockwell 500S Shrike',\n",
       "       'Aerospatiale Nord', 'Avro 689 Tudor', 'Sepecat Jaguar', '?139',\n",
       "       'Grummand Gulfstream', 'Dassault', 'Vickers 604 Viking',\n",
       "       'IAI Attava', 'de Havilland Dragon', 'Blackburn Beverley C Mark',\n",
       "       'Boeing 737 Max', 'Latecoere 631 (sea', 'Rochrbach',\n",
       "       'Aerospatiale AS350BA', 'MiG', 'Savoia Marchetti SM', 'H',\n",
       "       'Fokker F10A', 'Mc Donnell Douglas 369FF',\n",
       "       'Aeromarine Model 85 (flying', 'IAI Arava', 'Eurocopter AS',\n",
       "       'Northrop Alpha', 'Fairchild R4Q / Dougas', 'AT L98',\n",
       "       'IAI 1124A Westwind', 'Tuolev', 'Avro York',\n",
       "       'Handley Page Jetstream', 'Saab340BB', 'Vickers 616 Viking',\n",
       "       'Aerospatiale Caravelle Super', 'British Aerospace 748',\n",
       "       'Cessna 500 Citation', 'Boeing 307', 'Urocopter AS350', 'Antonv',\n",
       "       'SPCA Meteore', 'Eurocopter AS350D', 'Swearingen SA227AC Metro',\n",
       "       'Illyushin', 'Dassault Breguet', 'Bristol 170 Freighter 31 Mark',\n",
       "       'Grumman Gulfstream', 'McDonnel', 'Embraer 110 P1', 'Liore',\n",
       "       'PBY4', 'Vickers 639 Viking', 'Stinson SM6000B',\n",
       "       'Aerospatiale 330G', 'Sukhoi Superjet', 'Xian', 'CH',\n",
       "       'Vickers Viscount 745D /', 'Rockwell Gulfstream Jetprop 840',\n",
       "       'Ford model', 'Handley Page Hastings', 'Westland Sea King',\n",
       "       'Beechcraft B300 King Air', 'CF', 'Swear.', 'BAe Jetstream',\n",
       "       'Boeing CH47A', 'Boeing Vertol CH47A', 'Handley Page Halifax',\n",
       "       'Cessna 404 Titan', 'Lockheed L188A', 'Vickers 620 Viking',\n",
       "       'Travel Air 6000', 'Robertson R44', 'Saab Scandia / Cessna',\n",
       "       'Douglas DC', 'Stinson?', 'Short Solent 3 (flying', 'AAC',\n",
       "       'Cessna 421C Golden', 'Lockheed 749', 'Super Zeppelin', 'Tempest?',\n",
       "       'Aerospatiale 330J', 'Vickers 828', 'Aerospatiale Alenia',\n",
       "       'Bell 412', 'Burgess', 'Aerospatiale AS 332L1 Super',\n",
       "       'Eurocopter EC135', 'Short Sunderland', 'Budd', 'IAI 1124A',\n",
       "       'Northrop', '?42', 'Hamilton', 'Fokker F27 Friendship',\n",
       "       'Lockhed 10', 'Grazhdansky Vozdushnyi Flot',\n",
       "       'Aerospatiale AS 350B2', 'BAe 3101 Jetstream',\n",
       "       'Swearingen SA227AT Merlin', '?VP', 'Boeing 314A', 'Cessna 208',\n",
       "       'Short S.23 Empire Flying', 'Vickers 720', 'Beechcraft 100 King',\n",
       "       'Vickers 610', 'Salmson', 'Short Stirling', 'Dornier DO.18 (float',\n",
       "       'Savbia', 'A', 'Short Calcutta (flying', 'Bell 204B',\n",
       "       'Canadair CRJ200LR', 'BAC One', 'Boeing  377',\n",
       "       'de havilland 89 Dragon', 'Rutan Long EZ (experimental',\n",
       "       'Agusta A109A MK', 'Boeing Vetrol 107 II', 'Enstrom',\n",
       "       'Lockheed 10A', 'Sirkorsky 44A (flying', 'Blackburn',\n",
       "       'Shorts SC.7 Skyvan', 'Short Sandringham 6 (flying', 'Cessna 402C',\n",
       "       'Faucett', 'Sikorksky', 'de Havilland DH114 Heron', 'GVF',\n",
       "       'Ilyushin IL', 'Bell 214ST', 'Aero Commander AC',\n",
       "       'Cessna 208 Caravan', 'Fairey Firefly', 'LET 410MT', 'Bell 214',\n",
       "       'Boeing 307 Stratoliner', 'Beech 200 Super King',\n",
       "       'British Aerospace Nimrod', 'de Havilland Canada DHC 3T Turbine',\n",
       "       'Soloy', 'Beechcraft SKA', 'de havilland Canada Twin Otter',\n",
       "       'Saab Scandia', 'Cessna 501', 'Hawker Siddeley Trident 2E /',\n",
       "       'Lockheed  5', 'Fokker UniversalNC52', 'Transportes Aéreos',\n",
       "       'Vickers 634', 'Vickers 621 Viking', 'Bloch', 'Spad', 'Wright',\n",
       "       'Cessna 441 Conquest', 'Fokker Super', 'CRDA CANT', 'Let Aero',\n",
       "       'Rockwell', 'Boulton and Paul', 'Fletcher', 'Cessna 402 / Piper',\n",
       "       'Dirigible', 'Stinson SM', 'AeroflotCCCP',\n",
       "       'de Havilland 89A Dragon', 'Avro Ninteen', 'Antonov An26SH76',\n",
       "       'Wright Flyer'], dtype=object)"
      ]
     },
     "execution_count": 218,
     "metadata": {},
     "output_type": "execute_result"
    }
   ],
   "source": [
    "df['Aircraft Manufacturer'].unique()"
   ]
  },
  {
   "cell_type": "code",
   "execution_count": 47,
   "id": "56bbbbba-6222-4dc2-8ef9-a0c32fc5764e",
   "metadata": {},
   "outputs": [],
   "source": [
    "\n",
    "\n",
    "def fix_incomplete_parentheses(text):\n",
    "\n",
    "    \n",
    "    if '(' in text and ')' not in text:\n",
    "        return text + ')'\n",
    "    else:\n",
    "        return text\n",
    "\n",
    "\n",
    "# Apply the function to the 'Aircraft Manufacturer' column\n",
    "df['Aircraft Manufacturer'] = df['Aircraft Manufacturer'].apply(fix_incomplete_parentheses)\n",
    "\n"
   ]
  },
  {
   "cell_type": "code",
   "execution_count": 49,
   "id": "77e0746a-24f4-4b89-a0fd-b66df1af41cd",
   "metadata": {},
   "outputs": [
    {
     "data": {
      "text/plain": [
       "Year                     0\n",
       "Quarter                  0\n",
       "Month                    0\n",
       "Day                      0\n",
       "Country/Region           0\n",
       "Aircraft Manufacturer    0\n",
       "Aircraft                 0\n",
       "Location                 0\n",
       "Operator                 0\n",
       "Ground                   0\n",
       "Fatalities (air)         0\n",
       "Aboard                   0\n",
       "dtype: int64"
      ]
     },
     "execution_count": 49,
     "metadata": {},
     "output_type": "execute_result"
    }
   ],
   "source": [
    "df.isna().sum()"
   ]
  },
  {
   "cell_type": "code",
   "execution_count": 51,
   "id": "00d8bf19-8071-4a7e-9ebe-dfa3161a7b0b",
   "metadata": {},
   "outputs": [
    {
     "data": {
      "text/plain": [
       "array(['de Havilland Canada', 'Douglas', 'Vickers Vanguard', 'Antonov',\n",
       "       'Boeing', 'Airbus', 'Aero Commander', 'Britten', 'Cessna',\n",
       "       'Cessna 208B Caravan', 'Hughes', 'McDonnell Douglas', 'Pilgrim',\n",
       "       'Ilyushin', 'Cessna  208B Grand', 'Hawker Siddeley', 'HS', 'Avro',\n",
       "       'Lockheed 14', 'Swearingen SA227AC Metroliner', 'Yakovlev',\n",
       "       'Curtiss', 'Mil', 'Convair', 'Consolidated', 'Doublas',\n",
       "       'Embraer 110EJ Band./Embraer 110P', 'Learjet', 'NAMC',\n",
       "       'Embraer/Piper', 'Lockheed 18', 'Cams', 'Ford', 'Grumman',\n",
       "       'Lockheed', 'De Havilland', 'Mi', 'Pilatus', 'Sikorsky', '??',\n",
       "       'Aérospatiale', 'Bell 212FAC',\n",
       "       'Hadley Page 137Jetstream I / Cessna 206N11360 /', 'Canadair',\n",
       "       'Bristol Britannia', 'Fokker', 'Junkers', 'Sud Aviation',\n",
       "       'Vickers Viscount', 'Avro 685 York', 'Avro Shackleton',\n",
       "       'Vickers 610 Viking', 'BAC Super', 'Aerocomp Comp Air',\n",
       "       'Fairchild', 'Farman', 'Dornier', 'de Havilland  Canada',\n",
       "       'Aviation Traders', 'Embraer', 'Focke', 'Fokker FG',\n",
       "       'Messerschmitt', 'Vickers Viking 1B & Soviet',\n",
       "       'Hawker Siddeley Trident', 'Pilatus Britten Norman', 'Beechcraft',\n",
       "       'C', 'Swallow\\r\\nSwallow?', 'Stearman', 'British Aerospace',\n",
       "       'Britten Norman', 'Mitsubishi', 'Lockheed Super', 'B17G Flying',\n",
       "       'de Havilland DH106 Comet', 'OFM', 'Kawasaki', 'Martin',\n",
       "       'Shin Meiwa', 'Vickers Valetta', 'Harbin Yunshuji',\n",
       "       'Vickers Wellington', 'British Aerospace BAe',\n",
       "       'Aerospatiale Caravelle', 'Caudron C.635', 'Bell 205', 'Lisnov',\n",
       "       'Lockheed Hudson', 'Zeppelin', 'Saab', 'Bell', 'Goodyear', 'Short',\n",
       "       'Stinson Model', 'Lockheed 14 Super', 'Swearingen',\n",
       "       'de Hvilland 89A Dragon', 'Eurocopter EC225LP Super Puma M2+',\n",
       "       'Lockheed 188C', 'Embraer 110P1',\n",
       "       'Piper Aerostar 601 / Bell 412SPN3645D /', 'Let', 'Lockheed 749A',\n",
       "       'Vickers 757', 'ATR', 'Lisunov', 'Tupolev', 'Dassault Falcon',\n",
       "       'Sud Aviation Caravelle', 'Eurocopter AS 332L2 Super Puma',\n",
       "       'Boeing Vertol CH47C', 'Breguet', 'Rohrbach',\n",
       "       'Swearingen SA.227AC Metro', 'General Aviation',\n",
       "       'Handley Page Dart Herald', 'Avro 688 Super', 'Let 410UVP',\n",
       "       'Boeing 377 Stratocruiser', 'Lockheed Martin',\n",
       "       'Lockheed 1049H Super', 'Cessna 208 Grand', 'Reims Aviation',\n",
       "       'Liore et Olivier', 'Avro 691 Lancastrian',\n",
       "       'Aerospatiale AS350 Eurocopter', 'Piper', 'Howard', '?VH',\n",
       "       'de Havilland DH.80 Puss', 'Vickers 804', 'Embraer 120ER',\n",
       "       'Latecoere', 'Sikorsky S43 (flying)',\n",
       "       'Supermarine Stranraer (flying)', 'Beechcraft C99 / Rockwell',\n",
       "       'Bell 206B', 'MD Douglas', 'CASA', 'Gates Learjet', 'Lockheed 10',\n",
       "       'Bristol 170 Freighter', 'Savoia', 'Armstrong',\n",
       "       'Royal Airship Works', 'Wibault', 'Let 410UVP Turbojet / Tupolev',\n",
       "       'Shorts', 'Vickers 634 Viking', 'Catalina Flying', 'Norman',\n",
       "       'Hindustan Aeronautics 748', 'Pacific', 'HESA', 'UH', 'Caproni',\n",
       "       'Handley Page', 'Macchi', 'Unknown /', 'Bleriot',\n",
       "       'Consolidated Canso', 'Latecoere 631 (flying)', 'Eurocopter',\n",
       "       'Lockheed 10B', 'Stinson', 'Aerospatiale', 'Avro Lancaster',\n",
       "       'Lockheed 10 Electra', 'Lockheed 9', 'Siebel',\n",
       "       'Lockheed Orion 9E Explorer float', 'BAC', 'Lockheed 5',\n",
       "       'Piper Navajo', 'Arava', 'Short Sandringham (flying)',\n",
       "       'Vickers Viking', 'Cessna  501', 'North American',\n",
       "       'Avro 691 Lancastrian (flying)', 'Vickers 815',\n",
       "       'Short Sandringham 5 (flying)', 'Lockheed 188A', 'PA',\n",
       "       'Blériot Spad', 'AeroflotL5057', 'Kalinin', 'Lockheed 1049G Super',\n",
       "       'Boeing Vertol CH47B', 'Chance Vought', 'DC', 'Sud', 'Yunshuji',\n",
       "       'Bell Huey', 'Farman F.60', 'LET 410M', 'Cessna 208B Grand',\n",
       "       'Lockheed 10E', 'Embraer 110', 'Sud Aviation SE 210 Caravelle',\n",
       "       'Boeing Vertol', 'Bristol 170', 'Fairchild C119G / Fairchild',\n",
       "       'Waco, model', 'Latécoère 23 (flying)', 'Curtiss C',\n",
       "       'Eurocopter Deutschland', 'Nord', 'Bristol 28',\n",
       "       'Short S23 ‘C’ Class flying', 'Martin PBM', 'Avro  685 York',\n",
       "       'Vickers Viscount 827 / Fokker', 'Loening', 'Curtis',\n",
       "       'Vickers Viscount 764', 'VC', 'Bristol 175 Britannia', '?NC21V',\n",
       "       'Grumman G73T Turbo', 'Caudron', 'Embraer 120', 'Potez',\n",
       "       'Vickers 708', 'Latécoère 300 (float)', 'Mil Mi 8T', 'Arado',\n",
       "       'Beech', 'Cessna 208B Caravan I Super', 'Lockheed Vega', 'HAL',\n",
       "       'Hindustan Aeronautics', 'CASA 212 Aviocar', 'IPTN 332C Super',\n",
       "       'M28', 'SNCASE', 'Lockheed 049', 'Cessna 421 Golden',\n",
       "       'Short Empire flying', 'Vickers 785D', 'SNIAS',\n",
       "       'British Aerospace Jetstream', 'Avro 683', 'Cessna 207 / Cessna',\n",
       "       'Five Grumman TBM', 'UC', 'Zeppelin Dixmunde', 'Curtiss Wright',\n",
       "       'MD', 'McDonnell', 'Fairchild Pilgrim', 'KB', 'Nakajima', 'Ryan',\n",
       "       'GAF Nomad', 'Heinkel', 'Rockwell International', 'Ilyushin 14M',\n",
       "       'Li', 'Tupolev A.N.T.', 'Cessna 404', 'ATR42', 'DHC',\n",
       "       'Mc Donnell Douglas', 'Aérospatiale/Aeritalia', 'Lockheed Orion',\n",
       "       'Travel Air', 'Channel Air', 'de Havilland Comet', 'LET 410',\n",
       "       'PZL', 'British Aerospace 3101 Jetstream', 'Beech Queen Air',\n",
       "       'Twin', 'de Havilland DH.104 Dove', 'ConvairCV', 'Eurocopter EC',\n",
       "       'Beechcraft Super King Air', 'Bandeirante', 'Embraer 110C',\n",
       "       'Embraer 110P', 'Fokker 27 Friendship', 'deHavilland', 'Boeing 40',\n",
       "       'Consolidated  32 Liberator', 'Cessna 208A Caravan I',\n",
       "       'Cessna 560 Citation', 'Pitcairn', 'Transall',\n",
       "       'Vickers 628 Viking', 'Nord 2501', 'Vickers 813', 'Fairchild?',\n",
       "       'Lioré', 'Vickers 952F', 'Airspeed Ambassador', 'IAI 1124',\n",
       "       'Casa 212', 'Beechcraft Bonanza', 'Vickers 614 Viking',\n",
       "       'Fokker Universal', 'Mc Donnell Dougals',\n",
       "       'Swearingen SA.227AT Merlin', 'Latécoère', 'Cant', 'Dormier',\n",
       "       'Latecoere 301 (flying)', 'Sikorsky CH53D / Sikorsky CH53D357 /',\n",
       "       'PAC', 'Bombardier', 'Desoutter', 'Embraer 110P2',\n",
       "       'Lockheed  188A', 'Curtiss Carrier', 'MH', 'Junkers 52/3m',\n",
       "       'de Havilland DHC', 'Eurocopter  AS332L2 Super', 'V6', 'Avia',\n",
       "       'Swearingen SA.226TC Metro', 'Grummand',\n",
       "       'Vickers Viscount 754D / Douglas', 'Beechcraft B200 Super King',\n",
       "       'Dirigible Roma', 'Helicopter?', 'BAe', 'Lear Jet', 'Sabca',\n",
       "       'Vickers 615 Viking', 'Breguet 14', 'Lockheed L 1049G Super',\n",
       "       'de Hav Can.', 'F', 'Shaanxi Yunshuji', 'Black Hawk',\n",
       "       'Hawker Siddeley HS', 'Beech King Air 200', 'Swearingen SA.227AC',\n",
       "       'Martin 202A /', 'DC3(C47)FAC', 'Vickers', 'Dewoitine',\n",
       "       'SNCASE SE.2010', 'CMASA', 'Lockheed P2V', 'Lockheed 1329 Jetstar',\n",
       "       'CH53E Sea', 'Lockheed Hercules', 'Savoia Marchetti',\n",
       "       'Vickers Valetta Mk1 / Avero LancasterVX562 /', 'AirbusA310',\n",
       "       'Lockheed 1049E Super', 'Embraer 120RT', 'Lockheed 14H Super',\n",
       "       'Britten Norman BN', 'Cessna 441', 'Avro 688 Tudor', 'Bell 206',\n",
       "       'Curtiss Condor', 'Embraer 110P1A', 'Stinson Reliant', 'Wapiti?',\n",
       "       'Fokker 28 Fellowship', 'GAF N22B', 'Military', 'Vickers 802',\n",
       "       'de Havilland Dove', 'Boeing B52 Stratofortress/Boeing KC',\n",
       "       'Casa 352', 'Shaanxi', 'Short Sunderland 9 (flying)', 'Vultee',\n",
       "       'BAE Avro', 'LET  410M', 'Tupolev TU', 'Ilyushin76TD4K',\n",
       "       'Helicopter, Hughes', 'Rockwell Sabreliner',\n",
       "       'Short Sandringham 2 (flying)', 'Lasco', 'Fiat', 'Boeing 377',\n",
       "       'Schutte', 'Spartan', 'Airspeed AS.57 Ambassador',\n",
       "       'Handley Page Hastings C Mark', 'Vickers 74',\n",
       "       'Aerospatiale BAe Concorde', 'Beechcraft 1900D / Cessna', 'LVG C',\n",
       "       'Consolidated Catalina', 'Hawker', 'Volpar', 'FD Type',\n",
       "       'Beechcraft B300 King', 'Lockheed 1049C Super', 'Avro 685', 'Saro',\n",
       "       'EC', 'British Aerospace  BAe Jetstream', 'Vickers 798D',\n",
       "       'General', 'CMASA Wal (flying)', 'Consolidated Liberator B24',\n",
       "       'Fairchild packet (C119 flying)', 'Fokker (KLM)', 'Dirigible?',\n",
       "       'R4D', 'Mitsubishi MU 2B', 'Beech King Air', 'Sikorsky  S 76',\n",
       "       'Sikorsky S', 'Antonov An', 'Ilushin', 'Iluyshin', 'Junkers JU86',\n",
       "       'Vickers 837', 'Caravelle', 'Kubicek BB85Z Hot Air', 'Sukhoi',\n",
       "       'EMB 721C', 'Fairchild Hiller', 'Bell 407 / Bell 407N407GA /',\n",
       "       'de Havilland Can.', 'Domier Delphin III (flying)', 'Avro 691',\n",
       "       'Embraer 820C', 'Lockheed 10C', 'Beechcraft A100 King', 'KJ',\n",
       "       'PBY', 'Xian Yunshuji', 'Airspeed', 'Zepplin', 'AEGKD', 'VEB',\n",
       "       'Bleriot Spad', 'Lockheed 1649A', 'Sikorsly',\n",
       "       'de Havilland DH.89 Dragon', 'Sirkorsky', 'MI 172 V5',\n",
       "       'Swearingen 226TC Metro', 'Aerospeciale', 'B', 'Noorduyn',\n",
       "       'BAC One Eleven', 'L', 'Boeing Vertol Chinook', 'Socata',\n",
       "       'Piaggio', 'Ilysushin', 'Cessna 404 Titan Courier', 'Koolhoven',\n",
       "       'Pitcairns', 'Cessna 550 Citation', 'Both Eurocopter', 'Airship?',\n",
       "       'Armstrong Whitworth Argosy', 'Rockwell 500S Shrike',\n",
       "       'Aerospatiale Nord', 'Avro 689 Tudor', 'Sepecat Jaguar', '?139',\n",
       "       'Grummand Gulfstream', 'Dassault', 'Vickers 604 Viking',\n",
       "       'IAI Attava', 'de Havilland Dragon', 'Blackburn Beverley C Mark',\n",
       "       'Boeing 737 Max', 'Latecoere 631 (sea)', 'Rochrbach',\n",
       "       'Aerospatiale AS350BA', 'MiG', 'Savoia Marchetti SM', 'H',\n",
       "       'Fokker F10A', 'Mc Donnell Douglas 369FF',\n",
       "       'Aeromarine Model 85 (flying)', 'IAI Arava', 'Eurocopter AS',\n",
       "       'Northrop Alpha', 'Fairchild R4Q / Dougas', 'AT L98',\n",
       "       'IAI 1124A Westwind', 'Tuolev', 'Avro York',\n",
       "       'Handley Page Jetstream', 'Saab340BB', 'Vickers 616 Viking',\n",
       "       'Aerospatiale Caravelle Super', 'British Aerospace 748',\n",
       "       'Cessna 500 Citation', 'Boeing 307', 'Urocopter AS350', 'Antonv',\n",
       "       'SPCA Meteore', 'Eurocopter AS350D', 'Swearingen SA227AC Metro',\n",
       "       'Illyushin', 'Dassault Breguet', 'Bristol 170 Freighter 31 Mark',\n",
       "       'Grumman Gulfstream', 'McDonnel', 'Embraer 110 P1', 'Liore',\n",
       "       'PBY4', 'Vickers 639 Viking', 'Stinson SM6000B',\n",
       "       'Aerospatiale 330G', 'Sukhoi Superjet', 'Xian', 'CH',\n",
       "       'Vickers Viscount 745D /', 'Rockwell Gulfstream Jetprop 840',\n",
       "       'Ford model', 'Handley Page Hastings', 'Westland Sea King',\n",
       "       'Beechcraft B300 King Air', 'CF', 'Swear.', 'BAe Jetstream',\n",
       "       'Boeing CH47A', 'Boeing Vertol CH47A', 'Handley Page Halifax',\n",
       "       'Cessna 404 Titan', 'Lockheed L188A', 'Vickers 620 Viking',\n",
       "       'Travel Air 6000', 'Robertson R44', 'Saab Scandia / Cessna',\n",
       "       'Douglas DC', 'Stinson?', 'Short Solent 3 (flying)', 'AAC',\n",
       "       'Cessna 421C Golden', 'Lockheed 749', 'Super Zeppelin', 'Tempest?',\n",
       "       'Aerospatiale 330J', 'Vickers 828', 'Aerospatiale Alenia',\n",
       "       'Bell 412', 'Burgess', 'Aerospatiale AS 332L1 Super',\n",
       "       'Eurocopter EC135', 'Short Sunderland', 'Budd', 'IAI 1124A',\n",
       "       'Northrop', '?42', 'Hamilton', 'Fokker F27 Friendship',\n",
       "       'Lockhed 10', 'Grazhdansky Vozdushnyi Flot',\n",
       "       'Aerospatiale AS 350B2', 'BAe 3101 Jetstream',\n",
       "       'Swearingen SA227AT Merlin', '?VP', 'Boeing 314A', 'Cessna 208',\n",
       "       'Short S.23 Empire Flying', 'Vickers 720', 'Beechcraft 100 King',\n",
       "       'Vickers 610', 'Salmson', 'Short Stirling',\n",
       "       'Dornier DO.18 (float)', 'Savbia', 'A', 'Short Calcutta (flying)',\n",
       "       'Bell 204B', 'Canadair CRJ200LR', 'BAC One', 'Boeing  377',\n",
       "       'de havilland 89 Dragon', 'Rutan Long EZ (experimental)',\n",
       "       'Agusta A109A MK', 'Boeing Vetrol 107 II', 'Enstrom',\n",
       "       'Lockheed 10A', 'Sirkorsky 44A (flying)', 'Blackburn',\n",
       "       'Shorts SC.7 Skyvan', 'Short Sandringham 6 (flying)',\n",
       "       'Cessna 402C', 'Faucett', 'Sikorksky', 'de Havilland DH114 Heron',\n",
       "       'GVF', 'Ilyushin IL', 'Bell 214ST', 'Aero Commander AC',\n",
       "       'Cessna 208 Caravan', 'Fairey Firefly', 'LET 410MT', 'Bell 214',\n",
       "       'Boeing 307 Stratoliner', 'Beech 200 Super King',\n",
       "       'British Aerospace Nimrod', 'de Havilland Canada DHC 3T Turbine',\n",
       "       'Soloy', 'Beechcraft SKA', 'de havilland Canada Twin Otter',\n",
       "       'Saab Scandia', 'Cessna 501', 'Hawker Siddeley Trident 2E /',\n",
       "       'Lockheed  5', 'Fokker UniversalNC52', 'Transportes Aéreos',\n",
       "       'Vickers 634', 'Vickers 621 Viking', 'Bloch', 'Spad', 'Wright',\n",
       "       'Cessna 441 Conquest', 'Fokker Super', 'CRDA CANT', 'Let Aero',\n",
       "       'Rockwell', 'Boulton and Paul', 'Fletcher', 'Cessna 402 / Piper',\n",
       "       'Dirigible', 'Stinson SM', 'AeroflotCCCP',\n",
       "       'de Havilland 89A Dragon', 'Avro Ninteen', 'Antonov An26SH76',\n",
       "       'Wright Flyer'], dtype=object)"
      ]
     },
     "execution_count": 51,
     "metadata": {},
     "output_type": "execute_result"
    }
   ],
   "source": [
    "df['Aircraft Manufacturer'].unique()"
   ]
  },
  {
   "cell_type": "code",
   "execution_count": 53,
   "id": "dfd0706a-8c24-49b7-bd3a-4296092c9e5e",
   "metadata": {},
   "outputs": [],
   "source": [
    "df.loc['Aircraft Manufacturer'] = df.loc[:,'Aircraft Manufacturer'].str.replace(\"?\", '').str.replace(\"\\r\\n\", \n",
    "    '').str.replace('Hawker Siddeley Trident 2E /', 'Hawker Siddeley Trident 2E ').str.replace('Mi', 'Mil').str.replace('C', \n",
    "    'unknown').str.replace('HS', 'unknown').str.replace('Unknown /', 'unknown').str.replace('H', 'unknown').str.replace('UH', \n",
    "    'BellHelicopter').str.replace('CH', 'unknown').str.replace('CF', 'unknown').str.replace('?42', \n",
    "    'unknown').str.replace('PA','PiperAircraft').str.replace('DC', 'Douglas Aircraft Company').str.replace('Let', \n",
    "    'Let410UVP').str.replace('L', 'unknown').str.replace('B', 'unknown').str.replace('?139', 'unknown').str.replace('?', '', \n",
    "     regex=False).str.replace('139', 'unknown').explode().str.strip()"
   ]
  },
  {
   "cell_type": "code",
   "execution_count": 55,
   "id": "6a224c49-d797-4c80-ae0d-6d09de1e4da8",
   "metadata": {},
   "outputs": [
    {
     "data": {
      "text/plain": [
       "array(['de Havilland Canada', 'Douglas', 'Vickers Vanguard', 'Antonov',\n",
       "       'Boeing', 'Airbus', 'Aero Commander', 'Britten', 'Cessna',\n",
       "       'Cessna 208B Caravan', 'Hughes', 'McDonnell Douglas', 'Pilgrim',\n",
       "       'Ilyushin', 'Cessna  208B Grand', 'Hawker Siddeley', 'HS', 'Avro',\n",
       "       'Lockheed 14', 'Swearingen SA227AC Metroliner', 'Yakovlev',\n",
       "       'Curtiss', 'Mil', 'Convair', 'Consolidated', 'Doublas',\n",
       "       'Embraer 110EJ Band./Embraer 110P', 'Learjet', 'NAMC',\n",
       "       'Embraer/Piper', 'Lockheed 18', 'Cams', 'Ford', 'Grumman',\n",
       "       'Lockheed', 'De Havilland', 'Mi', 'Pilatus', 'Sikorsky', '??',\n",
       "       'Aérospatiale', 'Bell 212FAC',\n",
       "       'Hadley Page 137Jetstream I / Cessna 206N11360 /', 'Canadair',\n",
       "       'Bristol Britannia', 'Fokker', 'Junkers', 'Sud Aviation',\n",
       "       'Vickers Viscount', 'Avro 685 York', 'Avro Shackleton',\n",
       "       'Vickers 610 Viking', 'BAC Super', 'Aerocomp Comp Air',\n",
       "       'Fairchild', 'Farman', 'Dornier', 'de Havilland  Canada',\n",
       "       'Aviation Traders', 'Embraer', 'Focke', 'Fokker FG',\n",
       "       'Messerschmitt', 'Vickers Viking 1B & Soviet',\n",
       "       'Hawker Siddeley Trident', 'Pilatus Britten Norman', 'Beechcraft',\n",
       "       'C', 'Swallow\\r\\nSwallow?', 'Stearman', 'British Aerospace',\n",
       "       'Britten Norman', 'Mitsubishi', 'Lockheed Super', 'B17G Flying',\n",
       "       'de Havilland DH106 Comet', 'OFM', 'Kawasaki', 'Martin',\n",
       "       'Shin Meiwa', 'Vickers Valetta', 'Harbin Yunshuji',\n",
       "       'Vickers Wellington', 'British Aerospace BAe',\n",
       "       'Aerospatiale Caravelle', 'Caudron C.635', 'Bell 205', 'Lisnov',\n",
       "       'Lockheed Hudson', 'Zeppelin', 'Saab', 'Bell', 'Goodyear', 'Short',\n",
       "       'Stinson Model', 'Lockheed 14 Super', 'Swearingen',\n",
       "       'de Hvilland 89A Dragon', 'Eurocopter EC225LP Super Puma M2+',\n",
       "       'Lockheed 188C', 'Embraer 110P1',\n",
       "       'Piper Aerostar 601 / Bell 412SPN3645D /', 'Let', 'Lockheed 749A',\n",
       "       'Vickers 757', 'ATR', 'Lisunov', 'Tupolev', 'Dassault Falcon',\n",
       "       'Sud Aviation Caravelle', 'Eurocopter AS 332L2 Super Puma',\n",
       "       'Boeing Vertol CH47C', 'Breguet', 'Rohrbach',\n",
       "       'Swearingen SA.227AC Metro', 'General Aviation',\n",
       "       'Handley Page Dart Herald', 'Avro 688 Super', 'Let 410UVP',\n",
       "       'Boeing 377 Stratocruiser', 'Lockheed Martin',\n",
       "       'Lockheed 1049H Super', 'Cessna 208 Grand', 'Reims Aviation',\n",
       "       'Liore et Olivier', 'Avro 691 Lancastrian',\n",
       "       'Aerospatiale AS350 Eurocopter', 'Piper', 'Howard', '?VH',\n",
       "       'de Havilland DH.80 Puss', 'Vickers 804', 'Embraer 120ER',\n",
       "       'Latecoere', 'Sikorsky S43 (flying)',\n",
       "       'Supermarine Stranraer (flying)', 'Beechcraft C99 / Rockwell',\n",
       "       'Bell 206B', 'MD Douglas', 'CASA', 'Gates Learjet', 'Lockheed 10',\n",
       "       'Bristol 170 Freighter', 'Savoia', 'Armstrong',\n",
       "       'Royal Airship Works', 'Wibault', 'Let 410UVP Turbojet / Tupolev',\n",
       "       'Shorts', 'Vickers 634 Viking', 'Catalina Flying', 'Norman',\n",
       "       'Hindustan Aeronautics 748', 'Pacific', 'HESA', 'UH', 'Caproni',\n",
       "       'Handley Page', 'Macchi', 'Unknown /', 'Bleriot',\n",
       "       'Consolidated Canso', 'Latecoere 631 (flying)', 'Eurocopter',\n",
       "       'Lockheed 10B', 'Stinson', 'Aerospatiale', 'Avro Lancaster',\n",
       "       'Lockheed 10 Electra', 'Lockheed 9', 'Siebel',\n",
       "       'Lockheed Orion 9E Explorer float', 'BAC', 'Lockheed 5',\n",
       "       'Piper Navajo', 'Arava', 'Short Sandringham (flying)',\n",
       "       'Vickers Viking', 'Cessna  501', 'North American',\n",
       "       'Avro 691 Lancastrian (flying)', 'Vickers 815',\n",
       "       'Short Sandringham 5 (flying)', 'Lockheed 188A', 'PA',\n",
       "       'Blériot Spad', 'AeroflotL5057', 'Kalinin', 'Lockheed 1049G Super',\n",
       "       'Boeing Vertol CH47B', 'Chance Vought', 'DC', 'Sud', 'Yunshuji',\n",
       "       'Bell Huey', 'Farman F.60', 'LET 410M', 'Cessna 208B Grand',\n",
       "       'Lockheed 10E', 'Embraer 110', 'Sud Aviation SE 210 Caravelle',\n",
       "       'Boeing Vertol', 'Bristol 170', 'Fairchild C119G / Fairchild',\n",
       "       'Waco, model', 'Latécoère 23 (flying)', 'Curtiss C',\n",
       "       'Eurocopter Deutschland', 'Nord', 'Bristol 28',\n",
       "       'Short S23 ‘C’ Class flying', 'Martin PBM', 'Avro  685 York',\n",
       "       'Vickers Viscount 827 / Fokker', 'Loening', 'Curtis',\n",
       "       'Vickers Viscount 764', 'VC', 'Bristol 175 Britannia', '?NC21V',\n",
       "       'Grumman G73T Turbo', 'Caudron', 'Embraer 120', 'Potez',\n",
       "       'Vickers 708', 'Latécoère 300 (float)', 'Mil Mi 8T', 'Arado',\n",
       "       'Beech', 'Cessna 208B Caravan I Super', 'Lockheed Vega', 'HAL',\n",
       "       'Hindustan Aeronautics', 'CASA 212 Aviocar', 'IPTN 332C Super',\n",
       "       'M28', 'SNCASE', 'Lockheed 049', 'Cessna 421 Golden',\n",
       "       'Short Empire flying', 'Vickers 785D', 'SNIAS',\n",
       "       'British Aerospace Jetstream', 'Avro 683', 'Cessna 207 / Cessna',\n",
       "       'Five Grumman TBM', 'UC', 'Zeppelin Dixmunde', 'Curtiss Wright',\n",
       "       'MD', 'McDonnell', 'Fairchild Pilgrim', 'KB', 'Nakajima', 'Ryan',\n",
       "       'GAF Nomad', 'Heinkel', 'Rockwell International', 'Ilyushin 14M',\n",
       "       'Li', 'Tupolev A.N.T.', 'Cessna 404', 'ATR42', 'DHC',\n",
       "       'Mc Donnell Douglas', 'Aérospatiale/Aeritalia', 'Lockheed Orion',\n",
       "       'Travel Air', 'Channel Air', 'de Havilland Comet', 'LET 410',\n",
       "       'PZL', 'British Aerospace 3101 Jetstream', 'Beech Queen Air',\n",
       "       'Twin', 'de Havilland DH.104 Dove', 'ConvairCV', 'Eurocopter EC',\n",
       "       'Beechcraft Super King Air', 'Bandeirante', 'Embraer 110C',\n",
       "       'Embraer 110P', 'Fokker 27 Friendship', 'deHavilland', 'Boeing 40',\n",
       "       'Consolidated  32 Liberator', 'Cessna 208A Caravan I',\n",
       "       'Cessna 560 Citation', 'Pitcairn', 'Transall',\n",
       "       'Vickers 628 Viking', 'Nord 2501', 'Vickers 813', 'Fairchild?',\n",
       "       'Lioré', 'Vickers 952F', 'Airspeed Ambassador', 'IAI 1124',\n",
       "       'Casa 212', 'Beechcraft Bonanza', 'Vickers 614 Viking',\n",
       "       'Fokker Universal', 'Mc Donnell Dougals',\n",
       "       'Swearingen SA.227AT Merlin', 'Latécoère', 'Cant', 'Dormier',\n",
       "       'Latecoere 301 (flying)', 'Sikorsky CH53D / Sikorsky CH53D357 /',\n",
       "       'PAC', 'Bombardier', 'Desoutter', 'Embraer 110P2',\n",
       "       'Lockheed  188A', 'Curtiss Carrier', 'MH', 'Junkers 52/3m',\n",
       "       'de Havilland DHC', 'Eurocopter  AS332L2 Super', 'V6', 'Avia',\n",
       "       'Swearingen SA.226TC Metro', 'Grummand',\n",
       "       'Vickers Viscount 754D / Douglas', 'Beechcraft B200 Super King',\n",
       "       'Dirigible Roma', 'Helicopter?', 'BAe', 'Lear Jet', 'Sabca',\n",
       "       'Vickers 615 Viking', 'Breguet 14', 'Lockheed L 1049G Super',\n",
       "       'de Hav Can.', 'F', 'Shaanxi Yunshuji', 'Black Hawk',\n",
       "       'Hawker Siddeley HS', 'Beech King Air 200', 'Swearingen SA.227AC',\n",
       "       'Martin 202A /', 'DC3(C47)FAC', 'Vickers', 'Dewoitine',\n",
       "       'SNCASE SE.2010', 'CMASA', 'Lockheed P2V', 'Lockheed 1329 Jetstar',\n",
       "       'CH53E Sea', 'Lockheed Hercules', 'Savoia Marchetti',\n",
       "       'Vickers Valetta Mk1 / Avero LancasterVX562 /', 'AirbusA310',\n",
       "       'Lockheed 1049E Super', 'Embraer 120RT', 'Lockheed 14H Super',\n",
       "       'Britten Norman BN', 'Cessna 441', 'Avro 688 Tudor', 'Bell 206',\n",
       "       'Curtiss Condor', 'Embraer 110P1A', 'Stinson Reliant', 'Wapiti?',\n",
       "       'Fokker 28 Fellowship', 'GAF N22B', 'Military', 'Vickers 802',\n",
       "       'de Havilland Dove', 'Boeing B52 Stratofortress/Boeing KC',\n",
       "       'Casa 352', 'Shaanxi', 'Short Sunderland 9 (flying)', 'Vultee',\n",
       "       'BAE Avro', 'LET  410M', 'Tupolev TU', 'Ilyushin76TD4K',\n",
       "       'Helicopter, Hughes', 'Rockwell Sabreliner',\n",
       "       'Short Sandringham 2 (flying)', 'Lasco', 'Fiat', 'Boeing 377',\n",
       "       'Schutte', 'Spartan', 'Airspeed AS.57 Ambassador',\n",
       "       'Handley Page Hastings C Mark', 'Vickers 74',\n",
       "       'Aerospatiale BAe Concorde', 'Beechcraft 1900D / Cessna', 'LVG C',\n",
       "       'Consolidated Catalina', 'Hawker', 'Volpar', 'FD Type',\n",
       "       'Beechcraft B300 King', 'Lockheed 1049C Super', 'Avro 685', 'Saro',\n",
       "       'EC', 'British Aerospace  BAe Jetstream', 'Vickers 798D',\n",
       "       'General', 'CMASA Wal (flying)', 'Consolidated Liberator B24',\n",
       "       'Fairchild packet (C119 flying)', 'Fokker (KLM)', 'Dirigible?',\n",
       "       'R4D', 'Mitsubishi MU 2B', 'Beech King Air', 'Sikorsky  S 76',\n",
       "       'Sikorsky S', 'Antonov An', 'Ilushin', 'Iluyshin', 'Junkers JU86',\n",
       "       'Vickers 837', 'Caravelle', 'Kubicek BB85Z Hot Air', 'Sukhoi',\n",
       "       'EMB 721C', 'Fairchild Hiller', 'Bell 407 / Bell 407N407GA /',\n",
       "       'de Havilland Can.', 'Domier Delphin III (flying)', 'Avro 691',\n",
       "       'Embraer 820C', 'Lockheed 10C', 'Beechcraft A100 King', 'KJ',\n",
       "       'PBY', 'Xian Yunshuji', 'Airspeed', 'Zepplin', 'AEGKD', 'VEB',\n",
       "       'Bleriot Spad', 'Lockheed 1649A', 'Sikorsly',\n",
       "       'de Havilland DH.89 Dragon', 'Sirkorsky', 'MI 172 V5',\n",
       "       'Swearingen 226TC Metro', 'Aerospeciale', 'B', 'Noorduyn',\n",
       "       'BAC One Eleven', 'L', 'Boeing Vertol Chinook', 'Socata',\n",
       "       'Piaggio', 'Ilysushin', 'Cessna 404 Titan Courier', 'Koolhoven',\n",
       "       'Pitcairns', 'Cessna 550 Citation', 'Both Eurocopter', 'Airship?',\n",
       "       'Armstrong Whitworth Argosy', 'Rockwell 500S Shrike',\n",
       "       'Aerospatiale Nord', 'Avro 689 Tudor', 'Sepecat Jaguar', '?139',\n",
       "       'Grummand Gulfstream', 'Dassault', 'Vickers 604 Viking',\n",
       "       'IAI Attava', 'de Havilland Dragon', 'Blackburn Beverley C Mark',\n",
       "       'Boeing 737 Max', 'Latecoere 631 (sea)', 'Rochrbach',\n",
       "       'Aerospatiale AS350BA', 'MiG', 'Savoia Marchetti SM', 'H',\n",
       "       'Fokker F10A', 'Mc Donnell Douglas 369FF',\n",
       "       'Aeromarine Model 85 (flying)', 'IAI Arava', 'Eurocopter AS',\n",
       "       'Northrop Alpha', 'Fairchild R4Q / Dougas', 'AT L98',\n",
       "       'IAI 1124A Westwind', 'Tuolev', 'Avro York',\n",
       "       'Handley Page Jetstream', 'Saab340BB', 'Vickers 616 Viking',\n",
       "       'Aerospatiale Caravelle Super', 'British Aerospace 748',\n",
       "       'Cessna 500 Citation', 'Boeing 307', 'Urocopter AS350', 'Antonv',\n",
       "       'SPCA Meteore', 'Eurocopter AS350D', 'Swearingen SA227AC Metro',\n",
       "       'Illyushin', 'Dassault Breguet', 'Bristol 170 Freighter 31 Mark',\n",
       "       'Grumman Gulfstream', 'McDonnel', 'Embraer 110 P1', 'Liore',\n",
       "       'PBY4', 'Vickers 639 Viking', 'Stinson SM6000B',\n",
       "       'Aerospatiale 330G', 'Sukhoi Superjet', 'Xian', 'CH',\n",
       "       'Vickers Viscount 745D /', 'Rockwell Gulfstream Jetprop 840',\n",
       "       'Ford model', 'Handley Page Hastings', 'Westland Sea King',\n",
       "       'Beechcraft B300 King Air', 'CF', 'Swear.', 'BAe Jetstream',\n",
       "       'Boeing CH47A', 'Boeing Vertol CH47A', 'Handley Page Halifax',\n",
       "       'Cessna 404 Titan', 'Lockheed L188A', 'Vickers 620 Viking',\n",
       "       'Travel Air 6000', 'Robertson R44', 'Saab Scandia / Cessna',\n",
       "       'Douglas DC', 'Stinson?', 'Short Solent 3 (flying)', 'AAC',\n",
       "       'Cessna 421C Golden', 'Lockheed 749', 'Super Zeppelin', 'Tempest?',\n",
       "       'Aerospatiale 330J', 'Vickers 828', 'Aerospatiale Alenia',\n",
       "       'Bell 412', 'Burgess', 'Aerospatiale AS 332L1 Super',\n",
       "       'Eurocopter EC135', 'Short Sunderland', 'Budd', 'IAI 1124A',\n",
       "       'Northrop', '?42', 'Hamilton', 'Fokker F27 Friendship',\n",
       "       'Lockhed 10', 'Grazhdansky Vozdushnyi Flot',\n",
       "       'Aerospatiale AS 350B2', 'BAe 3101 Jetstream',\n",
       "       'Swearingen SA227AT Merlin', '?VP', 'Boeing 314A', 'Cessna 208',\n",
       "       'Short S.23 Empire Flying', 'Vickers 720', 'Beechcraft 100 King',\n",
       "       'Vickers 610', 'Salmson', 'Short Stirling',\n",
       "       'Dornier DO.18 (float)', 'Savbia', 'A', 'Short Calcutta (flying)',\n",
       "       'Bell 204B', 'Canadair CRJ200LR', 'BAC One', 'Boeing  377',\n",
       "       'de havilland 89 Dragon', 'Rutan Long EZ (experimental)',\n",
       "       'Agusta A109A MK', 'Boeing Vetrol 107 II', 'Enstrom',\n",
       "       'Lockheed 10A', 'Sirkorsky 44A (flying)', 'Blackburn',\n",
       "       'Shorts SC.7 Skyvan', 'Short Sandringham 6 (flying)',\n",
       "       'Cessna 402C', 'Faucett', 'Sikorksky', 'de Havilland DH114 Heron',\n",
       "       'GVF', 'Ilyushin IL', 'Bell 214ST', 'Aero Commander AC',\n",
       "       'Cessna 208 Caravan', 'Fairey Firefly', 'LET 410MT', 'Bell 214',\n",
       "       'Boeing 307 Stratoliner', 'Beech 200 Super King',\n",
       "       'British Aerospace Nimrod', 'de Havilland Canada DHC 3T Turbine',\n",
       "       'Soloy', 'Beechcraft SKA', 'de havilland Canada Twin Otter',\n",
       "       'Saab Scandia', 'Cessna 501', 'Hawker Siddeley Trident 2E /',\n",
       "       'Lockheed  5', 'Fokker UniversalNC52', 'Transportes Aéreos',\n",
       "       'Vickers 634', 'Vickers 621 Viking', 'Bloch', 'Spad', 'Wright',\n",
       "       'Cessna 441 Conquest', 'Fokker Super', 'CRDA CANT', 'Let Aero',\n",
       "       'Rockwell', 'Boulton and Paul', 'Fletcher', 'Cessna 402 / Piper',\n",
       "       'Dirigible', 'Stinson SM', 'AeroflotCCCP',\n",
       "       'de Havilland 89A Dragon', 'Avro Ninteen', 'Antonov An26SH76',\n",
       "       'Wright Flyer', nan], dtype=object)"
      ]
     },
     "execution_count": 55,
     "metadata": {},
     "output_type": "execute_result"
    }
   ],
   "source": [
    "df['Aircraft Manufacturer'].unique()"
   ]
  },
  {
   "cell_type": "code",
   "execution_count": 57,
   "id": "ba62532c-70e6-4de6-8392-a4392a4f792d",
   "metadata": {},
   "outputs": [],
   "source": [
    "df.loc[:,\"Aircraft Manufacturer\"]=df.loc[:,\"Aircraft Manufacturer\"].str.replace(\"?\", \"unknown\").str.replace('C', 'C47(DC)')\n"
   ]
  },
  {
   "cell_type": "code",
   "execution_count": 79,
   "id": "31861b9c-0a26-4b04-8561-b73214c0ea3e",
   "metadata": {},
   "outputs": [],
   "source": [
    "df.loc[:,\"Aircraft Manufacturer\"]=df.loc[:,\"Aircraft Manufacturer\"].str.replace('unknownunknown', 'unknown').str.replace('Swallow\\r\\nSwallowunknown', 'Swallow').str.replace('L', 'unknown').str.replace('H', 'unknown').str.replace('unknown/', 'unknown').str.replace('F', 'unknown')"
   ]
  },
  {
   "cell_type": "code",
   "execution_count": 66,
   "id": "c7b0ada2-c08d-4fce-8ddb-8aa8f38afd32",
   "metadata": {},
   "outputs": [
    {
     "data": {
      "text/plain": [
       "array(['de Havilland Canada DHC 6 Twin Otter 100VH', 'Douglas DC 3VT',\n",
       "       'Vickers Vanguard 952G AXOP', ..., 'Lockheed Hercules C 1309T',\n",
       "       'Douglas DC 6BSE', nan], dtype=object)"
      ]
     },
     "execution_count": 66,
     "metadata": {},
     "output_type": "execute_result"
    }
   ],
   "source": [
    "df['Aircraft'].unique()"
   ]
  },
  {
   "cell_type": "code",
   "execution_count": 75,
   "id": "f99daacd-5c2c-4400-a216-e22f5e34e2d7",
   "metadata": {},
   "outputs": [],
   "source": [
    "def fix_incomplete_parentheses(text):\n",
    "        if '(' in text and ')' not in text:\n",
    "            return text + ')'\n",
    "        else:\n",
    "            return text\n",
    "            \n",
    "            df['Aircraft'] = df['Aircraft'].apply(fix_incomplete_parentheses)"
   ]
  },
  {
   "cell_type": "code",
   "execution_count": 70,
   "id": "d583c629-8ffe-43b9-900f-b6afe49c63f6",
   "metadata": {},
   "outputs": [
    {
     "data": {
      "text/plain": [
       "array(['de Havilland Canada DHC 6 Twin Otter 100VH', 'Douglas DC 3VT',\n",
       "       'Vickers Vanguard 952G AXOP', ..., 'Lockheed Hercules C 1309T',\n",
       "       'Douglas DC 6BSE', nan], dtype=object)"
      ]
     },
     "execution_count": 70,
     "metadata": {},
     "output_type": "execute_result"
    }
   ],
   "source": [
    "df.loc[:,\"Aircraft\"]=df.loc[:,\"Aircraft\"].str.strip(\"?\")\n",
    "df['Aircraft'].unique()"
   ]
  },
  {
   "cell_type": "code",
   "execution_count": null,
   "id": "62d01ee0-b929-4816-850b-a7f9319b6c90",
   "metadata": {},
   "outputs": [],
   "source": []
  },
  {
   "cell_type": "code",
   "execution_count": 112,
   "id": "7bf516b8-28aa-4548-a787-d344d3dc8711",
   "metadata": {},
   "outputs": [],
   "source": [
    "df['Location'] = df['Location'].str.rstrip('- ').str.strip('?')"
   ]
  },
  {
   "cell_type": "code",
   "execution_count": 114,
   "id": "0fd6c974-9ad9-451e-bd25-5d2662818db2",
   "metadata": {},
   "outputs": [
    {
     "data": {
      "text/plain": [
       "0                           Kainatu\n",
       "1                             Delhi\n",
       "2                        Near Basel\n",
       "3                              Pepa\n",
       "4                        Pindi-Khut\n",
       "                   ...             \n",
       "5030               Near Kindu Zaire\n",
       "5031               Near Uvira Zaire\n",
       "5032    Near the Kwango River Zaire\n",
       "5033                    Kindu Zaire\n",
       "5034                   Ndola Zambia\n",
       "Name: Location, Length: 5035, dtype: object"
      ]
     },
     "execution_count": 114,
     "metadata": {},
     "output_type": "execute_result"
    }
   ],
   "source": [
    "df['Location']"
   ]
  },
  {
   "cell_type": "code",
   "execution_count": null,
   "id": "2b922f83-01e1-4aea-8535-71811927e73c",
   "metadata": {},
   "outputs": [],
   "source": []
  },
  {
   "cell_type": "code",
   "execution_count": 129,
   "id": "c31808c0-8141-4563-b498-ba1ccdcac787",
   "metadata": {},
   "outputs": [
    {
     "data": {
      "text/plain": [
       "array(['Airlines Australia GuineaTrans New', 'Airways IndiaDeccan',\n",
       "       '(UK) Airlines International SwitzerlandInvicta', ...,\n",
       "       'Services Aero MMM', 'Zaïroise Aérienne Force - Military',\n",
       "       'Sweden Transair'], dtype=object)"
      ]
     },
     "execution_count": 129,
     "metadata": {},
     "output_type": "execute_result"
    }
   ],
   "source": [
    "df['Operator'].unique()"
   ]
  },
  {
   "cell_type": "code",
   "execution_count": 120,
   "id": "1d6cf32c-e725-47a6-b408-8f7ee087cb54",
   "metadata": {},
   "outputs": [],
   "source": [
    "df['Operator'] = df['Operator'].str.strip('?')"
   ]
  },
  {
   "cell_type": "code",
   "execution_count": null,
   "id": "b95bdca0-3804-45ea-9884-f6ce0c8f0531",
   "metadata": {},
   "outputs": [],
   "source": []
  },
  {
   "cell_type": "code",
   "execution_count": 124,
   "id": "56a71819-b723-4b36-aa9a-5a4c679969b2",
   "metadata": {},
   "outputs": [
    {
     "data": {
      "text/plain": [
       "Year                     0\n",
       "Quarter                  0\n",
       "Month                    0\n",
       "Day                      0\n",
       "Country/Region           0\n",
       "Aircraft Manufacturer    0\n",
       "Aircraft                 0\n",
       "Location                 0\n",
       "Operator                 0\n",
       "Ground                   0\n",
       "Fatalities (air)         0\n",
       "Aboard                   0\n",
       "location                 0\n",
       "dtype: int64"
      ]
     },
     "execution_count": 124,
     "metadata": {},
     "output_type": "execute_result"
    }
   ],
   "source": [
    "df.isna().sum()"
   ]
  },
  {
   "cell_type": "code",
   "execution_count": 72,
   "id": "c8898d61-34a7-46b8-a4ad-8c1cc1f7e309",
   "metadata": {},
   "outputs": [],
   "source": [
    "df.dropna(inplace = True)"
   ]
  },
  {
   "cell_type": "markdown",
   "id": "2ff4c9ae-5039-4248-a4f9-b65167679de4",
   "metadata": {},
   "source": [
    "### Research Questions"
   ]
  },
  {
   "cell_type": "raw",
   "id": "aefea98c-c46b-4dae-b140-384b2f5ad885",
   "metadata": {},
   "source": [
    "1. what is the survival rate\n",
    "\n",
    "2&3. How have aircraft crash incidents varied across years, quarters, and months?\n",
    "\n",
    "4. Which countries/regions have experienced the highest number of aircraft crashes?\n",
    "\n",
    "5. Which aircraft manufacturers have the highest incidence of crashes?\n",
    "\n",
    "6. Which aircraft manufacturers have the highest survival rate?\n",
    "\n",
    "7. Does the size of the aircraft (total aboard) correlate with survival rates or total fatalities?"
   ]
  },
  {
   "cell_type": "markdown",
   "id": "6882fe37-9386-4201-bd12-8379d3867643",
   "metadata": {},
   "source": [
    "## Q1"
   ]
  },
  {
   "cell_type": "code",
   "execution_count": 429,
   "id": "7c8f0acb-ce19-4046-95bc-7001d9f4f037",
   "metadata": {},
   "outputs": [
    {
     "data": {
      "text/plain": [
       "0        3\n",
       "1        0\n",
       "2       37\n",
       "3        0\n",
       "4        0\n",
       "        ..\n",
       "5030     0\n",
       "5031     0\n",
       "5032     0\n",
       "5033     0\n",
       "5034     0\n",
       "Length: 5035, dtype: int64"
      ]
     },
     "execution_count": 429,
     "metadata": {},
     "output_type": "execute_result"
    }
   ],
   "source": [
    "# What is the survival rate\n",
    "\n",
    "survival_rate = df[\"Aboard\"] - df[\"Fatalities (air)\"]\n",
    "\n",
    "survival_rate"
   ]
  },
  {
   "cell_type": "code",
   "execution_count": 431,
   "id": "3a239889-6591-47fe-9904-a5df403ad80b",
   "metadata": {},
   "outputs": [
    {
     "data": {
      "text/html": [
       "<div>\n",
       "<style scoped>\n",
       "    .dataframe tbody tr th:only-of-type {\n",
       "        vertical-align: middle;\n",
       "    }\n",
       "\n",
       "    .dataframe tbody tr th {\n",
       "        vertical-align: top;\n",
       "    }\n",
       "\n",
       "    .dataframe thead th {\n",
       "        text-align: right;\n",
       "    }\n",
       "</style>\n",
       "<table border=\"1\" class=\"dataframe\">\n",
       "  <thead>\n",
       "    <tr style=\"text-align: right;\">\n",
       "      <th></th>\n",
       "      <th>Year</th>\n",
       "      <th>Quarter</th>\n",
       "      <th>Month</th>\n",
       "      <th>Day</th>\n",
       "      <th>Country/Region</th>\n",
       "      <th>Aircraft Manufacturer</th>\n",
       "      <th>Aircraft</th>\n",
       "      <th>Location</th>\n",
       "      <th>Operator</th>\n",
       "      <th>Ground</th>\n",
       "      <th>Fatalities (air)</th>\n",
       "      <th>Aboard</th>\n",
       "      <th>survival_rate</th>\n",
       "    </tr>\n",
       "  </thead>\n",
       "  <tbody>\n",
       "    <tr>\n",
       "      <th>0</th>\n",
       "      <td>1970</td>\n",
       "      <td>Qtr 2</td>\n",
       "      <td>April</td>\n",
       "      <td>28</td>\n",
       "      <td>NaN</td>\n",
       "      <td>de Havilland Canada</td>\n",
       "      <td>de Havilland Canada DHC 6 Twin Otter 100VH</td>\n",
       "      <td>Kainatu</td>\n",
       "      <td>Airlines Australia GuineaTrans New</td>\n",
       "      <td>0</td>\n",
       "      <td>8</td>\n",
       "      <td>11</td>\n",
       "      <td>3</td>\n",
       "    </tr>\n",
       "    <tr>\n",
       "      <th>1</th>\n",
       "      <td>1952</td>\n",
       "      <td>Qtr 2</td>\n",
       "      <td>April</td>\n",
       "      <td>30</td>\n",
       "      <td>NaN</td>\n",
       "      <td>Douglas</td>\n",
       "      <td>Douglas DC 3VT</td>\n",
       "      <td>Delhi</td>\n",
       "      <td>Airways IndiaDeccan</td>\n",
       "      <td>0</td>\n",
       "      <td>9</td>\n",
       "      <td>9</td>\n",
       "      <td>0</td>\n",
       "    </tr>\n",
       "    <tr>\n",
       "      <th>2</th>\n",
       "      <td>1973</td>\n",
       "      <td>Qtr 2</td>\n",
       "      <td>April</td>\n",
       "      <td>10</td>\n",
       "      <td>NaN</td>\n",
       "      <td>Vickers Vanguard</td>\n",
       "      <td>Vickers Vanguard 952G AXOP</td>\n",
       "      <td>Near Basel</td>\n",
       "      <td>(UK) Airlines International SwitzerlandInvicta</td>\n",
       "      <td>0</td>\n",
       "      <td>108</td>\n",
       "      <td>145</td>\n",
       "      <td>37</td>\n",
       "    </tr>\n",
       "    <tr>\n",
       "      <th>3</th>\n",
       "      <td>2000</td>\n",
       "      <td>Qtr 2</td>\n",
       "      <td>April</td>\n",
       "      <td>19</td>\n",
       "      <td>'-</td>\n",
       "      <td>Antonov</td>\n",
       "      <td>Antonov AN 8TL</td>\n",
       "      <td>Pepa  -</td>\n",
       "      <td>Airlines Centrafricain</td>\n",
       "      <td>0</td>\n",
       "      <td>24</td>\n",
       "      <td>24</td>\n",
       "      <td>0</td>\n",
       "    </tr>\n",
       "    <tr>\n",
       "      <th>4</th>\n",
       "      <td>1946</td>\n",
       "      <td>Qtr 2</td>\n",
       "      <td>April</td>\n",
       "      <td>30</td>\n",
       "      <td>'-</td>\n",
       "      <td>Douglas</td>\n",
       "      <td>Douglas C 47A FZ559</td>\n",
       "      <td>Pindi-Khut  -</td>\n",
       "      <td>Force Air Royal</td>\n",
       "      <td>0</td>\n",
       "      <td>12</td>\n",
       "      <td>12</td>\n",
       "      <td>0</td>\n",
       "    </tr>\n",
       "  </tbody>\n",
       "</table>\n",
       "</div>"
      ],
      "text/plain": [
       "   Year Quarter  Month  Day Country/Region Aircraft Manufacturer  \\\n",
       "0  1970   Qtr 2  April   28            NaN   de Havilland Canada   \n",
       "1  1952   Qtr 2  April   30            NaN               Douglas   \n",
       "2  1973   Qtr 2  April   10            NaN      Vickers Vanguard   \n",
       "3  2000   Qtr 2  April   19             '-               Antonov   \n",
       "4  1946   Qtr 2  April   30             '-               Douglas   \n",
       "\n",
       "                                     Aircraft       Location  \\\n",
       "0  de Havilland Canada DHC 6 Twin Otter 100VH        Kainatu   \n",
       "1                              Douglas DC 3VT          Delhi   \n",
       "2                  Vickers Vanguard 952G AXOP     Near Basel   \n",
       "3                              Antonov AN 8TL        Pepa  -   \n",
       "4                         Douglas C 47A FZ559  Pindi-Khut  -   \n",
       "\n",
       "                                         Operator  Ground  Fatalities (air)  \\\n",
       "0              Airlines Australia GuineaTrans New       0                 8   \n",
       "1                             Airways IndiaDeccan       0                 9   \n",
       "2  (UK) Airlines International SwitzerlandInvicta       0               108   \n",
       "3                          Airlines Centrafricain       0                24   \n",
       "4                                 Force Air Royal       0                12   \n",
       "\n",
       "   Aboard  survival_rate  \n",
       "0      11              3  \n",
       "1       9              0  \n",
       "2     145             37  \n",
       "3      24              0  \n",
       "4      12              0  "
      ]
     },
     "execution_count": 431,
     "metadata": {},
     "output_type": "execute_result"
    }
   ],
   "source": [
    "df.loc[:, 'survival_rate'] = survival_rate\n",
    "\n",
    "df.head()"
   ]
  },
  {
   "cell_type": "code",
   "execution_count": null,
   "id": "9cd3bbbe-ef9d-40c0-8b41-fc92d5722bf1",
   "metadata": {},
   "outputs": [],
   "source": []
  },
  {
   "cell_type": "markdown",
   "id": "eebee4a9-4590-4125-8297-e5b0528d9e8a",
   "metadata": {},
   "source": [
    "## Q2&3"
   ]
  },
  {
   "cell_type": "code",
   "execution_count": 230,
   "id": "ab247b3d-1226-4cf5-802c-950d55e8bfff",
   "metadata": {},
   "outputs": [
    {
     "data": {
      "text/plain": [
       "Index(['Year', 'Quarter', 'Month', 'Day', 'Country/Region',\n",
       "       'Aircraft Manufacturer', 'Aircraft', 'Location', 'Operator', 'Ground',\n",
       "       'Fatalities (air)', 'Aboard', 'survival_rate'],\n",
       "      dtype='object')"
      ]
     },
     "execution_count": 230,
     "metadata": {},
     "output_type": "execute_result"
    }
   ],
   "source": [
    "df.columns"
   ]
  },
  {
   "cell_type": "code",
   "execution_count": 261,
   "id": "dcdc8d5a-b66b-4e6c-9c48-82775f2c2bb3",
   "metadata": {},
   "outputs": [
    {
     "data": {
      "text/html": [
       "<div>\n",
       "<style scoped>\n",
       "    .dataframe tbody tr th:only-of-type {\n",
       "        vertical-align: middle;\n",
       "    }\n",
       "\n",
       "    .dataframe tbody tr th {\n",
       "        vertical-align: top;\n",
       "    }\n",
       "\n",
       "    .dataframe thead th {\n",
       "        text-align: right;\n",
       "    }\n",
       "</style>\n",
       "<table border=\"1\" class=\"dataframe\">\n",
       "  <thead>\n",
       "    <tr style=\"text-align: right;\">\n",
       "      <th></th>\n",
       "      <th>Year</th>\n",
       "      <th>Fatalities (air)</th>\n",
       "    </tr>\n",
       "  </thead>\n",
       "  <tbody>\n",
       "    <tr>\n",
       "      <th>61</th>\n",
       "      <td>1972</td>\n",
       "      <td>2796</td>\n",
       "    </tr>\n",
       "    <tr>\n",
       "      <th>74</th>\n",
       "      <td>1985</td>\n",
       "      <td>2590</td>\n",
       "    </tr>\n",
       "    <tr>\n",
       "      <th>62</th>\n",
       "      <td>1973</td>\n",
       "      <td>2323</td>\n",
       "    </tr>\n",
       "    <tr>\n",
       "      <th>85</th>\n",
       "      <td>1996</td>\n",
       "      <td>2314</td>\n",
       "    </tr>\n",
       "    <tr>\n",
       "      <th>63</th>\n",
       "      <td>1974</td>\n",
       "      <td>2242</td>\n",
       "    </tr>\n",
       "  </tbody>\n",
       "</table>\n",
       "</div>"
      ],
      "text/plain": [
       "    Year  Fatalities (air)\n",
       "61  1972              2796\n",
       "74  1985              2590\n",
       "62  1973              2323\n",
       "85  1996              2314\n",
       "63  1974              2242"
      ]
     },
     "execution_count": 261,
     "metadata": {},
     "output_type": "execute_result"
    }
   ],
   "source": [
    "## How have aircraft crash incidents varied across years, quarters, and months?\n",
    "\n",
    "Year = df.groupby(['Year'])['Fatalities (air)'].sum().reset_index()\n",
    "\n",
    "\n",
    "top_Year = Year.sort_values(by = 'Fatalities (air)', ascending =False)\n",
    "\n",
    "\n",
    "top_Year.head(5)"
   ]
  },
  {
   "cell_type": "code",
   "execution_count": 310,
   "id": "f2aa12b1-7eaf-4144-805b-009f3e3f44bf",
   "metadata": {},
   "outputs": [
    {
     "data": {
      "application/vnd.plotly.v1+json": {
       "config": {
        "plotlyServerURL": "https://plot.ly"
       },
       "data": [
        {
         "hovertemplate": "Fatalities (air)=%{x}<br>Year=%{y}<extra></extra>",
         "legendgroup": "",
         "marker": {
          "color": "#000001",
          "symbol": "circle"
         },
         "mode": "markers",
         "name": "",
         "orientation": "v",
         "showlegend": false,
         "type": "scatter",
         "x": [
          2796,
          2590,
          2323,
          2314,
          2242,
          2210,
          2139,
          2102,
          2017,
          1945,
          1928,
          1920,
          1881,
          1842,
          1838,
          1806,
          1784,
          1780,
          1725,
          1717,
          1708,
          1684,
          1648,
          1632,
          1632,
          1605,
          1564,
          1539,
          1508,
          1508,
          1494,
          1491,
          1460,
          1444,
          1430,
          1405,
          1403,
          1384,
          1373,
          1371,
          1339,
          1336,
          1327,
          1317,
          1314,
          1294,
          1279,
          1274,
          1265,
          1258,
          1168,
          1163,
          1142,
          1141,
          1125,
          1118,
          1115,
          1083,
          1044,
          991,
          958,
          921,
          913,
          888,
          874,
          863,
          759,
          727,
          720,
          716,
          710,
          662,
          587,
          515,
          497,
          444,
          355,
          305,
          287,
          277,
          271,
          253,
          251,
          244,
          214,
          206,
          189,
          186,
          168,
          157,
          140,
          138,
          133,
          113,
          108,
          102,
          89,
          86,
          78,
          73,
          65,
          64,
          52,
          43,
          36,
          36,
          34,
          25,
          23,
          20,
          15,
          5,
          1,
          1
         ],
         "xaxis": "x",
         "y": [
          1972,
          1985,
          1973,
          1996,
          1974,
          1989,
          1962,
          1977,
          1992,
          1988,
          1969,
          1970,
          1968,
          1976,
          1979,
          1994,
          1971,
          1965,
          1991,
          1980,
          1982,
          1960,
          1966,
          1997,
          1987,
          1967,
          1983,
          1961,
          1998,
          1993,
          1950,
          1995,
          1975,
          1978,
          2000,
          1986,
          1963,
          1958,
          1945,
          2002,
          1964,
          2001,
          1946,
          1953,
          1947,
          2005,
          2003,
          1952,
          1948,
          1951,
          1981,
          1949,
          2014,
          1959,
          1990,
          2006,
          1957,
          2009,
          2010,
          1956,
          1954,
          1984,
          1955,
          2007,
          2018,
          1999,
          2015,
          1943,
          2011,
          2008,
          1944,
          2004,
          2012,
          2016,
          1942,
          1938,
          2020,
          2019,
          2013,
          1941,
          1936,
          1940,
          1937,
          1935,
          2017,
          1933,
          2022,
          2021,
          1939,
          1930,
          1934,
          1917,
          1929,
          1928,
          1916,
          1931,
          1922,
          2023,
          1923,
          1932,
          1918,
          1921,
          1927,
          1913,
          1926,
          1915,
          1925,
          1920,
          1919,
          1924,
          2024,
          1912,
          1909,
          1908
         ],
         "yaxis": "y"
        }
       ],
       "layout": {
        "autosize": true,
        "legend": {
         "tracegroupgap": 0
        },
        "template": {
         "data": {
          "candlestick": [
           {
            "decreasing": {
             "line": {
              "color": "#000033"
             }
            },
            "increasing": {
             "line": {
              "color": "#000032"
             }
            },
            "type": "candlestick"
           }
          ],
          "contour": [
           {
            "colorscale": [
             [
              0,
              "#000011"
             ],
             [
              0.1111111111111111,
              "#000012"
             ],
             [
              0.2222222222222222,
              "#000013"
             ],
             [
              0.3333333333333333,
              "#000014"
             ],
             [
              0.4444444444444444,
              "#000015"
             ],
             [
              0.5555555555555556,
              "#000016"
             ],
             [
              0.6666666666666666,
              "#000017"
             ],
             [
              0.7777777777777778,
              "#000018"
             ],
             [
              0.8888888888888888,
              "#000019"
             ],
             [
              1,
              "#000020"
             ]
            ],
            "type": "contour"
           }
          ],
          "contourcarpet": [
           {
            "colorscale": [
             [
              0,
              "#000011"
             ],
             [
              0.1111111111111111,
              "#000012"
             ],
             [
              0.2222222222222222,
              "#000013"
             ],
             [
              0.3333333333333333,
              "#000014"
             ],
             [
              0.4444444444444444,
              "#000015"
             ],
             [
              0.5555555555555556,
              "#000016"
             ],
             [
              0.6666666666666666,
              "#000017"
             ],
             [
              0.7777777777777778,
              "#000018"
             ],
             [
              0.8888888888888888,
              "#000019"
             ],
             [
              1,
              "#000020"
             ]
            ],
            "type": "contourcarpet"
           }
          ],
          "heatmap": [
           {
            "colorscale": [
             [
              0,
              "#000011"
             ],
             [
              0.1111111111111111,
              "#000012"
             ],
             [
              0.2222222222222222,
              "#000013"
             ],
             [
              0.3333333333333333,
              "#000014"
             ],
             [
              0.4444444444444444,
              "#000015"
             ],
             [
              0.5555555555555556,
              "#000016"
             ],
             [
              0.6666666666666666,
              "#000017"
             ],
             [
              0.7777777777777778,
              "#000018"
             ],
             [
              0.8888888888888888,
              "#000019"
             ],
             [
              1,
              "#000020"
             ]
            ],
            "type": "heatmap"
           }
          ],
          "histogram2d": [
           {
            "colorscale": [
             [
              0,
              "#000011"
             ],
             [
              0.1111111111111111,
              "#000012"
             ],
             [
              0.2222222222222222,
              "#000013"
             ],
             [
              0.3333333333333333,
              "#000014"
             ],
             [
              0.4444444444444444,
              "#000015"
             ],
             [
              0.5555555555555556,
              "#000016"
             ],
             [
              0.6666666666666666,
              "#000017"
             ],
             [
              0.7777777777777778,
              "#000018"
             ],
             [
              0.8888888888888888,
              "#000019"
             ],
             [
              1,
              "#000020"
             ]
            ],
            "type": "histogram2d"
           }
          ],
          "icicle": [
           {
            "textfont": {
             "color": "white"
            },
            "type": "icicle"
           }
          ],
          "sankey": [
           {
            "textfont": {
             "color": "#000036"
            },
            "type": "sankey"
           }
          ],
          "scatter": [
           {
            "marker": {
             "line": {
              "width": 0
             }
            },
            "type": "scatter"
           }
          ],
          "table": [
           {
            "cells": {
             "fill": {
              "color": "#000038"
             },
             "font": {
              "color": "#000037"
             },
             "line": {
              "color": "#000039"
             }
            },
            "header": {
             "fill": {
              "color": "#000040"
             },
             "font": {
              "color": "#000036"
             },
             "line": {
              "color": "#000039"
             }
            },
            "type": "table"
           }
          ],
          "waterfall": [
           {
            "connector": {
             "line": {
              "color": "#000036",
              "width": 2
             }
            },
            "decreasing": {
             "marker": {
              "color": "#000033"
             }
            },
            "increasing": {
             "marker": {
              "color": "#000032"
             }
            },
            "totals": {
             "marker": {
              "color": "#000034"
             }
            },
            "type": "waterfall"
           }
          ]
         },
         "layout": {
          "coloraxis": {
           "colorscale": [
            [
             0,
             "#000011"
            ],
            [
             0.1111111111111111,
             "#000012"
            ],
            [
             0.2222222222222222,
             "#000013"
            ],
            [
             0.3333333333333333,
             "#000014"
            ],
            [
             0.4444444444444444,
             "#000015"
            ],
            [
             0.5555555555555556,
             "#000016"
            ],
            [
             0.6666666666666666,
             "#000017"
            ],
            [
             0.7777777777777778,
             "#000018"
            ],
            [
             0.8888888888888888,
             "#000019"
            ],
            [
             1,
             "#000020"
            ]
           ]
          },
          "colorscale": {
           "diverging": [
            [
             0,
             "#000021"
            ],
            [
             0.1,
             "#000022"
            ],
            [
             0.2,
             "#000023"
            ],
            [
             0.3,
             "#000024"
            ],
            [
             0.4,
             "#000025"
            ],
            [
             0.5,
             "#000026"
            ],
            [
             0.6,
             "#000027"
            ],
            [
             0.7,
             "#000028"
            ],
            [
             0.8,
             "#000029"
            ],
            [
             0.9,
             "#000030"
            ],
            [
             1,
             "#000031"
            ]
           ],
           "sequential": [
            [
             0,
             "#000011"
            ],
            [
             0.1111111111111111,
             "#000012"
            ],
            [
             0.2222222222222222,
             "#000013"
            ],
            [
             0.3333333333333333,
             "#000014"
            ],
            [
             0.4444444444444444,
             "#000015"
            ],
            [
             0.5555555555555556,
             "#000016"
            ],
            [
             0.6666666666666666,
             "#000017"
            ],
            [
             0.7777777777777778,
             "#000018"
            ],
            [
             0.8888888888888888,
             "#000019"
            ],
            [
             1,
             "#000020"
            ]
           ],
           "sequentialminus": [
            [
             0,
             "#000011"
            ],
            [
             0.1111111111111111,
             "#000012"
            ],
            [
             0.2222222222222222,
             "#000013"
            ],
            [
             0.3333333333333333,
             "#000014"
            ],
            [
             0.4444444444444444,
             "#000015"
            ],
            [
             0.5555555555555556,
             "#000016"
            ],
            [
             0.6666666666666666,
             "#000017"
            ],
            [
             0.7777777777777778,
             "#000018"
            ],
            [
             0.8888888888888888,
             "#000019"
            ],
            [
             1,
             "#000020"
            ]
           ]
          },
          "colorway": [
           "#000001",
           "#000002",
           "#000003",
           "#000004",
           "#000005",
           "#000006",
           "#000007",
           "#000008",
           "#000009",
           "#000010"
          ]
         }
        },
        "title": {
         "text": "Sum of Fatalities Vs. Year"
        },
        "xaxis": {
         "anchor": "y",
         "autorange": true,
         "domain": [
          0,
          1
         ],
         "range": [
          -171.56159097655092,
          2968.561590976551
         ],
         "title": {
          "text": "Year"
         },
         "type": "linear"
        },
        "yaxis": {
         "anchor": "x",
         "autorange": true,
         "domain": [
          0,
          1
         ],
         "range": [
          1898.4271844660195,
          2033.5728155339805
         ],
         "title": {
          "text": "Fatalities"
         },
         "type": "linear"
        }
       }
      },
      "image/png": "[encoded data removed]",
      "text/html": [
       "<div>                            <div id=\"3fc25b78-7f17-4155-a584-ccd5a2dd925f\" class=\"plotly-graph-div\" style=\"height:525px; width:100%;\"></div>            <script type=\"text/javascript\">                require([\"plotly\"], function(Plotly) {                    window.PLOTLYENV=window.PLOTLYENV || {};                                    if (document.getElementById(\"3fc25b78-7f17-4155-a584-ccd5a2dd925f\")) {                    Plotly.newPlot(                        \"3fc25b78-7f17-4155-a584-ccd5a2dd925f\",                        [{\"hovertemplate\":\"Fatalities (air)=%{x}\\u003cbr\\u003eYear=%{y}\\u003cextra\\u003e\\u003c\\u002fextra\\u003e\",\"legendgroup\":\"\",\"marker\":{\"color\":\"#000001\",\"symbol\":\"circle\"},\"mode\":\"markers\",\"name\":\"\",\"orientation\":\"v\",\"showlegend\":false,\"x\":[2796,2590,2323,2314,2242,2210,2139,2102,2017,1945,1928,1920,1881,1842,1838,1806,1784,1780,1725,1717,1708,1684,1648,1632,1632,1605,1564,1539,1508,1508,1494,1491,1460,1444,1430,1405,1403,1384,1373,1371,1339,1336,1327,1317,1314,1294,1279,1274,1265,1258,1168,1163,1142,1141,1125,1118,1115,1083,1044,991,958,921,913,888,874,863,759,727,720,716,710,662,587,515,497,444,355,305,287,277,271,253,251,244,214,206,189,186,168,157,140,138,133,113,108,102,89,86,78,73,65,64,52,43,36,36,34,25,23,20,15,5,1,1],\"xaxis\":\"x\",\"y\":[1972,1985,1973,1996,1974,1989,1962,1977,1992,1988,1969,1970,1968,1976,1979,1994,1971,1965,1991,1980,1982,1960,1966,1997,1987,1967,1983,1961,1998,1993,1950,1995,1975,1978,2000,1986,1963,1958,1945,2002,1964,2001,1946,1953,1947,2005,2003,1952,1948,1951,1981,1949,2014,1959,1990,2006,1957,2009,2010,1956,1954,1984,1955,2007,2018,1999,2015,1943,2011,2008,1944,2004,2012,2016,1942,1938,2020,2019,2013,1941,1936,1940,1937,1935,2017,1933,2022,2021,1939,1930,1934,1917,1929,1928,1916,1931,1922,2023,1923,1932,1918,1921,1927,1913,1926,1915,1925,1920,1919,1924,2024,1912,1909,1908],\"yaxis\":\"y\",\"type\":\"scatter\"}],                        {\"template\":{\"data\":{\"candlestick\":[{\"decreasing\":{\"line\":{\"color\":\"#000033\"}},\"increasing\":{\"line\":{\"color\":\"#000032\"}},\"type\":\"candlestick\"}],\"contourcarpet\":[{\"colorscale\":[[0.0,\"#000011\"],[0.1111111111111111,\"#000012\"],[0.2222222222222222,\"#000013\"],[0.3333333333333333,\"#000014\"],[0.4444444444444444,\"#000015\"],[0.5555555555555556,\"#000016\"],[0.6666666666666666,\"#000017\"],[0.7777777777777778,\"#000018\"],[0.8888888888888888,\"#000019\"],[1.0,\"#000020\"]],\"type\":\"contourcarpet\"}],\"contour\":[{\"colorscale\":[[0.0,\"#000011\"],[0.1111111111111111,\"#000012\"],[0.2222222222222222,\"#000013\"],[0.3333333333333333,\"#000014\"],[0.4444444444444444,\"#000015\"],[0.5555555555555556,\"#000016\"],[0.6666666666666666,\"#000017\"],[0.7777777777777778,\"#000018\"],[0.8888888888888888,\"#000019\"],[1.0,\"#000020\"]],\"type\":\"contour\"}],\"heatmap\":[{\"colorscale\":[[0.0,\"#000011\"],[0.1111111111111111,\"#000012\"],[0.2222222222222222,\"#000013\"],[0.3333333333333333,\"#000014\"],[0.4444444444444444,\"#000015\"],[0.5555555555555556,\"#000016\"],[0.6666666666666666,\"#000017\"],[0.7777777777777778,\"#000018\"],[0.8888888888888888,\"#000019\"],[1.0,\"#000020\"]],\"type\":\"heatmap\"}],\"histogram2d\":[{\"colorscale\":[[0.0,\"#000011\"],[0.1111111111111111,\"#000012\"],[0.2222222222222222,\"#000013\"],[0.3333333333333333,\"#000014\"],[0.4444444444444444,\"#000015\"],[0.5555555555555556,\"#000016\"],[0.6666666666666666,\"#000017\"],[0.7777777777777778,\"#000018\"],[0.8888888888888888,\"#000019\"],[1.0,\"#000020\"]],\"type\":\"histogram2d\"}],\"icicle\":[{\"textfont\":{\"color\":\"white\"},\"type\":\"icicle\"}],\"sankey\":[{\"textfont\":{\"color\":\"#000036\"},\"type\":\"sankey\"}],\"scatter\":[{\"marker\":{\"line\":{\"width\":0}},\"type\":\"scatter\"}],\"table\":[{\"cells\":{\"fill\":{\"color\":\"#000038\"},\"font\":{\"color\":\"#000037\"},\"line\":{\"color\":\"#000039\"}},\"header\":{\"fill\":{\"color\":\"#000040\"},\"font\":{\"color\":\"#000036\"},\"line\":{\"color\":\"#000039\"}},\"type\":\"table\"}],\"waterfall\":[{\"connector\":{\"line\":{\"color\":\"#000036\",\"width\":2}},\"decreasing\":{\"marker\":{\"color\":\"#000033\"}},\"increasing\":{\"marker\":{\"color\":\"#000032\"}},\"totals\":{\"marker\":{\"color\":\"#000034\"}},\"type\":\"waterfall\"}]},\"layout\":{\"coloraxis\":{\"colorscale\":[[0.0,\"#000011\"],[0.1111111111111111,\"#000012\"],[0.2222222222222222,\"#000013\"],[0.3333333333333333,\"#000014\"],[0.4444444444444444,\"#000015\"],[0.5555555555555556,\"#000016\"],[0.6666666666666666,\"#000017\"],[0.7777777777777778,\"#000018\"],[0.8888888888888888,\"#000019\"],[1.0,\"#000020\"]]},\"colorscale\":{\"diverging\":[[0.0,\"#000021\"],[0.1,\"#000022\"],[0.2,\"#000023\"],[0.3,\"#000024\"],[0.4,\"#000025\"],[0.5,\"#000026\"],[0.6,\"#000027\"],[0.7,\"#000028\"],[0.8,\"#000029\"],[0.9,\"#000030\"],[1.0,\"#000031\"]],\"sequential\":[[0.0,\"#000011\"],[0.1111111111111111,\"#000012\"],[0.2222222222222222,\"#000013\"],[0.3333333333333333,\"#000014\"],[0.4444444444444444,\"#000015\"],[0.5555555555555556,\"#000016\"],[0.6666666666666666,\"#000017\"],[0.7777777777777778,\"#000018\"],[0.8888888888888888,\"#000019\"],[1.0,\"#000020\"]],\"sequentialminus\":[[0.0,\"#000011\"],[0.1111111111111111,\"#000012\"],[0.2222222222222222,\"#000013\"],[0.3333333333333333,\"#000014\"],[0.4444444444444444,\"#000015\"],[0.5555555555555556,\"#000016\"],[0.6666666666666666,\"#000017\"],[0.7777777777777778,\"#000018\"],[0.8888888888888888,\"#000019\"],[1.0,\"#000020\"]]},\"colorway\":[\"#000001\",\"#000002\",\"#000003\",\"#000004\",\"#000005\",\"#000006\",\"#000007\",\"#000008\",\"#000009\",\"#000010\"]}},\"xaxis\":{\"anchor\":\"y\",\"domain\":[0.0,1.0],\"title\":{\"text\":\"Year\"}},\"yaxis\":{\"anchor\":\"x\",\"domain\":[0.0,1.0],\"title\":{\"text\":\"Fatalities\"}},\"legend\":{\"tracegroupgap\":0},\"title\":{\"text\":\"Sum of Fatalities Vs. Year\"}},                        {\"responsive\": true}                    ).then(function(){\n",
       "                            \n",
       "var gd = document.getElementById('3fc25b78-7f17-4155-a584-ccd5a2dd925f');\n",
       "var x = new MutationObserver(function (mutations, observer) {{\n",
       "        var display = window.getComputedStyle(gd).display;\n",
       "        if (!display || display === 'none') {{\n",
       "            console.log([gd, 'removed!']);\n",
       "            Plotly.purge(gd);\n",
       "            observer.disconnect();\n",
       "        }}\n",
       "}});\n",
       "\n",
       "// Listen for the removal of the full notebook cells\n",
       "var notebookContainer = gd.closest('#notebook-container');\n",
       "if (notebookContainer) {{\n",
       "    x.observe(notebookContainer, {childList: true});\n",
       "}}\n",
       "\n",
       "// Listen for the clearing of the current output cell\n",
       "var outputEl = gd.closest('.output');\n",
       "if (outputEl) {{\n",
       "    x.observe(outputEl, {childList: true});\n",
       "}}\n",
       "\n",
       "                        })                };                });            </script>        </div>"
      ]
     },
     "metadata": {},
     "output_type": "display_data"
    }
   ],
   "source": [
    "# Create a line chart of the Year against Fatalities \n",
    "\n",
    "top_Year = Year.sort_values(by = 'Fatalities (air)', ascending =False)\n",
    "\n",
    "Year_plt = px.scatter(top_Year, x='Fatalities (air)', y='Year', title='Sum of Fatalities Vs. Year')\n",
    "\n",
    "Year_plt.update_layout(xaxis_title='Year', yaxis_title='Fatalities')\n",
    "\n",
    "Year_plt.show()"
   ]
  },
  {
   "cell_type": "code",
   "execution_count": 275,
   "id": "5934cfb2-ea37-4cdf-a227-91f0e94a80de",
   "metadata": {},
   "outputs": [
    {
     "data": {
      "text/html": [
       "<div>\n",
       "<style scoped>\n",
       "    .dataframe tbody tr th:only-of-type {\n",
       "        vertical-align: middle;\n",
       "    }\n",
       "\n",
       "    .dataframe tbody tr th {\n",
       "        vertical-align: top;\n",
       "    }\n",
       "\n",
       "    .dataframe thead th {\n",
       "        text-align: right;\n",
       "    }\n",
       "</style>\n",
       "<table border=\"1\" class=\"dataframe\">\n",
       "  <thead>\n",
       "    <tr style=\"text-align: right;\">\n",
       "      <th></th>\n",
       "      <th>Month</th>\n",
       "      <th>Quarter</th>\n",
       "      <th>Fatalities (air)</th>\n",
       "    </tr>\n",
       "  </thead>\n",
       "  <tbody>\n",
       "    <tr>\n",
       "      <th>2</th>\n",
       "      <td>December</td>\n",
       "      <td>Qtr 4</td>\n",
       "      <td>10910</td>\n",
       "    </tr>\n",
       "    <tr>\n",
       "      <th>11</th>\n",
       "      <td>September</td>\n",
       "      <td>Qtr 3</td>\n",
       "      <td>10618</td>\n",
       "    </tr>\n",
       "    <tr>\n",
       "      <th>5</th>\n",
       "      <td>July</td>\n",
       "      <td>Qtr 3</td>\n",
       "      <td>10539</td>\n",
       "    </tr>\n",
       "    <tr>\n",
       "      <th>9</th>\n",
       "      <td>November</td>\n",
       "      <td>Qtr 4</td>\n",
       "      <td>10464</td>\n",
       "    </tr>\n",
       "    <tr>\n",
       "      <th>1</th>\n",
       "      <td>August</td>\n",
       "      <td>Qtr 3</td>\n",
       "      <td>10337</td>\n",
       "    </tr>\n",
       "  </tbody>\n",
       "</table>\n",
       "</div>"
      ],
      "text/plain": [
       "        Month Quarter  Fatalities (air)\n",
       "2    December   Qtr 4             10910\n",
       "11  September   Qtr 3             10618\n",
       "5        July   Qtr 3             10539\n",
       "9    November   Qtr 4             10464\n",
       "1      August   Qtr 3             10337"
      ]
     },
     "execution_count": 275,
     "metadata": {},
     "output_type": "execute_result"
    }
   ],
   "source": [
    "# create a combined chart for Months and Quarters against Fatalities to show the trend of death over the month\n",
    "\n",
    "Datax = df.groupby(['Month', 'Quarter'])['Fatalities (air)'].sum().reset_index()\n",
    "\n",
    "data_sort = Datax.sort_values(by = 'Fatalities (air)', ascending =False)\n",
    "\n",
    "data_sort.head()"
   ]
  },
  {
   "cell_type": "code",
   "execution_count": 308,
   "id": "6dff5bbe-5c6e-401b-a6aa-b9f315bdd40e",
   "metadata": {},
   "outputs": [
    {
     "data": {
      "application/vnd.plotly.v1+json": {
       "config": {
        "plotlyServerURL": "https://plot.ly"
       },
       "data": [
        {
         "fillpattern": {
          "shape": ""
         },
         "hovertemplate": "Quarter=Qtr 4<br>Month=%{x}<br>Fatalities (air)=%{y}<extra></extra>",
         "legendgroup": "Qtr 4",
         "line": {
          "color": "#000001"
         },
         "marker": {
          "symbol": "circle"
         },
         "mode": "lines",
         "name": "Qtr 4",
         "orientation": "v",
         "showlegend": true,
         "stackgroup": "1",
         "type": "scatter",
         "x": [
          "December",
          "November",
          "October"
         ],
         "xaxis": "x",
         "y": [
          10910,
          10464,
          8439
         ],
         "yaxis": "y"
        },
        {
         "fillpattern": {
          "shape": ""
         },
         "hovertemplate": "Quarter=Qtr 3<br>Month=%{x}<br>Fatalities (air)=%{y}<extra></extra>",
         "legendgroup": "Qtr 3",
         "line": {
          "color": "#000002"
         },
         "marker": {
          "symbol": "circle"
         },
         "mode": "lines",
         "name": "Qtr 3",
         "orientation": "v",
         "showlegend": true,
         "stackgroup": "1",
         "type": "scatter",
         "x": [
          "September",
          "July",
          "August"
         ],
         "xaxis": "x",
         "y": [
          10618,
          10539,
          10337
         ],
         "yaxis": "y"
        },
        {
         "fillpattern": {
          "shape": ""
         },
         "hovertemplate": "Quarter=Qtr 1<br>Month=%{x}<br>Fatalities (air)=%{y}<extra></extra>",
         "legendgroup": "Qtr 1",
         "line": {
          "color": "#000003"
         },
         "marker": {
          "symbol": "circle"
         },
         "mode": "lines",
         "name": "Qtr 1",
         "orientation": "v",
         "showlegend": true,
         "stackgroup": "1",
         "type": "scatter",
         "x": [
          "March",
          "January",
          "February"
         ],
         "xaxis": "x",
         "y": [
          9540,
          9075,
          8168
         ],
         "yaxis": "y"
        },
        {
         "fillpattern": {
          "shape": ""
         },
         "hovertemplate": "Quarter=Qtr 2<br>Month=%{x}<br>Fatalities (air)=%{y}<extra></extra>",
         "legendgroup": "Qtr 2",
         "line": {
          "color": "#000004"
         },
         "marker": {
          "symbol": "circle"
         },
         "mode": "lines",
         "name": "Qtr 2",
         "orientation": "v",
         "showlegend": true,
         "stackgroup": "1",
         "type": "scatter",
         "x": [
          "June",
          "May",
          "April"
         ],
         "xaxis": "x",
         "y": [
          8525,
          7951,
          7306
         ],
         "yaxis": "y"
        }
       ],
       "layout": {
        "autosize": true,
        "legend": {
         "title": {
          "text": "Quarter"
         },
         "tracegroupgap": 0
        },
        "template": {
         "data": {
          "candlestick": [
           {
            "decreasing": {
             "line": {
              "color": "#000033"
             }
            },
            "increasing": {
             "line": {
              "color": "#000032"
             }
            },
            "type": "candlestick"
           }
          ],
          "contour": [
           {
            "colorscale": [
             [
              0,
              "#000011"
             ],
             [
              0.1111111111111111,
              "#000012"
             ],
             [
              0.2222222222222222,
              "#000013"
             ],
             [
              0.3333333333333333,
              "#000014"
             ],
             [
              0.4444444444444444,
              "#000015"
             ],
             [
              0.5555555555555556,
              "#000016"
             ],
             [
              0.6666666666666666,
              "#000017"
             ],
             [
              0.7777777777777778,
              "#000018"
             ],
             [
              0.8888888888888888,
              "#000019"
             ],
             [
              1,
              "#000020"
             ]
            ],
            "type": "contour"
           }
          ],
          "contourcarpet": [
           {
            "colorscale": [
             [
              0,
              "#000011"
             ],
             [
              0.1111111111111111,
              "#000012"
             ],
             [
              0.2222222222222222,
              "#000013"
             ],
             [
              0.3333333333333333,
              "#000014"
             ],
             [
              0.4444444444444444,
              "#000015"
             ],
             [
              0.5555555555555556,
              "#000016"
             ],
             [
              0.6666666666666666,
              "#000017"
             ],
             [
              0.7777777777777778,
              "#000018"
             ],
             [
              0.8888888888888888,
              "#000019"
             ],
             [
              1,
              "#000020"
             ]
            ],
            "type": "contourcarpet"
           }
          ],
          "heatmap": [
           {
            "colorscale": [
             [
              0,
              "#000011"
             ],
             [
              0.1111111111111111,
              "#000012"
             ],
             [
              0.2222222222222222,
              "#000013"
             ],
             [
              0.3333333333333333,
              "#000014"
             ],
             [
              0.4444444444444444,
              "#000015"
             ],
             [
              0.5555555555555556,
              "#000016"
             ],
             [
              0.6666666666666666,
              "#000017"
             ],
             [
              0.7777777777777778,
              "#000018"
             ],
             [
              0.8888888888888888,
              "#000019"
             ],
             [
              1,
              "#000020"
             ]
            ],
            "type": "heatmap"
           }
          ],
          "histogram2d": [
           {
            "colorscale": [
             [
              0,
              "#000011"
             ],
             [
              0.1111111111111111,
              "#000012"
             ],
             [
              0.2222222222222222,
              "#000013"
             ],
             [
              0.3333333333333333,
              "#000014"
             ],
             [
              0.4444444444444444,
              "#000015"
             ],
             [
              0.5555555555555556,
              "#000016"
             ],
             [
              0.6666666666666666,
              "#000017"
             ],
             [
              0.7777777777777778,
              "#000018"
             ],
             [
              0.8888888888888888,
              "#000019"
             ],
             [
              1,
              "#000020"
             ]
            ],
            "type": "histogram2d"
           }
          ],
          "icicle": [
           {
            "textfont": {
             "color": "white"
            },
            "type": "icicle"
           }
          ],
          "sankey": [
           {
            "textfont": {
             "color": "#000036"
            },
            "type": "sankey"
           }
          ],
          "scatter": [
           {
            "marker": {
             "line": {
              "width": 0
             }
            },
            "type": "scatter"
           }
          ],
          "table": [
           {
            "cells": {
             "fill": {
              "color": "#000038"
             },
             "font": {
              "color": "#000037"
             },
             "line": {
              "color": "#000039"
             }
            },
            "header": {
             "fill": {
              "color": "#000040"
             },
             "font": {
              "color": "#000036"
             },
             "line": {
              "color": "#000039"
             }
            },
            "type": "table"
           }
          ],
          "waterfall": [
           {
            "connector": {
             "line": {
              "color": "#000036",
              "width": 2
             }
            },
            "decreasing": {
             "marker": {
              "color": "#000033"
             }
            },
            "increasing": {
             "marker": {
              "color": "#000032"
             }
            },
            "totals": {
             "marker": {
              "color": "#000034"
             }
            },
            "type": "waterfall"
           }
          ]
         },
         "layout": {
          "coloraxis": {
           "colorscale": [
            [
             0,
             "#000011"
            ],
            [
             0.1111111111111111,
             "#000012"
            ],
            [
             0.2222222222222222,
             "#000013"
            ],
            [
             0.3333333333333333,
             "#000014"
            ],
            [
             0.4444444444444444,
             "#000015"
            ],
            [
             0.5555555555555556,
             "#000016"
            ],
            [
             0.6666666666666666,
             "#000017"
            ],
            [
             0.7777777777777778,
             "#000018"
            ],
            [
             0.8888888888888888,
             "#000019"
            ],
            [
             1,
             "#000020"
            ]
           ]
          },
          "colorscale": {
           "diverging": [
            [
             0,
             "#000021"
            ],
            [
             0.1,
             "#000022"
            ],
            [
             0.2,
             "#000023"
            ],
            [
             0.3,
             "#000024"
            ],
            [
             0.4,
             "#000025"
            ],
            [
             0.5,
             "#000026"
            ],
            [
             0.6,
             "#000027"
            ],
            [
             0.7,
             "#000028"
            ],
            [
             0.8,
             "#000029"
            ],
            [
             0.9,
             "#000030"
            ],
            [
             1,
             "#000031"
            ]
           ],
           "sequential": [
            [
             0,
             "#000011"
            ],
            [
             0.1111111111111111,
             "#000012"
            ],
            [
             0.2222222222222222,
             "#000013"
            ],
            [
             0.3333333333333333,
             "#000014"
            ],
            [
             0.4444444444444444,
             "#000015"
            ],
            [
             0.5555555555555556,
             "#000016"
            ],
            [
             0.6666666666666666,
             "#000017"
            ],
            [
             0.7777777777777778,
             "#000018"
            ],
            [
             0.8888888888888888,
             "#000019"
            ],
            [
             1,
             "#000020"
            ]
           ],
           "sequentialminus": [
            [
             0,
             "#000011"
            ],
            [
             0.1111111111111111,
             "#000012"
            ],
            [
             0.2222222222222222,
             "#000013"
            ],
            [
             0.3333333333333333,
             "#000014"
            ],
            [
             0.4444444444444444,
             "#000015"
            ],
            [
             0.5555555555555556,
             "#000016"
            ],
            [
             0.6666666666666666,
             "#000017"
            ],
            [
             0.7777777777777778,
             "#000018"
            ],
            [
             0.8888888888888888,
             "#000019"
            ],
            [
             1,
             "#000020"
            ]
           ]
          },
          "colorway": [
           "#000001",
           "#000002",
           "#000003",
           "#000004",
           "#000005",
           "#000006",
           "#000007",
           "#000008",
           "#000009",
           "#000010"
          ]
         }
        },
        "title": {
         "text": "Monthly and Quarterly Fatalities"
        },
        "xaxis": {
         "anchor": "y",
         "autorange": true,
         "domain": [
          0,
          1
         ],
         "range": [
          0,
          11
         ],
         "title": {
          "text": "Month"
         },
         "type": "category"
        },
        "yaxis": {
         "anchor": "x",
         "autorange": true,
         "domain": [
          0,
          1
         ],
         "range": [
          0,
          11484.21052631579
         ],
         "title": {
          "text": "Fatalities"
         },
         "type": "linear"
        }
       }
      },
      "image/png": "[encoded data removed]",
      "text/html": [
       "<div>                            <div id=\"f630c4af-a539-456c-9cd8-f63f65f922f8\" class=\"plotly-graph-div\" style=\"height:525px; width:100%;\"></div>            <script type=\"text/javascript\">                require([\"plotly\"], function(Plotly) {                    window.PLOTLYENV=window.PLOTLYENV || {};                                    if (document.getElementById(\"f630c4af-a539-456c-9cd8-f63f65f922f8\")) {                    Plotly.newPlot(                        \"f630c4af-a539-456c-9cd8-f63f65f922f8\",                        [{\"fillpattern\":{\"shape\":\"\"},\"hovertemplate\":\"Quarter=Qtr 4\\u003cbr\\u003eMonth=%{x}\\u003cbr\\u003eFatalities (air)=%{y}\\u003cextra\\u003e\\u003c\\u002fextra\\u003e\",\"legendgroup\":\"Qtr 4\",\"line\":{\"color\":\"#000001\"},\"marker\":{\"symbol\":\"circle\"},\"mode\":\"lines\",\"name\":\"Qtr 4\",\"orientation\":\"v\",\"showlegend\":true,\"stackgroup\":\"1\",\"x\":[\"December\",\"November\",\"October\"],\"xaxis\":\"x\",\"y\":[10910,10464,8439],\"yaxis\":\"y\",\"type\":\"scatter\"},{\"fillpattern\":{\"shape\":\"\"},\"hovertemplate\":\"Quarter=Qtr 3\\u003cbr\\u003eMonth=%{x}\\u003cbr\\u003eFatalities (air)=%{y}\\u003cextra\\u003e\\u003c\\u002fextra\\u003e\",\"legendgroup\":\"Qtr 3\",\"line\":{\"color\":\"#000002\"},\"marker\":{\"symbol\":\"circle\"},\"mode\":\"lines\",\"name\":\"Qtr 3\",\"orientation\":\"v\",\"showlegend\":true,\"stackgroup\":\"1\",\"x\":[\"September\",\"July\",\"August\"],\"xaxis\":\"x\",\"y\":[10618,10539,10337],\"yaxis\":\"y\",\"type\":\"scatter\"},{\"fillpattern\":{\"shape\":\"\"},\"hovertemplate\":\"Quarter=Qtr 1\\u003cbr\\u003eMonth=%{x}\\u003cbr\\u003eFatalities (air)=%{y}\\u003cextra\\u003e\\u003c\\u002fextra\\u003e\",\"legendgroup\":\"Qtr 1\",\"line\":{\"color\":\"#000003\"},\"marker\":{\"symbol\":\"circle\"},\"mode\":\"lines\",\"name\":\"Qtr 1\",\"orientation\":\"v\",\"showlegend\":true,\"stackgroup\":\"1\",\"x\":[\"March\",\"January\",\"February\"],\"xaxis\":\"x\",\"y\":[9540,9075,8168],\"yaxis\":\"y\",\"type\":\"scatter\"},{\"fillpattern\":{\"shape\":\"\"},\"hovertemplate\":\"Quarter=Qtr 2\\u003cbr\\u003eMonth=%{x}\\u003cbr\\u003eFatalities (air)=%{y}\\u003cextra\\u003e\\u003c\\u002fextra\\u003e\",\"legendgroup\":\"Qtr 2\",\"line\":{\"color\":\"#000004\"},\"marker\":{\"symbol\":\"circle\"},\"mode\":\"lines\",\"name\":\"Qtr 2\",\"orientation\":\"v\",\"showlegend\":true,\"stackgroup\":\"1\",\"x\":[\"June\",\"May\",\"April\"],\"xaxis\":\"x\",\"y\":[8525,7951,7306],\"yaxis\":\"y\",\"type\":\"scatter\"}],                        {\"template\":{\"data\":{\"candlestick\":[{\"decreasing\":{\"line\":{\"color\":\"#000033\"}},\"increasing\":{\"line\":{\"color\":\"#000032\"}},\"type\":\"candlestick\"}],\"contourcarpet\":[{\"colorscale\":[[0.0,\"#000011\"],[0.1111111111111111,\"#000012\"],[0.2222222222222222,\"#000013\"],[0.3333333333333333,\"#000014\"],[0.4444444444444444,\"#000015\"],[0.5555555555555556,\"#000016\"],[0.6666666666666666,\"#000017\"],[0.7777777777777778,\"#000018\"],[0.8888888888888888,\"#000019\"],[1.0,\"#000020\"]],\"type\":\"contourcarpet\"}],\"contour\":[{\"colorscale\":[[0.0,\"#000011\"],[0.1111111111111111,\"#000012\"],[0.2222222222222222,\"#000013\"],[0.3333333333333333,\"#000014\"],[0.4444444444444444,\"#000015\"],[0.5555555555555556,\"#000016\"],[0.6666666666666666,\"#000017\"],[0.7777777777777778,\"#000018\"],[0.8888888888888888,\"#000019\"],[1.0,\"#000020\"]],\"type\":\"contour\"}],\"heatmap\":[{\"colorscale\":[[0.0,\"#000011\"],[0.1111111111111111,\"#000012\"],[0.2222222222222222,\"#000013\"],[0.3333333333333333,\"#000014\"],[0.4444444444444444,\"#000015\"],[0.5555555555555556,\"#000016\"],[0.6666666666666666,\"#000017\"],[0.7777777777777778,\"#000018\"],[0.8888888888888888,\"#000019\"],[1.0,\"#000020\"]],\"type\":\"heatmap\"}],\"histogram2d\":[{\"colorscale\":[[0.0,\"#000011\"],[0.1111111111111111,\"#000012\"],[0.2222222222222222,\"#000013\"],[0.3333333333333333,\"#000014\"],[0.4444444444444444,\"#000015\"],[0.5555555555555556,\"#000016\"],[0.6666666666666666,\"#000017\"],[0.7777777777777778,\"#000018\"],[0.8888888888888888,\"#000019\"],[1.0,\"#000020\"]],\"type\":\"histogram2d\"}],\"icicle\":[{\"textfont\":{\"color\":\"white\"},\"type\":\"icicle\"}],\"sankey\":[{\"textfont\":{\"color\":\"#000036\"},\"type\":\"sankey\"}],\"scatter\":[{\"marker\":{\"line\":{\"width\":0}},\"type\":\"scatter\"}],\"table\":[{\"cells\":{\"fill\":{\"color\":\"#000038\"},\"font\":{\"color\":\"#000037\"},\"line\":{\"color\":\"#000039\"}},\"header\":{\"fill\":{\"color\":\"#000040\"},\"font\":{\"color\":\"#000036\"},\"line\":{\"color\":\"#000039\"}},\"type\":\"table\"}],\"waterfall\":[{\"connector\":{\"line\":{\"color\":\"#000036\",\"width\":2}},\"decreasing\":{\"marker\":{\"color\":\"#000033\"}},\"increasing\":{\"marker\":{\"color\":\"#000032\"}},\"totals\":{\"marker\":{\"color\":\"#000034\"}},\"type\":\"waterfall\"}]},\"layout\":{\"coloraxis\":{\"colorscale\":[[0.0,\"#000011\"],[0.1111111111111111,\"#000012\"],[0.2222222222222222,\"#000013\"],[0.3333333333333333,\"#000014\"],[0.4444444444444444,\"#000015\"],[0.5555555555555556,\"#000016\"],[0.6666666666666666,\"#000017\"],[0.7777777777777778,\"#000018\"],[0.8888888888888888,\"#000019\"],[1.0,\"#000020\"]]},\"colorscale\":{\"diverging\":[[0.0,\"#000021\"],[0.1,\"#000022\"],[0.2,\"#000023\"],[0.3,\"#000024\"],[0.4,\"#000025\"],[0.5,\"#000026\"],[0.6,\"#000027\"],[0.7,\"#000028\"],[0.8,\"#000029\"],[0.9,\"#000030\"],[1.0,\"#000031\"]],\"sequential\":[[0.0,\"#000011\"],[0.1111111111111111,\"#000012\"],[0.2222222222222222,\"#000013\"],[0.3333333333333333,\"#000014\"],[0.4444444444444444,\"#000015\"],[0.5555555555555556,\"#000016\"],[0.6666666666666666,\"#000017\"],[0.7777777777777778,\"#000018\"],[0.8888888888888888,\"#000019\"],[1.0,\"#000020\"]],\"sequentialminus\":[[0.0,\"#000011\"],[0.1111111111111111,\"#000012\"],[0.2222222222222222,\"#000013\"],[0.3333333333333333,\"#000014\"],[0.4444444444444444,\"#000015\"],[0.5555555555555556,\"#000016\"],[0.6666666666666666,\"#000017\"],[0.7777777777777778,\"#000018\"],[0.8888888888888888,\"#000019\"],[1.0,\"#000020\"]]},\"colorway\":[\"#000001\",\"#000002\",\"#000003\",\"#000004\",\"#000005\",\"#000006\",\"#000007\",\"#000008\",\"#000009\",\"#000010\"]}},\"xaxis\":{\"anchor\":\"y\",\"domain\":[0.0,1.0],\"title\":{\"text\":\"Month\"}},\"yaxis\":{\"anchor\":\"x\",\"domain\":[0.0,1.0],\"title\":{\"text\":\"Fatalities\"}},\"legend\":{\"title\":{\"text\":\"Quarter\"},\"tracegroupgap\":0},\"title\":{\"text\":\"Monthly and Quarterly Fatalities\"}},                        {\"responsive\": true}                    ).then(function(){\n",
       "                            \n",
       "var gd = document.getElementById('f630c4af-a539-456c-9cd8-f63f65f922f8');\n",
       "var x = new MutationObserver(function (mutations, observer) {{\n",
       "        var display = window.getComputedStyle(gd).display;\n",
       "        if (!display || display === 'none') {{\n",
       "            console.log([gd, 'removed!']);\n",
       "            Plotly.purge(gd);\n",
       "            observer.disconnect();\n",
       "        }}\n",
       "}});\n",
       "\n",
       "// Listen for the removal of the full notebook cells\n",
       "var notebookContainer = gd.closest('#notebook-container');\n",
       "if (notebookContainer) {{\n",
       "    x.observe(notebookContainer, {childList: true});\n",
       "}}\n",
       "\n",
       "// Listen for the clearing of the current output cell\n",
       "var outputEl = gd.closest('.output');\n",
       "if (outputEl) {{\n",
       "    x.observe(outputEl, {childList: true});\n",
       "}}\n",
       "\n",
       "                        })                };                });            </script>        </div>"
      ]
     },
     "metadata": {},
     "output_type": "display_data"
    }
   ],
   "source": [
    "# Create a stacked area chart\n",
    "fig = px.area(data_sort, x='Month', y='Fatalities (air)', color='Quarter', title='Monthly and Quarterly Fatalities')\n",
    "\n",
    "fig.update_layout(xaxis_title='Month', yaxis_title='Fatalities')\n",
    "\n",
    "fig.show()\n",
    "\n",
    "##st.plotly_chart(fig)"
   ]
  },
  {
   "cell_type": "code",
   "execution_count": null,
   "id": "fc299ff5-28f8-484e-a684-830ac3dcde94",
   "metadata": {},
   "outputs": [],
   "source": []
  },
  {
   "cell_type": "markdown",
   "id": "fa61420c-d911-4797-9fee-5a833aace453",
   "metadata": {},
   "source": [
    "## Q4"
   ]
  },
  {
   "cell_type": "code",
   "execution_count": 297,
   "id": "5660a5f2-6f08-43d4-ad1e-3db393a49def",
   "metadata": {},
   "outputs": [
    {
     "data": {
      "text/html": [
       "<div>\n",
       "<style scoped>\n",
       "    .dataframe tbody tr th:only-of-type {\n",
       "        vertical-align: middle;\n",
       "    }\n",
       "\n",
       "    .dataframe tbody tr th {\n",
       "        vertical-align: top;\n",
       "    }\n",
       "\n",
       "    .dataframe thead th {\n",
       "        text-align: right;\n",
       "    }\n",
       "</style>\n",
       "<table border=\"1\" class=\"dataframe\">\n",
       "  <thead>\n",
       "    <tr style=\"text-align: right;\">\n",
       "      <th></th>\n",
       "      <th>Country/Region</th>\n",
       "      <th>Fatalities (air)</th>\n",
       "    </tr>\n",
       "  </thead>\n",
       "  <tbody>\n",
       "    <tr>\n",
       "      <th>445</th>\n",
       "      <td>unknown</td>\n",
       "      <td>10232</td>\n",
       "    </tr>\n",
       "    <tr>\n",
       "      <th>337</th>\n",
       "      <td>Russia</td>\n",
       "      <td>8113</td>\n",
       "    </tr>\n",
       "    <tr>\n",
       "      <th>60</th>\n",
       "      <td>Brazil</td>\n",
       "      <td>2915</td>\n",
       "    </tr>\n",
       "    <tr>\n",
       "      <th>95</th>\n",
       "      <td>Colombia</td>\n",
       "      <td>2666</td>\n",
       "    </tr>\n",
       "    <tr>\n",
       "      <th>363</th>\n",
       "      <td>South</td>\n",
       "      <td>2452</td>\n",
       "    </tr>\n",
       "    <tr>\n",
       "      <th>...</th>\n",
       "      <td>...</td>\n",
       "      <td>...</td>\n",
       "    </tr>\n",
       "    <tr>\n",
       "      <th>393</th>\n",
       "      <td>Trento</td>\n",
       "      <td>0</td>\n",
       "    </tr>\n",
       "    <tr>\n",
       "      <th>162</th>\n",
       "      <td>Guantanamo</td>\n",
       "      <td>0</td>\n",
       "    </tr>\n",
       "    <tr>\n",
       "      <th>388</th>\n",
       "      <td>Terceira</td>\n",
       "      <td>0</td>\n",
       "    </tr>\n",
       "    <tr>\n",
       "      <th>76</th>\n",
       "      <td>Calilfornia</td>\n",
       "      <td>0</td>\n",
       "    </tr>\n",
       "    <tr>\n",
       "      <th>166</th>\n",
       "      <td>Gujarat</td>\n",
       "      <td>0</td>\n",
       "    </tr>\n",
       "  </tbody>\n",
       "</table>\n",
       "<p>449 rows × 2 columns</p>\n",
       "</div>"
      ],
      "text/plain": [
       "    Country/Region  Fatalities (air)\n",
       "445        unknown             10232\n",
       "337         Russia              8113\n",
       "60          Brazil              2915\n",
       "95        Colombia              2666\n",
       "363          South              2452\n",
       "..             ...               ...\n",
       "393         Trento                 0\n",
       "162     Guantanamo                 0\n",
       "388       Terceira                 0\n",
       "76     Calilfornia                 0\n",
       "166        Gujarat                 0\n",
       "\n",
       "[449 rows x 2 columns]"
      ]
     },
     "execution_count": 297,
     "metadata": {},
     "output_type": "execute_result"
    }
   ],
   "source": [
    "# Which countries have experienced the highest number of aircraft crashes?\n",
    "\n",
    "\n",
    "Countries = df.groupby (['Country/Region'])['Fatalities (air)'].sum().reset_index()\n",
    "\n",
    "countries_sort = Countries.sort_values(by = 'Fatalities (air)', ascending =False)\n",
    "\n",
    "countries_sort"
   ]
  },
  {
   "cell_type": "code",
   "execution_count": 303,
   "id": "56da9366-10d4-4e57-be60-36931c4612d6",
   "metadata": {},
   "outputs": [
    {
     "data": {
      "application/vnd.plotly.v1+json": {
       "config": {
        "plotlyServerURL": "https://plot.ly"
       },
       "data": [
        {
         "coloraxis": "coloraxis",
         "geo": "geo",
         "hovertemplate": "Country/Region=%{location}<br>Fatalities (air)=%{z}<extra></extra>",
         "locationmode": "country names",
         "locations": [
          "unknown",
          "Russia",
          "Brazil",
          "Colombia",
          "South",
          "India",
          "Indonesia",
          "France",
          "Iran",
          "China",
          "California",
          "Italy",
          "Peru",
          "United StatesSRAeroflot",
          "Nigeria",
          "Ukraine",
          "Egypt",
          "Philippines",
          "Mexico",
          "Spain",
          "Afghanistan",
          "Venezuela",
          "Taiwan",
          "Saudi",
          "England",
          "Pakistan",
          "Japan",
          "Turkey",
          "Germany",
          "Alaska",
          "Morocco",
          "Thailand",
          "Argentina",
          "Epal",
          "Angola",
          "Canary",
          "Sri Lanka",
          "Algeria",
          "Greece",
          "Georgia",
          "North",
          "Ecuador",
          "Sudan",
          "Bolivia",
          "Congo",
          "West",
          "Illinois",
          "Texas",
          "Virginia",
          "Cuba",
          "Libya",
          "Norway",
          "Newfoundland",
          "Scotland",
          "Vietnam",
          "Ethiopia",
          "Pennsylvania",
          "Florida",
          "Poland",
          "Chile",
          "Laos",
          "Washington",
          "Cameroon",
          "Czechoslovakia",
          "Massachusetts",
          "Canada",
          "Australia",
          "Kazakhstan",
          "Maharashtra",
          "Azores",
          "Bulgaria",
          "Guam",
          "Romania",
          "United States",
          "East",
          "Azerbaijan",
          "French",
          "Ireland",
          "Burma",
          "Maryland",
          "Syria",
          "Nevada",
          "Honduras",
          "Uzbekistan",
          "Queens",
          "Myanmar",
          "Guatemala",
          "Papua",
          "Michigan",
          "Switzerland",
          "Comoros",
          "Lebanon",
          "Zaire",
          "Aichi",
          "Ivory",
          "Arizona",
          "Kenya",
          "Ross",
          "Nicaragua",
          "Guangxi",
          "Puerto",
          "British",
          "Hawaii",
          "Panama",
          "Louisiana",
          "Belgium",
          "Indiana",
          "Yugoslavia",
          "Ohio",
          "Siberia",
          "Colorado",
          "Missouri",
          "Sicily",
          "Utah",
          "Quebec",
          "Macedonia",
          "Denmark",
          "Wyoming",
          "Indian",
          "Domincan",
          "Niger",
          "Bahrain",
          "Mali",
          "Cyprus",
          "Yemen",
          "Surinam",
          "Hrvatska",
          "Dominican",
          "Iraq",
          "Costa",
          "Uruguay",
          "Portugal",
          "Iowa",
          "Valle",
          "Jeddah",
          "Mongolia",
          "Vizcaya",
          "Hong",
          "Senegal",
          "Equatorial",
          "Benin",
          "Chechnya",
          "Mount",
          "Queensland",
          "Malta",
          "Island",
          "Val-de-Marne",
          "Huila",
          "Mauritania",
          "Tokyo",
          "Hungary",
          "Netherlands",
          "Democratic",
          "Kentucky",
          "South-West",
          "Orly",
          "Somalia",
          "Jiangsu",
          "Azuay",
          "Jordan",
          "Armenia",
          "British Columbia",
          "Tajikistan",
          "Guadaloupe",
          "UAEGulf",
          "Gerona",
          "Kyrgyzstan",
          "Montana",
          "Miami",
          "Miao-li",
          "Sweden",
          "Sichuan",
          "Covington",
          "Bali",
          "Cambodia",
          "Philippine",
          "Tennessee",
          "Ontario",
          "Austria",
          "United StatesSRMilitary",
          "Minnesota",
          "Slovenia",
          "American",
          "Rhodesia",
          "Liberia",
          "Oklahoma",
          "Huanuco",
          "Republic",
          "Kazakastan",
          "Boston",
          "Malaysia",
          "Ebraska",
          "Wantagh",
          "Zulia",
          "Mozambique",
          "Belgian",
          "Madagascar",
          "Cardiff",
          "Aargau",
          "Granada",
          "Uevo",
          "Botswana",
          "Tahiti",
          "Idaho",
          "Okinawa",
          "Crete",
          "Gambia",
          "Barbados",
          "Cheshire",
          "Alabama",
          "Lombardia",
          "San Francisco",
          "Guadeloupe",
          "Zambia",
          "Virgin",
          "Wisconsin",
          "Shetlands",
          "Connecticut",
          "Haiti",
          "Saskatchewan",
          "Loire",
          "Bangladesh",
          "Belarus",
          "Biafra",
          "Oregon",
          "Algarve",
          "Tanzania",
          "Finland",
          "Bahamas",
          "Greenland",
          "Iceland",
          "Kansas",
          "Arkansas",
          "Corsica",
          "Sulu",
          "Tennesee",
          "Croatia",
          "Horley",
          "Qatar",
          "Turkmenistan",
          "Sierra",
          "Yukon",
          "Latvia",
          "Chicago",
          "Malagasy",
          "Czech",
          "Irian",
          "Gabon",
          "Russian",
          "Suriname",
          "Fiji",
          "Middlesex",
          "Estonia",
          "Morroco",
          "Guinea",
          "Bermuda",
          "Jamacia",
          "Madrid",
          "Sussex",
          "Central",
          "Los Angeles",
          "Lancs",
          "Kuwait",
          "Djbouti",
          "Dutch",
          "Sumatra",
          "Hants",
          "Singapore",
          "unknownambia",
          "Africa",
          "Comoro",
          "Atlantic",
          "Maine",
          "Jawa",
          "Isle",
          "United Arab Republic",
          "Montserrat",
          "Buea",
          "Washingon",
          "unknownSW",
          "Ayrshire",
          "Uganda",
          "Luxembourg",
          "Rwanda",
          "Washington State",
          "Marshall",
          "Trinidad",
          "Manitoba",
          "Solomon",
          "Tasmania",
          "Tunisia",
          "Alberta",
          "Molokai",
          "Paraguay",
          "London",
          "Kosovo",
          "Jersey",
          "Djibouti",
          "Labrador",
          "Margarita",
          "Dominican Republic",
          "Aaland",
          "Gilbert",
          "Malaya",
          "Uzbekstan",
          "UKBritish",
          "Yunan",
          "Lochgoilhead",
          "Bulgeria",
          "Khmer",
          "Kent",
          "Lombok",
          "Cape",
          "Saint Petersburg",
          "Sardinia",
          "Sarawak",
          "Veracruz",
          "Mississippi",
          "United StatesSRAerflot",
          "Timor",
          "Bugaria",
          "Lesotho",
          "Vanuatu",
          "Gulf",
          " Rio de Janeiro",
          "Mississipi",
          "Alaksa",
          "Kirghizia",
          "Philipines",
          "Glens",
          "Condor",
          "Inodnesia",
          "Northwest",
          "Tanganyika",
          "Boliva",
          "Leeward",
          "Marine",
          "Malinau",
          "Jamaica",
          "Brunei",
          "Yugosalvia",
          "Pacific",
          "Zimbabwe",
          "Cameroons",
          "Oman",
          "Unavut",
          "Columbia",
          "Suiyang",
          "Democtratic",
          "Sierre",
          "Mariana",
          "Västergötland",
          "Moldavia",
          "Orfork",
          "Guanacaste",
          "Phillipines",
          "Vera",
          "Hati",
          "Placentia",
          "Cundinamarca",
          "Curacao",
          "Cocos",
          "Chad",
          "Martinique",
          "CAMilitary",
          "Zabul",
          "Argyll",
          "Deleware",
          "Malawi",
          "Eritrea",
          "Victoria",
          "Tusayan",
          "Besar",
          "Persian",
          "Aregntina",
          "Soviet",
          "Rhode",
          "Cailifornia",
          "Hunary",
          "Apal",
          "Wisconson",
          "Albania",
          "Bosnia-Herzegovina",
          "Brisbane",
          "Slovakia",
          "Faeroe",
          "Providencia",
          "Moldova",
          "Ghana",
          "Manmar",
          "Guyana",
          "Minnisota",
          "Airzona",
          "Stirlingshire",
          "Dorset",
          "Mexic",
          "Amsterdam",
          "AKAlaska",
          "Oltenia",
          "Beni",
          "Picrdie",
          "Boliviano",
          "Argentinade",
          "D.C.Capital",
          "unknownWT Canada",
          "Afghanstan",
          "Delaware",
          "Cook",
          "Vermont",
          "Calabria",
          "Bavaria",
          "Ellesmere",
          "Lorraine",
          "Buckinghamshire",
          "Alakska",
          "Catalina",
          "Province",
          "Para",
          "Namibia",
          "Italyde",
          "Bhutan",
          "Bias",
          "Saint",
          "Samoa",
          "Massachutes",
          "Australila",
          "Baangladesh",
          "Orrbotten",
          "Californiia",
          "São Paulo",
          "Guernsey",
          "Coloado",
          "Great Britain",
          "Saudia",
          "Kauai",
          "Ariège",
          "Mauretania",
          "Cargo",
          "Micronesia",
          "Manatoba",
          "Ilinois",
          "Islay",
          "Kodiak",
          "Ryukyu",
          "Trento",
          "Guantanamo",
          "Terceira",
          "Calilfornia",
          "Gujarat"
         ],
         "name": "",
         "type": "choropleth",
         "z": [
          10232,
          8113,
          2915,
          2666,
          2452,
          2363,
          2320,
          2064,
          1861,
          1857,
          1586,
          1401,
          1379,
          1376,
          1370,
          1262,
          1241,
          1203,
          1146,
          1134,
          1099,
          1063,
          1057,
          1029,
          998,
          974,
          951,
          924,
          909,
          894,
          868,
          858,
          853,
          850,
          832,
          815,
          781,
          771,
          743,
          730,
          716,
          674,
          657,
          656,
          621,
          599,
          596,
          585,
          570,
          546,
          535,
          522,
          507,
          496,
          484,
          458,
          446,
          436,
          428,
          425,
          420,
          408,
          405,
          402,
          402,
          392,
          385,
          373,
          373,
          363,
          357,
          353,
          345,
          340,
          335,
          333,
          332,
          327,
          320,
          315,
          315,
          313,
          312,
          306,
          303,
          302,
          290,
          290,
          289,
          280,
          280,
          275,
          266,
          264,
          261,
          260,
          259,
          257,
          249,
          244,
          243,
          242,
          240,
          239,
          239,
          237,
          235,
          233,
          229,
          228,
          227,
          226,
          223,
          222,
          221,
          218,
          199,
          195,
          192,
          189,
          187,
          183,
          182,
          180,
          177,
          176,
          176,
          172,
          171,
          165,
          163,
          162,
          162,
          160,
          156,
          154,
          148,
          147,
          145,
          140,
          140,
          139,
          138,
          134,
          134,
          131,
          130,
          130,
          129,
          129,
          127,
          126,
          125,
          125,
          123,
          123,
          121,
          121,
          119,
          117,
          117,
          116,
          116,
          112,
          112,
          112,
          112,
          112,
          110,
          110,
          109,
          108,
          108,
          107,
          107,
          107,
          103,
          102,
          101,
          99,
          99,
          99,
          98,
          97,
          94,
          92,
          91,
          90,
          90,
          89,
          86,
          85,
          84,
          84,
          83,
          81,
          80,
          80,
          80,
          80,
          79,
          78,
          78,
          77,
          77,
          75,
          74,
          74,
          72,
          69,
          68,
          65,
          65,
          64,
          62,
          62,
          62,
          62,
          61,
          61,
          60,
          60,
          58,
          57,
          56,
          56,
          54,
          54,
          53,
          53,
          52,
          51,
          50,
          50,
          50,
          49,
          49,
          48,
          47,
          46,
          45,
          44,
          44,
          43,
          42,
          42,
          41,
          41,
          40,
          39,
          39,
          39,
          39,
          38,
          38,
          37,
          37,
          37,
          37,
          36,
          36,
          35,
          35,
          35,
          35,
          34,
          34,
          33,
          33,
          33,
          33,
          32,
          32,
          31,
          31,
          30,
          30,
          29,
          28,
          28,
          28,
          28,
          27,
          27,
          26,
          26,
          26,
          26,
          26,
          25,
          25,
          25,
          25,
          25,
          25,
          24,
          24,
          23,
          23,
          23,
          22,
          22,
          22,
          21,
          21,
          20,
          20,
          20,
          20,
          19,
          19,
          19,
          19,
          19,
          19,
          19,
          18,
          18,
          18,
          18,
          18,
          18,
          17,
          17,
          16,
          16,
          15,
          15,
          14,
          14,
          14,
          14,
          14,
          13,
          13,
          13,
          13,
          13,
          13,
          12,
          12,
          12,
          12,
          12,
          12,
          12,
          12,
          12,
          11,
          11,
          11,
          11,
          11,
          11,
          11,
          11,
          11,
          11,
          11,
          11,
          10,
          10,
          10,
          10,
          10,
          10,
          10,
          10,
          10,
          10,
          10,
          10,
          10,
          10,
          10,
          9,
          9,
          9,
          9,
          9,
          9,
          9,
          9,
          9,
          8,
          8,
          8,
          8,
          8,
          8,
          7,
          7,
          7,
          7,
          7,
          6,
          6,
          6,
          6,
          6,
          6,
          6,
          6,
          6,
          6,
          6,
          6,
          6,
          5,
          5,
          5,
          5,
          5,
          5,
          5,
          4,
          4,
          4,
          4,
          4,
          3,
          3,
          3,
          3,
          3,
          3,
          3,
          2,
          2,
          2,
          2,
          2,
          2,
          2,
          1,
          1,
          1,
          1,
          1,
          1,
          1,
          1,
          1,
          0,
          0,
          0,
          0,
          0,
          0
         ]
        }
       ],
       "layout": {
        "autosize": true,
        "coloraxis": {
         "colorbar": {
          "title": {
           "text": "Fatalities (air)"
          }
         },
         "colorscale": [
          [
           0,
           "#440154"
          ],
          [
           0.1111111111111111,
           "#482878"
          ],
          [
           0.2222222222222222,
           "#3e4989"
          ],
          [
           0.3333333333333333,
           "#31688e"
          ],
          [
           0.4444444444444444,
           "#26828e"
          ],
          [
           0.5555555555555556,
           "#1f9e89"
          ],
          [
           0.6666666666666666,
           "#35b779"
          ],
          [
           0.7777777777777778,
           "#6ece58"
          ],
          [
           0.8888888888888888,
           "#b5de2b"
          ],
          [
           1,
           "#fde725"
          ]
         ]
        },
        "geo": {
         "center": {
          "lat": 11.196722320536436,
          "lon": -3.0570919087442263
         },
         "domain": {
          "x": [
           0,
           1
          ],
          "y": [
           0,
           1
          ]
         },
         "projection": {
          "rotation": {
           "lon": -3.0570919087442263
          },
          "scale": 1.1486983549970367
         }
        },
        "legend": {
         "tracegroupgap": 0
        },
        "template": {
         "data": {
          "candlestick": [
           {
            "decreasing": {
             "line": {
              "color": "#000033"
             }
            },
            "increasing": {
             "line": {
              "color": "#000032"
             }
            },
            "type": "candlestick"
           }
          ],
          "contour": [
           {
            "colorscale": [
             [
              0,
              "#000011"
             ],
             [
              0.1111111111111111,
              "#000012"
             ],
             [
              0.2222222222222222,
              "#000013"
             ],
             [
              0.3333333333333333,
              "#000014"
             ],
             [
              0.4444444444444444,
              "#000015"
             ],
             [
              0.5555555555555556,
              "#000016"
             ],
             [
              0.6666666666666666,
              "#000017"
             ],
             [
              0.7777777777777778,
              "#000018"
             ],
             [
              0.8888888888888888,
              "#000019"
             ],
             [
              1,
              "#000020"
             ]
            ],
            "type": "contour"
           }
          ],
          "contourcarpet": [
           {
            "colorscale": [
             [
              0,
              "#000011"
             ],
             [
              0.1111111111111111,
              "#000012"
             ],
             [
              0.2222222222222222,
              "#000013"
             ],
             [
              0.3333333333333333,
              "#000014"
             ],
             [
              0.4444444444444444,
              "#000015"
             ],
             [
              0.5555555555555556,
              "#000016"
             ],
             [
              0.6666666666666666,
              "#000017"
             ],
             [
              0.7777777777777778,
              "#000018"
             ],
             [
              0.8888888888888888,
              "#000019"
             ],
             [
              1,
              "#000020"
             ]
            ],
            "type": "contourcarpet"
           }
          ],
          "heatmap": [
           {
            "colorscale": [
             [
              0,
              "#000011"
             ],
             [
              0.1111111111111111,
              "#000012"
             ],
             [
              0.2222222222222222,
              "#000013"
             ],
             [
              0.3333333333333333,
              "#000014"
             ],
             [
              0.4444444444444444,
              "#000015"
             ],
             [
              0.5555555555555556,
              "#000016"
             ],
             [
              0.6666666666666666,
              "#000017"
             ],
             [
              0.7777777777777778,
              "#000018"
             ],
             [
              0.8888888888888888,
              "#000019"
             ],
             [
              1,
              "#000020"
             ]
            ],
            "type": "heatmap"
           }
          ],
          "histogram2d": [
           {
            "colorscale": [
             [
              0,
              "#000011"
             ],
             [
              0.1111111111111111,
              "#000012"
             ],
             [
              0.2222222222222222,
              "#000013"
             ],
             [
              0.3333333333333333,
              "#000014"
             ],
             [
              0.4444444444444444,
              "#000015"
             ],
             [
              0.5555555555555556,
              "#000016"
             ],
             [
              0.6666666666666666,
              "#000017"
             ],
             [
              0.7777777777777778,
              "#000018"
             ],
             [
              0.8888888888888888,
              "#000019"
             ],
             [
              1,
              "#000020"
             ]
            ],
            "type": "histogram2d"
           }
          ],
          "icicle": [
           {
            "textfont": {
             "color": "white"
            },
            "type": "icicle"
           }
          ],
          "sankey": [
           {
            "textfont": {
             "color": "#000036"
            },
            "type": "sankey"
           }
          ],
          "scatter": [
           {
            "marker": {
             "line": {
              "width": 0
             }
            },
            "type": "scatter"
           }
          ],
          "table": [
           {
            "cells": {
             "fill": {
              "color": "#000038"
             },
             "font": {
              "color": "#000037"
             },
             "line": {
              "color": "#000039"
             }
            },
            "header": {
             "fill": {
              "color": "#000040"
             },
             "font": {
              "color": "#000036"
             },
             "line": {
              "color": "#000039"
             }
            },
            "type": "table"
           }
          ],
          "waterfall": [
           {
            "connector": {
             "line": {
              "color": "#000036",
              "width": 2
             }
            },
            "decreasing": {
             "marker": {
              "color": "#000033"
             }
            },
            "increasing": {
             "marker": {
              "color": "#000032"
             }
            },
            "totals": {
             "marker": {
              "color": "#000034"
             }
            },
            "type": "waterfall"
           }
          ]
         },
         "layout": {
          "coloraxis": {
           "colorscale": [
            [
             0,
             "#000011"
            ],
            [
             0.1111111111111111,
             "#000012"
            ],
            [
             0.2222222222222222,
             "#000013"
            ],
            [
             0.3333333333333333,
             "#000014"
            ],
            [
             0.4444444444444444,
             "#000015"
            ],
            [
             0.5555555555555556,
             "#000016"
            ],
            [
             0.6666666666666666,
             "#000017"
            ],
            [
             0.7777777777777778,
             "#000018"
            ],
            [
             0.8888888888888888,
             "#000019"
            ],
            [
             1,
             "#000020"
            ]
           ]
          },
          "colorscale": {
           "diverging": [
            [
             0,
             "#000021"
            ],
            [
             0.1,
             "#000022"
            ],
            [
             0.2,
             "#000023"
            ],
            [
             0.3,
             "#000024"
            ],
            [
             0.4,
             "#000025"
            ],
            [
             0.5,
             "#000026"
            ],
            [
             0.6,
             "#000027"
            ],
            [
             0.7,
             "#000028"
            ],
            [
             0.8,
             "#000029"
            ],
            [
             0.9,
             "#000030"
            ],
            [
             1,
             "#000031"
            ]
           ],
           "sequential": [
            [
             0,
             "#000011"
            ],
            [
             0.1111111111111111,
             "#000012"
            ],
            [
             0.2222222222222222,
             "#000013"
            ],
            [
             0.3333333333333333,
             "#000014"
            ],
            [
             0.4444444444444444,
             "#000015"
            ],
            [
             0.5555555555555556,
             "#000016"
            ],
            [
             0.6666666666666666,
             "#000017"
            ],
            [
             0.7777777777777778,
             "#000018"
            ],
            [
             0.8888888888888888,
             "#000019"
            ],
            [
             1,
             "#000020"
            ]
           ],
           "sequentialminus": [
            [
             0,
             "#000011"
            ],
            [
             0.1111111111111111,
             "#000012"
            ],
            [
             0.2222222222222222,
             "#000013"
            ],
            [
             0.3333333333333333,
             "#000014"
            ],
            [
             0.4444444444444444,
             "#000015"
            ],
            [
             0.5555555555555556,
             "#000016"
            ],
            [
             0.6666666666666666,
             "#000017"
            ],
            [
             0.7777777777777778,
             "#000018"
            ],
            [
             0.8888888888888888,
             "#000019"
            ],
            [
             1,
             "#000020"
            ]
           ]
          },
          "colorway": [
           "#000001",
           "#000002",
           "#000003",
           "#000004",
           "#000005",
           "#000006",
           "#000007",
           "#000008",
           "#000009",
           "#000010"
          ]
         }
        },
        "title": {
         "text": "Aircraft crashes by Country"
        }
       }
      },
      "image/png": "[encoded data removed]",
      "text/html": [
       "<div>                            <div id=\"25b922da-7667-4907-96e5-a6f56d1ccd40\" class=\"plotly-graph-div\" style=\"height:525px; width:100%;\"></div>            <script type=\"text/javascript\">                require([\"plotly\"], function(Plotly) {                    window.PLOTLYENV=window.PLOTLYENV || {};                                    if (document.getElementById(\"25b922da-7667-4907-96e5-a6f56d1ccd40\")) {                    Plotly.newPlot(                        \"25b922da-7667-4907-96e5-a6f56d1ccd40\",                        [{\"coloraxis\":\"coloraxis\",\"geo\":\"geo\",\"hovertemplate\":\"Country\\u002fRegion=%{location}\\u003cbr\\u003eFatalities (air)=%{z}\\u003cextra\\u003e\\u003c\\u002fextra\\u003e\",\"locationmode\":\"country names\",\"locations\":[\"unknown\",\"Russia\",\"Brazil\",\"Colombia\",\"South\",\"India\",\"Indonesia\",\"France\",\"Iran\",\"China\",\"California\",\"Italy\",\"Peru\",\"United StatesSRAeroflot\",\"Nigeria\",\"Ukraine\",\"Egypt\",\"Philippines\",\"Mexico\",\"Spain\",\"Afghanistan\",\"Venezuela\",\"Taiwan\",\"Saudi\",\"England\",\"Pakistan\",\"Japan\",\"Turkey\",\"Germany\",\"Alaska\",\"Morocco\",\"Thailand\",\"Argentina\",\"Epal\",\"Angola\",\"Canary\",\"Sri Lanka\",\"Algeria\",\"Greece\",\"Georgia\",\"North\",\"Ecuador\",\"Sudan\",\"Bolivia\",\"Congo\",\"West\",\"Illinois\",\"Texas\",\"Virginia\",\"Cuba\",\"Libya\",\"Norway\",\"Newfoundland\",\"Scotland\",\"Vietnam\",\"Ethiopia\",\"Pennsylvania\",\"Florida\",\"Poland\",\"Chile\",\"Laos\",\"Washington\",\"Cameroon\",\"Czechoslovakia\",\"Massachusetts\",\"Canada\",\"Australia\",\"Kazakhstan\",\"Maharashtra\",\"Azores\",\"Bulgaria\",\"Guam\",\"Romania\",\"United States\",\"East\",\"Azerbaijan\",\"French\",\"Ireland\",\"Burma\",\"Maryland\",\"Syria\",\"Nevada\",\"Honduras\",\"Uzbekistan\",\"Queens\",\"Myanmar\",\"Guatemala\",\"Papua\",\"Michigan\",\"Switzerland\",\"Comoros\",\"Lebanon\",\"Zaire\",\"Aichi\",\"Ivory\",\"Arizona\",\"Kenya\",\"Ross\",\"Nicaragua\",\"Guangxi\",\"Puerto\",\"British\",\"Hawaii\",\"Panama\",\"Louisiana\",\"Belgium\",\"Indiana\",\"Yugoslavia\",\"Ohio\",\"Siberia\",\"Colorado\",\"Missouri\",\"Sicily\",\"Utah\",\"Quebec\",\"Macedonia\",\"Denmark\",\"Wyoming\",\"Indian\",\"Domincan\",\"Niger\",\"Bahrain\",\"Mali\",\"Cyprus\",\"Yemen\",\"Surinam\",\"Hrvatska\",\"Dominican\",\"Iraq\",\"Costa\",\"Uruguay\",\"Portugal\",\"Iowa\",\"Valle\",\"Jeddah\",\"Mongolia\",\"Vizcaya\",\"Hong\",\"Senegal\",\"Equatorial\",\"Benin\",\"Chechnya\",\"Mount\",\"Queensland\",\"Malta\",\"Island\",\"Val-de-Marne\",\"Huila\",\"Mauritania\",\"Tokyo\",\"Hungary\",\"Netherlands\",\"Democratic\",\"Kentucky\",\"South-West\",\"Orly\",\"Somalia\",\"Jiangsu\",\"Azuay\",\"Jordan\",\"Armenia\",\"British Columbia\",\"Tajikistan\",\"Guadaloupe\",\"UAEGulf\",\"Gerona\",\"Kyrgyzstan\",\"Montana\",\"Miami\",\"Miao-li\",\"Sweden\",\"Sichuan\",\"Covington\",\"Bali\",\"Cambodia\",\"Philippine\",\"Tennessee\",\"Ontario\",\"Austria\",\"United StatesSRMilitary\",\"Minnesota\",\"Slovenia\",\"American\",\"Rhodesia\",\"Liberia\",\"Oklahoma\",\"Huanuco\",\"Republic\",\"Kazakastan\",\"Boston\",\"Malaysia\",\"Ebraska\",\"Wantagh\",\"Zulia\",\"Mozambique\",\"Belgian\",\"Madagascar\",\"Cardiff\",\"Aargau\",\"Granada\",\"Uevo\",\"Botswana\",\"Tahiti\",\"Idaho\",\"Okinawa\",\"Crete\",\"Gambia\",\"Barbados\",\"Cheshire\",\"Alabama\",\"Lombardia\",\"San Francisco\",\"Guadeloupe\",\"Zambia\",\"Virgin\",\"Wisconsin\",\"Shetlands\",\"Connecticut\",\"Haiti\",\"Saskatchewan\",\"Loire\",\"Bangladesh\",\"Belarus\",\"Biafra\",\"Oregon\",\"Algarve\",\"Tanzania\",\"Finland\",\"Bahamas\",\"Greenland\",\"Iceland\",\"Kansas\",\"Arkansas\",\"Corsica\",\"Sulu\",\"Tennesee\",\"Croatia\",\"Horley\",\"Qatar\",\"Turkmenistan\",\"Sierra\",\"Yukon\",\"Latvia\",\"Chicago\",\"Malagasy\",\"Czech\",\"Irian\",\"Gabon\",\"Russian\",\"Suriname\",\"Fiji\",\"Middlesex\",\"Estonia\",\"Morroco\",\"Guinea\",\"Bermuda\",\"Jamacia\",\"Madrid\",\"Sussex\",\"Central\",\"Los Angeles\",\"Lancs\",\"Kuwait\",\"Djbouti\",\"Dutch\",\"Sumatra\",\"Hants\",\"Singapore\",\"unknownambia\",\"Africa\",\"Comoro\",\"Atlantic\",\"Maine\",\"Jawa\",\"Isle\",\"United Arab Republic\",\"Montserrat\",\"Buea\",\"Washingon\",\"unknownSW\",\"Ayrshire\",\"Uganda\",\"Luxembourg\",\"Rwanda\",\"Washington State\",\"Marshall\",\"Trinidad\",\"Manitoba\",\"Solomon\",\"Tasmania\",\"Tunisia\",\"Alberta\",\"Molokai\",\"Paraguay\",\"London\",\"Kosovo\",\"Jersey\",\"Djibouti\",\"Labrador\",\"Margarita\",\"Dominican Republic\",\"Aaland\",\"Gilbert\",\"Malaya\",\"Uzbekstan\",\"UKBritish\",\"Yunan\",\"Lochgoilhead\",\"Bulgeria\",\"Khmer\",\"Kent\",\"Lombok\",\"Cape\",\"Saint Petersburg\",\"Sardinia\",\"Sarawak\",\"Veracruz\",\"Mississippi\",\"United StatesSRAerflot\",\"Timor\",\"Bugaria\",\"Lesotho\",\"Vanuatu\",\"Gulf\",\" Rio de Janeiro\",\"Mississipi\",\"Alaksa\",\"Kirghizia\",\"Philipines\",\"Glens\",\"Condor\",\"Inodnesia\",\"Northwest\",\"Tanganyika\",\"Boliva\",\"Leeward\",\"Marine\",\"Malinau\",\"Jamaica\",\"Brunei\",\"Yugosalvia\",\"Pacific\",\"Zimbabwe\",\"Cameroons\",\"Oman\",\"Unavut\",\"Columbia\",\"Suiyang\",\"Democtratic\",\"Sierre\",\"Mariana\",\"V\\u00e4sterg\\u00f6tland\",\"Moldavia\",\"Orfork\",\"Guanacaste\",\"Phillipines\",\"Vera\",\"Hati\",\"Placentia\",\"Cundinamarca\",\"Curacao\",\"Cocos\",\"Chad\",\"Martinique\",\"CAMilitary\",\"Zabul\",\"Argyll\",\"Deleware\",\"Malawi\",\"Eritrea\",\"Victoria\",\"Tusayan\",\"Besar\",\"Persian\",\"Aregntina\",\"Soviet\",\"Rhode\",\"Cailifornia\",\"Hunary\",\"Apal\",\"Wisconson\",\"Albania\",\"Bosnia-Herzegovina\",\"Brisbane\",\"Slovakia\",\"Faeroe\",\"Providencia\",\"Moldova\",\"Ghana\",\"Manmar\",\"Guyana\",\"Minnisota\",\"Airzona\",\"Stirlingshire\",\"Dorset\",\"Mexic\",\"Amsterdam\",\"AKAlaska\",\"Oltenia\",\"Beni\",\"Picrdie\",\"Boliviano\",\"Argentinade\",\"D.C.Capital\",\"unknownWT Canada\",\"Afghanstan\",\"Delaware\",\"Cook\",\"Vermont\",\"Calabria\",\"Bavaria\",\"Ellesmere\",\"Lorraine\",\"Buckinghamshire\",\"Alakska\",\"Catalina\",\"Province\",\"Para\",\"Namibia\",\"Italyde\",\"Bhutan\",\"Bias\",\"Saint\",\"Samoa\",\"Massachutes\",\"Australila\",\"Baangladesh\",\"Orrbotten\",\"Californiia\",\"S\\u00e3o Paulo\",\"Guernsey\",\"Coloado\",\"Great Britain\",\"Saudia\",\"Kauai\",\"Ari\\u00e8ge\",\"Mauretania\",\"Cargo\",\"Micronesia\",\"Manatoba\",\"Ilinois\",\"Islay\",\"Kodiak\",\"Ryukyu\",\"Trento\",\"Guantanamo\",\"Terceira\",\"Calilfornia\",\"Gujarat\"],\"name\":\"\",\"z\":[10232,8113,2915,2666,2452,2363,2320,2064,1861,1857,1586,1401,1379,1376,1370,1262,1241,1203,1146,1134,1099,1063,1057,1029,998,974,951,924,909,894,868,858,853,850,832,815,781,771,743,730,716,674,657,656,621,599,596,585,570,546,535,522,507,496,484,458,446,436,428,425,420,408,405,402,402,392,385,373,373,363,357,353,345,340,335,333,332,327,320,315,315,313,312,306,303,302,290,290,289,280,280,275,266,264,261,260,259,257,249,244,243,242,240,239,239,237,235,233,229,228,227,226,223,222,221,218,199,195,192,189,187,183,182,180,177,176,176,172,171,165,163,162,162,160,156,154,148,147,145,140,140,139,138,134,134,131,130,130,129,129,127,126,125,125,123,123,121,121,119,117,117,116,116,112,112,112,112,112,110,110,109,108,108,107,107,107,103,102,101,99,99,99,98,97,94,92,91,90,90,89,86,85,84,84,83,81,80,80,80,80,79,78,78,77,77,75,74,74,72,69,68,65,65,64,62,62,62,62,61,61,60,60,58,57,56,56,54,54,53,53,52,51,50,50,50,49,49,48,47,46,45,44,44,43,42,42,41,41,40,39,39,39,39,38,38,37,37,37,37,36,36,35,35,35,35,34,34,33,33,33,33,32,32,31,31,30,30,29,28,28,28,28,27,27,26,26,26,26,26,25,25,25,25,25,25,24,24,23,23,23,22,22,22,21,21,20,20,20,20,19,19,19,19,19,19,19,18,18,18,18,18,18,17,17,16,16,15,15,14,14,14,14,14,13,13,13,13,13,13,12,12,12,12,12,12,12,12,12,11,11,11,11,11,11,11,11,11,11,11,11,10,10,10,10,10,10,10,10,10,10,10,10,10,10,10,9,9,9,9,9,9,9,9,9,8,8,8,8,8,8,7,7,7,7,7,6,6,6,6,6,6,6,6,6,6,6,6,6,5,5,5,5,5,5,5,4,4,4,4,4,3,3,3,3,3,3,3,2,2,2,2,2,2,2,1,1,1,1,1,1,1,1,1,0,0,0,0,0,0],\"type\":\"choropleth\"}],                        {\"template\":{\"data\":{\"candlestick\":[{\"decreasing\":{\"line\":{\"color\":\"#000033\"}},\"increasing\":{\"line\":{\"color\":\"#000032\"}},\"type\":\"candlestick\"}],\"contourcarpet\":[{\"colorscale\":[[0.0,\"#000011\"],[0.1111111111111111,\"#000012\"],[0.2222222222222222,\"#000013\"],[0.3333333333333333,\"#000014\"],[0.4444444444444444,\"#000015\"],[0.5555555555555556,\"#000016\"],[0.6666666666666666,\"#000017\"],[0.7777777777777778,\"#000018\"],[0.8888888888888888,\"#000019\"],[1.0,\"#000020\"]],\"type\":\"contourcarpet\"}],\"contour\":[{\"colorscale\":[[0.0,\"#000011\"],[0.1111111111111111,\"#000012\"],[0.2222222222222222,\"#000013\"],[0.3333333333333333,\"#000014\"],[0.4444444444444444,\"#000015\"],[0.5555555555555556,\"#000016\"],[0.6666666666666666,\"#000017\"],[0.7777777777777778,\"#000018\"],[0.8888888888888888,\"#000019\"],[1.0,\"#000020\"]],\"type\":\"contour\"}],\"heatmap\":[{\"colorscale\":[[0.0,\"#000011\"],[0.1111111111111111,\"#000012\"],[0.2222222222222222,\"#000013\"],[0.3333333333333333,\"#000014\"],[0.4444444444444444,\"#000015\"],[0.5555555555555556,\"#000016\"],[0.6666666666666666,\"#000017\"],[0.7777777777777778,\"#000018\"],[0.8888888888888888,\"#000019\"],[1.0,\"#000020\"]],\"type\":\"heatmap\"}],\"histogram2d\":[{\"colorscale\":[[0.0,\"#000011\"],[0.1111111111111111,\"#000012\"],[0.2222222222222222,\"#000013\"],[0.3333333333333333,\"#000014\"],[0.4444444444444444,\"#000015\"],[0.5555555555555556,\"#000016\"],[0.6666666666666666,\"#000017\"],[0.7777777777777778,\"#000018\"],[0.8888888888888888,\"#000019\"],[1.0,\"#000020\"]],\"type\":\"histogram2d\"}],\"icicle\":[{\"textfont\":{\"color\":\"white\"},\"type\":\"icicle\"}],\"sankey\":[{\"textfont\":{\"color\":\"#000036\"},\"type\":\"sankey\"}],\"scatter\":[{\"marker\":{\"line\":{\"width\":0}},\"type\":\"scatter\"}],\"table\":[{\"cells\":{\"fill\":{\"color\":\"#000038\"},\"font\":{\"color\":\"#000037\"},\"line\":{\"color\":\"#000039\"}},\"header\":{\"fill\":{\"color\":\"#000040\"},\"font\":{\"color\":\"#000036\"},\"line\":{\"color\":\"#000039\"}},\"type\":\"table\"}],\"waterfall\":[{\"connector\":{\"line\":{\"color\":\"#000036\",\"width\":2}},\"decreasing\":{\"marker\":{\"color\":\"#000033\"}},\"increasing\":{\"marker\":{\"color\":\"#000032\"}},\"totals\":{\"marker\":{\"color\":\"#000034\"}},\"type\":\"waterfall\"}]},\"layout\":{\"coloraxis\":{\"colorscale\":[[0.0,\"#000011\"],[0.1111111111111111,\"#000012\"],[0.2222222222222222,\"#000013\"],[0.3333333333333333,\"#000014\"],[0.4444444444444444,\"#000015\"],[0.5555555555555556,\"#000016\"],[0.6666666666666666,\"#000017\"],[0.7777777777777778,\"#000018\"],[0.8888888888888888,\"#000019\"],[1.0,\"#000020\"]]},\"colorscale\":{\"diverging\":[[0.0,\"#000021\"],[0.1,\"#000022\"],[0.2,\"#000023\"],[0.3,\"#000024\"],[0.4,\"#000025\"],[0.5,\"#000026\"],[0.6,\"#000027\"],[0.7,\"#000028\"],[0.8,\"#000029\"],[0.9,\"#000030\"],[1.0,\"#000031\"]],\"sequential\":[[0.0,\"#000011\"],[0.1111111111111111,\"#000012\"],[0.2222222222222222,\"#000013\"],[0.3333333333333333,\"#000014\"],[0.4444444444444444,\"#000015\"],[0.5555555555555556,\"#000016\"],[0.6666666666666666,\"#000017\"],[0.7777777777777778,\"#000018\"],[0.8888888888888888,\"#000019\"],[1.0,\"#000020\"]],\"sequentialminus\":[[0.0,\"#000011\"],[0.1111111111111111,\"#000012\"],[0.2222222222222222,\"#000013\"],[0.3333333333333333,\"#000014\"],[0.4444444444444444,\"#000015\"],[0.5555555555555556,\"#000016\"],[0.6666666666666666,\"#000017\"],[0.7777777777777778,\"#000018\"],[0.8888888888888888,\"#000019\"],[1.0,\"#000020\"]]},\"colorway\":[\"#000001\",\"#000002\",\"#000003\",\"#000004\",\"#000005\",\"#000006\",\"#000007\",\"#000008\",\"#000009\",\"#000010\"]}},\"geo\":{\"domain\":{\"x\":[0.0,1.0],\"y\":[0.0,1.0]},\"center\":{}},\"coloraxis\":{\"colorbar\":{\"title\":{\"text\":\"Fatalities (air)\"}},\"colorscale\":[[0.0,\"#440154\"],[0.1111111111111111,\"#482878\"],[0.2222222222222222,\"#3e4989\"],[0.3333333333333333,\"#31688e\"],[0.4444444444444444,\"#26828e\"],[0.5555555555555556,\"#1f9e89\"],[0.6666666666666666,\"#35b779\"],[0.7777777777777778,\"#6ece58\"],[0.8888888888888888,\"#b5de2b\"],[1.0,\"#fde725\"]]},\"legend\":{\"tracegroupgap\":0},\"title\":{\"text\":\"Aircraft crashes by Country\"}},                        {\"responsive\": true}                    ).then(function(){\n",
       "                            \n",
       "var gd = document.getElementById('25b922da-7667-4907-96e5-a6f56d1ccd40');\n",
       "var x = new MutationObserver(function (mutations, observer) {{\n",
       "        var display = window.getComputedStyle(gd).display;\n",
       "        if (!display || display === 'none') {{\n",
       "            console.log([gd, 'removed!']);\n",
       "            Plotly.purge(gd);\n",
       "            observer.disconnect();\n",
       "        }}\n",
       "}});\n",
       "\n",
       "// Listen for the removal of the full notebook cells\n",
       "var notebookContainer = gd.closest('#notebook-container');\n",
       "if (notebookContainer) {{\n",
       "    x.observe(notebookContainer, {childList: true});\n",
       "}}\n",
       "\n",
       "// Listen for the clearing of the current output cell\n",
       "var outputEl = gd.closest('.output');\n",
       "if (outputEl) {{\n",
       "    x.observe(outputEl, {childList: true});\n",
       "}}\n",
       "\n",
       "                        })                };                });            </script>        </div>"
      ]
     },
     "metadata": {},
     "output_type": "display_data"
    }
   ],
   "source": [
    "fig = px.choropleth(countries_sort, locations = \"Country/Region\", \n",
    "                   locationmode = \"country names\", color = \"Fatalities (air)\", color_continuous_scale = \"Viridis\",\n",
    "                   title = \"Aircraft crashes by Country\")\n",
    "fig.show()"
   ]
  },
  {
   "cell_type": "markdown",
   "id": "be3b2950-d37c-4ace-b6ef-801c2ee16ed6",
   "metadata": {},
   "source": [
    "## Q5"
   ]
  },
  {
   "cell_type": "code",
   "execution_count": 330,
   "id": "8959397a-131e-4355-97de-247ad14401d9",
   "metadata": {},
   "outputs": [
    {
     "data": {
      "text/html": [
       "<div>\n",
       "<style scoped>\n",
       "    .dataframe tbody tr th:only-of-type {\n",
       "        vertical-align: middle;\n",
       "    }\n",
       "\n",
       "    .dataframe tbody tr th {\n",
       "        vertical-align: top;\n",
       "    }\n",
       "\n",
       "    .dataframe thead th {\n",
       "        text-align: right;\n",
       "    }\n",
       "</style>\n",
       "<table border=\"1\" class=\"dataframe\">\n",
       "  <thead>\n",
       "    <tr style=\"text-align: right;\">\n",
       "      <th></th>\n",
       "      <th>Aircraft Manufacturer</th>\n",
       "      <th>Fatalities (air)</th>\n",
       "    </tr>\n",
       "  </thead>\n",
       "  <tbody>\n",
       "    <tr>\n",
       "      <th>110</th>\n",
       "      <td>Boeing</td>\n",
       "      <td>20090</td>\n",
       "    </tr>\n",
       "    <tr>\n",
       "      <th>226</th>\n",
       "      <td>Douglas</td>\n",
       "      <td>16675</td>\n",
       "    </tr>\n",
       "    <tr>\n",
       "      <th>422</th>\n",
       "      <td>McDonnell Douglas</td>\n",
       "      <td>6992</td>\n",
       "    </tr>\n",
       "    <tr>\n",
       "      <th>38</th>\n",
       "      <td>Antonov</td>\n",
       "      <td>6527</td>\n",
       "    </tr>\n",
       "    <tr>\n",
       "      <th>551</th>\n",
       "      <td>Tupolev</td>\n",
       "      <td>6077</td>\n",
       "    </tr>\n",
       "    <tr>\n",
       "      <th>331</th>\n",
       "      <td>Ilyushin</td>\n",
       "      <td>5813</td>\n",
       "    </tr>\n",
       "    <tr>\n",
       "      <th>371</th>\n",
       "      <td>Lockheed</td>\n",
       "      <td>5242</td>\n",
       "    </tr>\n",
       "    <tr>\n",
       "      <th>32</th>\n",
       "      <td>Airbus</td>\n",
       "      <td>3927</td>\n",
       "    </tr>\n",
       "    <tr>\n",
       "      <th>271</th>\n",
       "      <td>Fokker</td>\n",
       "      <td>2599</td>\n",
       "    </tr>\n",
       "    <tr>\n",
       "      <th>204</th>\n",
       "      <td>Curtiss</td>\n",
       "      <td>1847</td>\n",
       "    </tr>\n",
       "  </tbody>\n",
       "</table>\n",
       "</div>"
      ],
      "text/plain": [
       "    Aircraft Manufacturer  Fatalities (air)\n",
       "110                Boeing             20090\n",
       "226               Douglas             16675\n",
       "422     McDonnell Douglas              6992\n",
       "38                Antonov              6527\n",
       "551               Tupolev              6077\n",
       "331              Ilyushin              5813\n",
       "371              Lockheed              5242\n",
       "32                 Airbus              3927\n",
       "271                Fokker              2599\n",
       "204               Curtiss              1847"
      ]
     },
     "execution_count": 330,
     "metadata": {},
     "output_type": "execute_result"
    }
   ],
   "source": [
    "# Which aircraft manufacturers have the highest incidence of crashes?\n",
    "\n",
    "Aircraft = df.groupby(['Aircraft Manufacturer'])['Fatalities (air)'].sum().reset_index()\n",
    "\n",
    "Aircraft_sort = Aircraft.sort_values(by = 'Fatalities (air)', ascending =False)\n",
    "\n",
    "\n",
    "Aircraft_10 = Aircraft_sort.head(10)\n",
    "\n",
    "\n",
    "Aircraft_10"
   ]
  },
  {
   "cell_type": "code",
   "execution_count": 411,
   "id": "e33fcff6-499c-4f01-98ac-2a6142a78289",
   "metadata": {},
   "outputs": [
    {
     "data": {
      "application/vnd.plotly.v1+json": {
       "config": {
        "plotlyServerURL": "https://plot.ly"
       },
       "data": [
        {
         "alignmentgroup": "True",
         "hovertemplate": "Aircraft Manufacturer=%{x}<br>Fatalities (air)=%{y}<extra></extra>",
         "legendgroup": "",
         "marker": {
          "color": "#000001",
          "pattern": {
           "shape": ""
          }
         },
         "name": "",
         "offsetgroup": "",
         "orientation": "v",
         "showlegend": false,
         "textposition": "auto",
         "type": "bar",
         "x": [
          "Boeing",
          "Douglas",
          "McDonnell Douglas",
          "Antonov",
          "Tupolev",
          "Ilyushin",
          "Lockheed",
          "Airbus",
          "Fokker",
          "Curtiss"
         ],
         "xaxis": "x",
         "y": [
          20090,
          16675,
          6992,
          6527,
          6077,
          5813,
          5242,
          3927,
          2599,
          1847
         ],
         "yaxis": "y"
        }
       ],
       "layout": {
        "autosize": true,
        "barmode": "relative",
        "legend": {
         "tracegroupgap": 0
        },
        "margin": {
         "t": 60
        },
        "template": {
         "data": {
          "candlestick": [
           {
            "decreasing": {
             "line": {
              "color": "#000033"
             }
            },
            "increasing": {
             "line": {
              "color": "#000032"
             }
            },
            "type": "candlestick"
           }
          ],
          "contour": [
           {
            "colorscale": [
             [
              0,
              "#000011"
             ],
             [
              0.1111111111111111,
              "#000012"
             ],
             [
              0.2222222222222222,
              "#000013"
             ],
             [
              0.3333333333333333,
              "#000014"
             ],
             [
              0.4444444444444444,
              "#000015"
             ],
             [
              0.5555555555555556,
              "#000016"
             ],
             [
              0.6666666666666666,
              "#000017"
             ],
             [
              0.7777777777777778,
              "#000018"
             ],
             [
              0.8888888888888888,
              "#000019"
             ],
             [
              1,
              "#000020"
             ]
            ],
            "type": "contour"
           }
          ],
          "contourcarpet": [
           {
            "colorscale": [
             [
              0,
              "#000011"
             ],
             [
              0.1111111111111111,
              "#000012"
             ],
             [
              0.2222222222222222,
              "#000013"
             ],
             [
              0.3333333333333333,
              "#000014"
             ],
             [
              0.4444444444444444,
              "#000015"
             ],
             [
              0.5555555555555556,
              "#000016"
             ],
             [
              0.6666666666666666,
              "#000017"
             ],
             [
              0.7777777777777778,
              "#000018"
             ],
             [
              0.8888888888888888,
              "#000019"
             ],
             [
              1,
              "#000020"
             ]
            ],
            "type": "contourcarpet"
           }
          ],
          "heatmap": [
           {
            "colorscale": [
             [
              0,
              "#000011"
             ],
             [
              0.1111111111111111,
              "#000012"
             ],
             [
              0.2222222222222222,
              "#000013"
             ],
             [
              0.3333333333333333,
              "#000014"
             ],
             [
              0.4444444444444444,
              "#000015"
             ],
             [
              0.5555555555555556,
              "#000016"
             ],
             [
              0.6666666666666666,
              "#000017"
             ],
             [
              0.7777777777777778,
              "#000018"
             ],
             [
              0.8888888888888888,
              "#000019"
             ],
             [
              1,
              "#000020"
             ]
            ],
            "type": "heatmap"
           }
          ],
          "histogram2d": [
           {
            "colorscale": [
             [
              0,
              "#000011"
             ],
             [
              0.1111111111111111,
              "#000012"
             ],
             [
              0.2222222222222222,
              "#000013"
             ],
             [
              0.3333333333333333,
              "#000014"
             ],
             [
              0.4444444444444444,
              "#000015"
             ],
             [
              0.5555555555555556,
              "#000016"
             ],
             [
              0.6666666666666666,
              "#000017"
             ],
             [
              0.7777777777777778,
              "#000018"
             ],
             [
              0.8888888888888888,
              "#000019"
             ],
             [
              1,
              "#000020"
             ]
            ],
            "type": "histogram2d"
           }
          ],
          "icicle": [
           {
            "textfont": {
             "color": "white"
            },
            "type": "icicle"
           }
          ],
          "sankey": [
           {
            "textfont": {
             "color": "#000036"
            },
            "type": "sankey"
           }
          ],
          "scatter": [
           {
            "marker": {
             "line": {
              "width": 0
             }
            },
            "type": "scatter"
           }
          ],
          "table": [
           {
            "cells": {
             "fill": {
              "color": "#000038"
             },
             "font": {
              "color": "#000037"
             },
             "line": {
              "color": "#000039"
             }
            },
            "header": {
             "fill": {
              "color": "#000040"
             },
             "font": {
              "color": "#000036"
             },
             "line": {
              "color": "#000039"
             }
            },
            "type": "table"
           }
          ],
          "waterfall": [
           {
            "connector": {
             "line": {
              "color": "#000036",
              "width": 2
             }
            },
            "decreasing": {
             "marker": {
              "color": "#000033"
             }
            },
            "increasing": {
             "marker": {
              "color": "#000032"
             }
            },
            "totals": {
             "marker": {
              "color": "#000034"
             }
            },
            "type": "waterfall"
           }
          ]
         },
         "layout": {
          "coloraxis": {
           "colorscale": [
            [
             0,
             "#000011"
            ],
            [
             0.1111111111111111,
             "#000012"
            ],
            [
             0.2222222222222222,
             "#000013"
            ],
            [
             0.3333333333333333,
             "#000014"
            ],
            [
             0.4444444444444444,
             "#000015"
            ],
            [
             0.5555555555555556,
             "#000016"
            ],
            [
             0.6666666666666666,
             "#000017"
            ],
            [
             0.7777777777777778,
             "#000018"
            ],
            [
             0.8888888888888888,
             "#000019"
            ],
            [
             1,
             "#000020"
            ]
           ]
          },
          "colorscale": {
           "diverging": [
            [
             0,
             "#000021"
            ],
            [
             0.1,
             "#000022"
            ],
            [
             0.2,
             "#000023"
            ],
            [
             0.3,
             "#000024"
            ],
            [
             0.4,
             "#000025"
            ],
            [
             0.5,
             "#000026"
            ],
            [
             0.6,
             "#000027"
            ],
            [
             0.7,
             "#000028"
            ],
            [
             0.8,
             "#000029"
            ],
            [
             0.9,
             "#000030"
            ],
            [
             1,
             "#000031"
            ]
           ],
           "sequential": [
            [
             0,
             "#000011"
            ],
            [
             0.1111111111111111,
             "#000012"
            ],
            [
             0.2222222222222222,
             "#000013"
            ],
            [
             0.3333333333333333,
             "#000014"
            ],
            [
             0.4444444444444444,
             "#000015"
            ],
            [
             0.5555555555555556,
             "#000016"
            ],
            [
             0.6666666666666666,
             "#000017"
            ],
            [
             0.7777777777777778,
             "#000018"
            ],
            [
             0.8888888888888888,
             "#000019"
            ],
            [
             1,
             "#000020"
            ]
           ],
           "sequentialminus": [
            [
             0,
             "#000011"
            ],
            [
             0.1111111111111111,
             "#000012"
            ],
            [
             0.2222222222222222,
             "#000013"
            ],
            [
             0.3333333333333333,
             "#000014"
            ],
            [
             0.4444444444444444,
             "#000015"
            ],
            [
             0.5555555555555556,
             "#000016"
            ],
            [
             0.6666666666666666,
             "#000017"
            ],
            [
             0.7777777777777778,
             "#000018"
            ],
            [
             0.8888888888888888,
             "#000019"
            ],
            [
             1,
             "#000020"
            ]
           ]
          },
          "colorway": [
           "#000001",
           "#000002",
           "#000003",
           "#000004",
           "#000005",
           "#000006",
           "#000007",
           "#000008",
           "#000009",
           "#000010"
          ]
         }
        },
        "xaxis": {
         "anchor": "y",
         "autorange": true,
         "domain": [
          0,
          1
         ],
         "range": [
          -0.5,
          9.5
         ],
         "title": {
          "text": "Aircraft Manufacturer"
         },
         "type": "category"
        },
        "yaxis": {
         "anchor": "x",
         "autorange": true,
         "domain": [
          0,
          1
         ],
         "range": [
          0,
          21147.368421052633
         ],
         "title": {
          "text": "Fatalities"
         },
         "type": "linear"
        }
       }
      },
      "image/png": "[encoded data removed]",
      "text/html": [
       "<div>                            <div id=\"cf2e75a3-6a68-4d4e-b144-0e6e6a6ea207\" class=\"plotly-graph-div\" style=\"height:525px; width:100%;\"></div>            <script type=\"text/javascript\">                require([\"plotly\"], function(Plotly) {                    window.PLOTLYENV=window.PLOTLYENV || {};                                    if (document.getElementById(\"cf2e75a3-6a68-4d4e-b144-0e6e6a6ea207\")) {                    Plotly.newPlot(                        \"cf2e75a3-6a68-4d4e-b144-0e6e6a6ea207\",                        [{\"alignmentgroup\":\"True\",\"hovertemplate\":\"Aircraft Manufacturer=%{x}\\u003cbr\\u003eFatalities (air)=%{y}\\u003cextra\\u003e\\u003c\\u002fextra\\u003e\",\"legendgroup\":\"\",\"marker\":{\"color\":\"#000001\",\"pattern\":{\"shape\":\"\"}},\"name\":\"\",\"offsetgroup\":\"\",\"orientation\":\"v\",\"showlegend\":false,\"textposition\":\"auto\",\"x\":[\"Boeing\",\"Douglas\",\"McDonnell Douglas\",\"Antonov\",\"Tupolev\",\"Ilyushin\",\"Lockheed\",\"Airbus\",\"Fokker\",\"Curtiss\"],\"xaxis\":\"x\",\"y\":[20090,16675,6992,6527,6077,5813,5242,3927,2599,1847],\"yaxis\":\"y\",\"type\":\"bar\"}],                        {\"template\":{\"data\":{\"candlestick\":[{\"decreasing\":{\"line\":{\"color\":\"#000033\"}},\"increasing\":{\"line\":{\"color\":\"#000032\"}},\"type\":\"candlestick\"}],\"contourcarpet\":[{\"colorscale\":[[0.0,\"#000011\"],[0.1111111111111111,\"#000012\"],[0.2222222222222222,\"#000013\"],[0.3333333333333333,\"#000014\"],[0.4444444444444444,\"#000015\"],[0.5555555555555556,\"#000016\"],[0.6666666666666666,\"#000017\"],[0.7777777777777778,\"#000018\"],[0.8888888888888888,\"#000019\"],[1.0,\"#000020\"]],\"type\":\"contourcarpet\"}],\"contour\":[{\"colorscale\":[[0.0,\"#000011\"],[0.1111111111111111,\"#000012\"],[0.2222222222222222,\"#000013\"],[0.3333333333333333,\"#000014\"],[0.4444444444444444,\"#000015\"],[0.5555555555555556,\"#000016\"],[0.6666666666666666,\"#000017\"],[0.7777777777777778,\"#000018\"],[0.8888888888888888,\"#000019\"],[1.0,\"#000020\"]],\"type\":\"contour\"}],\"heatmap\":[{\"colorscale\":[[0.0,\"#000011\"],[0.1111111111111111,\"#000012\"],[0.2222222222222222,\"#000013\"],[0.3333333333333333,\"#000014\"],[0.4444444444444444,\"#000015\"],[0.5555555555555556,\"#000016\"],[0.6666666666666666,\"#000017\"],[0.7777777777777778,\"#000018\"],[0.8888888888888888,\"#000019\"],[1.0,\"#000020\"]],\"type\":\"heatmap\"}],\"histogram2d\":[{\"colorscale\":[[0.0,\"#000011\"],[0.1111111111111111,\"#000012\"],[0.2222222222222222,\"#000013\"],[0.3333333333333333,\"#000014\"],[0.4444444444444444,\"#000015\"],[0.5555555555555556,\"#000016\"],[0.6666666666666666,\"#000017\"],[0.7777777777777778,\"#000018\"],[0.8888888888888888,\"#000019\"],[1.0,\"#000020\"]],\"type\":\"histogram2d\"}],\"icicle\":[{\"textfont\":{\"color\":\"white\"},\"type\":\"icicle\"}],\"sankey\":[{\"textfont\":{\"color\":\"#000036\"},\"type\":\"sankey\"}],\"scatter\":[{\"marker\":{\"line\":{\"width\":0}},\"type\":\"scatter\"}],\"table\":[{\"cells\":{\"fill\":{\"color\":\"#000038\"},\"font\":{\"color\":\"#000037\"},\"line\":{\"color\":\"#000039\"}},\"header\":{\"fill\":{\"color\":\"#000040\"},\"font\":{\"color\":\"#000036\"},\"line\":{\"color\":\"#000039\"}},\"type\":\"table\"}],\"waterfall\":[{\"connector\":{\"line\":{\"color\":\"#000036\",\"width\":2}},\"decreasing\":{\"marker\":{\"color\":\"#000033\"}},\"increasing\":{\"marker\":{\"color\":\"#000032\"}},\"totals\":{\"marker\":{\"color\":\"#000034\"}},\"type\":\"waterfall\"}]},\"layout\":{\"coloraxis\":{\"colorscale\":[[0.0,\"#000011\"],[0.1111111111111111,\"#000012\"],[0.2222222222222222,\"#000013\"],[0.3333333333333333,\"#000014\"],[0.4444444444444444,\"#000015\"],[0.5555555555555556,\"#000016\"],[0.6666666666666666,\"#000017\"],[0.7777777777777778,\"#000018\"],[0.8888888888888888,\"#000019\"],[1.0,\"#000020\"]]},\"colorscale\":{\"diverging\":[[0.0,\"#000021\"],[0.1,\"#000022\"],[0.2,\"#000023\"],[0.3,\"#000024\"],[0.4,\"#000025\"],[0.5,\"#000026\"],[0.6,\"#000027\"],[0.7,\"#000028\"],[0.8,\"#000029\"],[0.9,\"#000030\"],[1.0,\"#000031\"]],\"sequential\":[[0.0,\"#000011\"],[0.1111111111111111,\"#000012\"],[0.2222222222222222,\"#000013\"],[0.3333333333333333,\"#000014\"],[0.4444444444444444,\"#000015\"],[0.5555555555555556,\"#000016\"],[0.6666666666666666,\"#000017\"],[0.7777777777777778,\"#000018\"],[0.8888888888888888,\"#000019\"],[1.0,\"#000020\"]],\"sequentialminus\":[[0.0,\"#000011\"],[0.1111111111111111,\"#000012\"],[0.2222222222222222,\"#000013\"],[0.3333333333333333,\"#000014\"],[0.4444444444444444,\"#000015\"],[0.5555555555555556,\"#000016\"],[0.6666666666666666,\"#000017\"],[0.7777777777777778,\"#000018\"],[0.8888888888888888,\"#000019\"],[1.0,\"#000020\"]]},\"colorway\":[\"#000001\",\"#000002\",\"#000003\",\"#000004\",\"#000005\",\"#000006\",\"#000007\",\"#000008\",\"#000009\",\"#000010\"]}},\"xaxis\":{\"anchor\":\"y\",\"domain\":[0.0,1.0],\"title\":{\"text\":\"Aircraft Manufacturer\"}},\"yaxis\":{\"anchor\":\"x\",\"domain\":[0.0,1.0],\"title\":{\"text\":\"Fatalities\"}},\"legend\":{\"tracegroupgap\":0},\"margin\":{\"t\":60},\"barmode\":\"relative\"},                        {\"responsive\": true}                    ).then(function(){\n",
       "                            \n",
       "var gd = document.getElementById('cf2e75a3-6a68-4d4e-b144-0e6e6a6ea207');\n",
       "var x = new MutationObserver(function (mutations, observer) {{\n",
       "        var display = window.getComputedStyle(gd).display;\n",
       "        if (!display || display === 'none') {{\n",
       "            console.log([gd, 'removed!']);\n",
       "            Plotly.purge(gd);\n",
       "            observer.disconnect();\n",
       "        }}\n",
       "}});\n",
       "\n",
       "// Listen for the removal of the full notebook cells\n",
       "var notebookContainer = gd.closest('#notebook-container');\n",
       "if (notebookContainer) {{\n",
       "    x.observe(notebookContainer, {childList: true});\n",
       "}}\n",
       "\n",
       "// Listen for the clearing of the current output cell\n",
       "var outputEl = gd.closest('.output');\n",
       "if (outputEl) {{\n",
       "    x.observe(outputEl, {childList: true});\n",
       "}}\n",
       "\n",
       "                        })                };                });            </script>        </div>"
      ]
     },
     "metadata": {},
     "output_type": "display_data"
    }
   ],
   "source": [
    "barchart = px.bar(Aircraft_10, x = \"Aircraft Manufacturer\", y = \"Fatalities (air)\")\n",
    "\n",
    "barchart.update_layout(xaxis_title='Aircraft Manufacturer', yaxis_title='Fatalities')\n",
    "    #st.plotly_chart(barchart)\n",
    "\n",
    "barchart.show()"
   ]
  },
  {
   "cell_type": "markdown",
   "id": "a3ca7f11-7430-4e4d-a4c6-25b3266df576",
   "metadata": {},
   "source": [
    "## Q6"
   ]
  },
  {
   "cell_type": "code",
   "execution_count": 433,
   "id": "10cb6847-c392-4863-afc2-9c1749ad4223",
   "metadata": {},
   "outputs": [
    {
     "data": {
      "text/html": [
       "<div>\n",
       "<style scoped>\n",
       "    .dataframe tbody tr th:only-of-type {\n",
       "        vertical-align: middle;\n",
       "    }\n",
       "\n",
       "    .dataframe tbody tr th {\n",
       "        vertical-align: top;\n",
       "    }\n",
       "\n",
       "    .dataframe thead th {\n",
       "        text-align: right;\n",
       "    }\n",
       "</style>\n",
       "<table border=\"1\" class=\"dataframe\">\n",
       "  <thead>\n",
       "    <tr style=\"text-align: right;\">\n",
       "      <th></th>\n",
       "      <th>Aircraft Manufacturer</th>\n",
       "      <th>survival_rate</th>\n",
       "    </tr>\n",
       "  </thead>\n",
       "  <tbody>\n",
       "    <tr>\n",
       "      <th>110</th>\n",
       "      <td>Boeing</td>\n",
       "      <td>12473</td>\n",
       "    </tr>\n",
       "    <tr>\n",
       "      <th>422</th>\n",
       "      <td>McDonnell Douglas</td>\n",
       "      <td>6031</td>\n",
       "    </tr>\n",
       "    <tr>\n",
       "      <th>226</th>\n",
       "      <td>Douglas</td>\n",
       "      <td>4210</td>\n",
       "    </tr>\n",
       "    <tr>\n",
       "      <th>32</th>\n",
       "      <td>Airbus</td>\n",
       "      <td>3411</td>\n",
       "    </tr>\n",
       "    <tr>\n",
       "      <th>551</th>\n",
       "      <td>Tupolev</td>\n",
       "      <td>2276</td>\n",
       "    </tr>\n",
       "  </tbody>\n",
       "</table>\n",
       "</div>"
      ],
      "text/plain": [
       "    Aircraft Manufacturer  survival_rate\n",
       "110                Boeing          12473\n",
       "422     McDonnell Douglas           6031\n",
       "226               Douglas           4210\n",
       "32                 Airbus           3411\n",
       "551               Tupolev           2276"
      ]
     },
     "execution_count": 433,
     "metadata": {},
     "output_type": "execute_result"
    }
   ],
   "source": [
    "# Which aircraft manufacturers have the highest survival rate?\n",
    "\n",
    "Aircraft_survival = df.groupby(['Aircraft Manufacturer'])['survival_rate'].sum().reset_index()\n",
    "\n",
    "Aircraft_sort = Aircraft_survival.sort_values(by = 'survival_rate', ascending =False)\n",
    "\n",
    "Aircraft_sort_5 = Aircraft_sort.head(5)\n",
    "\n",
    "Aircraft_sort_5"
   ]
  },
  {
   "cell_type": "code",
   "execution_count": 435,
   "id": "28b22d33-56bb-4f12-bdb1-4c3b4aa6cf5a",
   "metadata": {},
   "outputs": [
    {
     "data": {
      "application/vnd.plotly.v1+json": {
       "config": {
        "plotlyServerURL": "https://plot.ly"
       },
       "data": [
        {
         "domain": {
          "x": [
           0,
           1
          ],
          "y": [
           0,
           1
          ]
         },
         "hovertemplate": "Aircraft Manufacturer=%{label}<br>survival_rate=%{value}<extra></extra>",
         "labels": [
          "Boeing",
          "McDonnell Douglas",
          "Douglas",
          "Airbus",
          "Tupolev"
         ],
         "legendgroup": "",
         "name": "",
         "showlegend": true,
         "type": "pie",
         "values": [
          12473,
          6031,
          4210,
          3411,
          2276
         ]
        }
       ],
       "layout": {
        "autosize": true,
        "legend": {
         "tracegroupgap": 0
        },
        "template": {
         "data": {
          "candlestick": [
           {
            "decreasing": {
             "line": {
              "color": "#000033"
             }
            },
            "increasing": {
             "line": {
              "color": "#000032"
             }
            },
            "type": "candlestick"
           }
          ],
          "contour": [
           {
            "colorscale": [
             [
              0,
              "#000011"
             ],
             [
              0.1111111111111111,
              "#000012"
             ],
             [
              0.2222222222222222,
              "#000013"
             ],
             [
              0.3333333333333333,
              "#000014"
             ],
             [
              0.4444444444444444,
              "#000015"
             ],
             [
              0.5555555555555556,
              "#000016"
             ],
             [
              0.6666666666666666,
              "#000017"
             ],
             [
              0.7777777777777778,
              "#000018"
             ],
             [
              0.8888888888888888,
              "#000019"
             ],
             [
              1,
              "#000020"
             ]
            ],
            "type": "contour"
           }
          ],
          "contourcarpet": [
           {
            "colorscale": [
             [
              0,
              "#000011"
             ],
             [
              0.1111111111111111,
              "#000012"
             ],
             [
              0.2222222222222222,
              "#000013"
             ],
             [
              0.3333333333333333,
              "#000014"
             ],
             [
              0.4444444444444444,
              "#000015"
             ],
             [
              0.5555555555555556,
              "#000016"
             ],
             [
              0.6666666666666666,
              "#000017"
             ],
             [
              0.7777777777777778,
              "#000018"
             ],
             [
              0.8888888888888888,
              "#000019"
             ],
             [
              1,
              "#000020"
             ]
            ],
            "type": "contourcarpet"
           }
          ],
          "heatmap": [
           {
            "colorscale": [
             [
              0,
              "#000011"
             ],
             [
              0.1111111111111111,
              "#000012"
             ],
             [
              0.2222222222222222,
              "#000013"
             ],
             [
              0.3333333333333333,
              "#000014"
             ],
             [
              0.4444444444444444,
              "#000015"
             ],
             [
              0.5555555555555556,
              "#000016"
             ],
             [
              0.6666666666666666,
              "#000017"
             ],
             [
              0.7777777777777778,
              "#000018"
             ],
             [
              0.8888888888888888,
              "#000019"
             ],
             [
              1,
              "#000020"
             ]
            ],
            "type": "heatmap"
           }
          ],
          "histogram2d": [
           {
            "colorscale": [
             [
              0,
              "#000011"
             ],
             [
              0.1111111111111111,
              "#000012"
             ],
             [
              0.2222222222222222,
              "#000013"
             ],
             [
              0.3333333333333333,
              "#000014"
             ],
             [
              0.4444444444444444,
              "#000015"
             ],
             [
              0.5555555555555556,
              "#000016"
             ],
             [
              0.6666666666666666,
              "#000017"
             ],
             [
              0.7777777777777778,
              "#000018"
             ],
             [
              0.8888888888888888,
              "#000019"
             ],
             [
              1,
              "#000020"
             ]
            ],
            "type": "histogram2d"
           }
          ],
          "icicle": [
           {
            "textfont": {
             "color": "white"
            },
            "type": "icicle"
           }
          ],
          "sankey": [
           {
            "textfont": {
             "color": "#000036"
            },
            "type": "sankey"
           }
          ],
          "scatter": [
           {
            "marker": {
             "line": {
              "width": 0
             }
            },
            "type": "scatter"
           }
          ],
          "table": [
           {
            "cells": {
             "fill": {
              "color": "#000038"
             },
             "font": {
              "color": "#000037"
             },
             "line": {
              "color": "#000039"
             }
            },
            "header": {
             "fill": {
              "color": "#000040"
             },
             "font": {
              "color": "#000036"
             },
             "line": {
              "color": "#000039"
             }
            },
            "type": "table"
           }
          ],
          "waterfall": [
           {
            "connector": {
             "line": {
              "color": "#000036",
              "width": 2
             }
            },
            "decreasing": {
             "marker": {
              "color": "#000033"
             }
            },
            "increasing": {
             "marker": {
              "color": "#000032"
             }
            },
            "totals": {
             "marker": {
              "color": "#000034"
             }
            },
            "type": "waterfall"
           }
          ]
         },
         "layout": {
          "coloraxis": {
           "colorscale": [
            [
             0,
             "#000011"
            ],
            [
             0.1111111111111111,
             "#000012"
            ],
            [
             0.2222222222222222,
             "#000013"
            ],
            [
             0.3333333333333333,
             "#000014"
            ],
            [
             0.4444444444444444,
             "#000015"
            ],
            [
             0.5555555555555556,
             "#000016"
            ],
            [
             0.6666666666666666,
             "#000017"
            ],
            [
             0.7777777777777778,
             "#000018"
            ],
            [
             0.8888888888888888,
             "#000019"
            ],
            [
             1,
             "#000020"
            ]
           ]
          },
          "colorscale": {
           "diverging": [
            [
             0,
             "#000021"
            ],
            [
             0.1,
             "#000022"
            ],
            [
             0.2,
             "#000023"
            ],
            [
             0.3,
             "#000024"
            ],
            [
             0.4,
             "#000025"
            ],
            [
             0.5,
             "#000026"
            ],
            [
             0.6,
             "#000027"
            ],
            [
             0.7,
             "#000028"
            ],
            [
             0.8,
             "#000029"
            ],
            [
             0.9,
             "#000030"
            ],
            [
             1,
             "#000031"
            ]
           ],
           "sequential": [
            [
             0,
             "#000011"
            ],
            [
             0.1111111111111111,
             "#000012"
            ],
            [
             0.2222222222222222,
             "#000013"
            ],
            [
             0.3333333333333333,
             "#000014"
            ],
            [
             0.4444444444444444,
             "#000015"
            ],
            [
             0.5555555555555556,
             "#000016"
            ],
            [
             0.6666666666666666,
             "#000017"
            ],
            [
             0.7777777777777778,
             "#000018"
            ],
            [
             0.8888888888888888,
             "#000019"
            ],
            [
             1,
             "#000020"
            ]
           ],
           "sequentialminus": [
            [
             0,
             "#000011"
            ],
            [
             0.1111111111111111,
             "#000012"
            ],
            [
             0.2222222222222222,
             "#000013"
            ],
            [
             0.3333333333333333,
             "#000014"
            ],
            [
             0.4444444444444444,
             "#000015"
            ],
            [
             0.5555555555555556,
             "#000016"
            ],
            [
             0.6666666666666666,
             "#000017"
            ],
            [
             0.7777777777777778,
             "#000018"
            ],
            [
             0.8888888888888888,
             "#000019"
            ],
            [
             1,
             "#000020"
            ]
           ]
          },
          "colorway": [
           "#000001",
           "#000002",
           "#000003",
           "#000004",
           "#000005",
           "#000006",
           "#000007",
           "#000008",
           "#000009",
           "#000010"
          ]
         }
        },
        "title": {
         "text": "Aircraft Manufactures Vs. Survival Rate"
        }
       }
      },
      "image/png": "[encoded data removed]",
      "text/html": [
       "<div>                            <div id=\"cd765de8-41b7-4b5b-9bc8-671d2481f289\" class=\"plotly-graph-div\" style=\"height:525px; width:100%;\"></div>            <script type=\"text/javascript\">                require([\"plotly\"], function(Plotly) {                    window.PLOTLYENV=window.PLOTLYENV || {};                                    if (document.getElementById(\"cd765de8-41b7-4b5b-9bc8-671d2481f289\")) {                    Plotly.newPlot(                        \"cd765de8-41b7-4b5b-9bc8-671d2481f289\",                        [{\"domain\":{\"x\":[0.0,1.0],\"y\":[0.0,1.0]},\"hovertemplate\":\"Aircraft Manufacturer=%{label}\\u003cbr\\u003esurvival_rate=%{value}\\u003cextra\\u003e\\u003c\\u002fextra\\u003e\",\"labels\":[\"Boeing\",\"McDonnell Douglas\",\"Douglas\",\"Airbus\",\"Tupolev\"],\"legendgroup\":\"\",\"name\":\"\",\"showlegend\":true,\"values\":[12473,6031,4210,3411,2276],\"type\":\"pie\"}],                        {\"template\":{\"data\":{\"candlestick\":[{\"decreasing\":{\"line\":{\"color\":\"#000033\"}},\"increasing\":{\"line\":{\"color\":\"#000032\"}},\"type\":\"candlestick\"}],\"contourcarpet\":[{\"colorscale\":[[0.0,\"#000011\"],[0.1111111111111111,\"#000012\"],[0.2222222222222222,\"#000013\"],[0.3333333333333333,\"#000014\"],[0.4444444444444444,\"#000015\"],[0.5555555555555556,\"#000016\"],[0.6666666666666666,\"#000017\"],[0.7777777777777778,\"#000018\"],[0.8888888888888888,\"#000019\"],[1.0,\"#000020\"]],\"type\":\"contourcarpet\"}],\"contour\":[{\"colorscale\":[[0.0,\"#000011\"],[0.1111111111111111,\"#000012\"],[0.2222222222222222,\"#000013\"],[0.3333333333333333,\"#000014\"],[0.4444444444444444,\"#000015\"],[0.5555555555555556,\"#000016\"],[0.6666666666666666,\"#000017\"],[0.7777777777777778,\"#000018\"],[0.8888888888888888,\"#000019\"],[1.0,\"#000020\"]],\"type\":\"contour\"}],\"heatmap\":[{\"colorscale\":[[0.0,\"#000011\"],[0.1111111111111111,\"#000012\"],[0.2222222222222222,\"#000013\"],[0.3333333333333333,\"#000014\"],[0.4444444444444444,\"#000015\"],[0.5555555555555556,\"#000016\"],[0.6666666666666666,\"#000017\"],[0.7777777777777778,\"#000018\"],[0.8888888888888888,\"#000019\"],[1.0,\"#000020\"]],\"type\":\"heatmap\"}],\"histogram2d\":[{\"colorscale\":[[0.0,\"#000011\"],[0.1111111111111111,\"#000012\"],[0.2222222222222222,\"#000013\"],[0.3333333333333333,\"#000014\"],[0.4444444444444444,\"#000015\"],[0.5555555555555556,\"#000016\"],[0.6666666666666666,\"#000017\"],[0.7777777777777778,\"#000018\"],[0.8888888888888888,\"#000019\"],[1.0,\"#000020\"]],\"type\":\"histogram2d\"}],\"icicle\":[{\"textfont\":{\"color\":\"white\"},\"type\":\"icicle\"}],\"sankey\":[{\"textfont\":{\"color\":\"#000036\"},\"type\":\"sankey\"}],\"scatter\":[{\"marker\":{\"line\":{\"width\":0}},\"type\":\"scatter\"}],\"table\":[{\"cells\":{\"fill\":{\"color\":\"#000038\"},\"font\":{\"color\":\"#000037\"},\"line\":{\"color\":\"#000039\"}},\"header\":{\"fill\":{\"color\":\"#000040\"},\"font\":{\"color\":\"#000036\"},\"line\":{\"color\":\"#000039\"}},\"type\":\"table\"}],\"waterfall\":[{\"connector\":{\"line\":{\"color\":\"#000036\",\"width\":2}},\"decreasing\":{\"marker\":{\"color\":\"#000033\"}},\"increasing\":{\"marker\":{\"color\":\"#000032\"}},\"totals\":{\"marker\":{\"color\":\"#000034\"}},\"type\":\"waterfall\"}]},\"layout\":{\"coloraxis\":{\"colorscale\":[[0.0,\"#000011\"],[0.1111111111111111,\"#000012\"],[0.2222222222222222,\"#000013\"],[0.3333333333333333,\"#000014\"],[0.4444444444444444,\"#000015\"],[0.5555555555555556,\"#000016\"],[0.6666666666666666,\"#000017\"],[0.7777777777777778,\"#000018\"],[0.8888888888888888,\"#000019\"],[1.0,\"#000020\"]]},\"colorscale\":{\"diverging\":[[0.0,\"#000021\"],[0.1,\"#000022\"],[0.2,\"#000023\"],[0.3,\"#000024\"],[0.4,\"#000025\"],[0.5,\"#000026\"],[0.6,\"#000027\"],[0.7,\"#000028\"],[0.8,\"#000029\"],[0.9,\"#000030\"],[1.0,\"#000031\"]],\"sequential\":[[0.0,\"#000011\"],[0.1111111111111111,\"#000012\"],[0.2222222222222222,\"#000013\"],[0.3333333333333333,\"#000014\"],[0.4444444444444444,\"#000015\"],[0.5555555555555556,\"#000016\"],[0.6666666666666666,\"#000017\"],[0.7777777777777778,\"#000018\"],[0.8888888888888888,\"#000019\"],[1.0,\"#000020\"]],\"sequentialminus\":[[0.0,\"#000011\"],[0.1111111111111111,\"#000012\"],[0.2222222222222222,\"#000013\"],[0.3333333333333333,\"#000014\"],[0.4444444444444444,\"#000015\"],[0.5555555555555556,\"#000016\"],[0.6666666666666666,\"#000017\"],[0.7777777777777778,\"#000018\"],[0.8888888888888888,\"#000019\"],[1.0,\"#000020\"]]},\"colorway\":[\"#000001\",\"#000002\",\"#000003\",\"#000004\",\"#000005\",\"#000006\",\"#000007\",\"#000008\",\"#000009\",\"#000010\"]}},\"legend\":{\"tracegroupgap\":0},\"title\":{\"text\":\"Aircraft Manufactures Vs. Survival Rate\"}},                        {\"responsive\": true}                    ).then(function(){\n",
       "                            \n",
       "var gd = document.getElementById('cd765de8-41b7-4b5b-9bc8-671d2481f289');\n",
       "var x = new MutationObserver(function (mutations, observer) {{\n",
       "        var display = window.getComputedStyle(gd).display;\n",
       "        if (!display || display === 'none') {{\n",
       "            console.log([gd, 'removed!']);\n",
       "            Plotly.purge(gd);\n",
       "            observer.disconnect();\n",
       "        }}\n",
       "}});\n",
       "\n",
       "// Listen for the removal of the full notebook cells\n",
       "var notebookContainer = gd.closest('#notebook-container');\n",
       "if (notebookContainer) {{\n",
       "    x.observe(notebookContainer, {childList: true});\n",
       "}}\n",
       "\n",
       "// Listen for the clearing of the current output cell\n",
       "var outputEl = gd.closest('.output');\n",
       "if (outputEl) {{\n",
       "    x.observe(outputEl, {childList: true});\n",
       "}}\n",
       "\n",
       "                        })                };                });            </script>        </div>"
      ]
     },
     "metadata": {},
     "output_type": "display_data"
    }
   ],
   "source": [
    "pie_chart = px.pie(Aircraft_sort_5, values ='survival_rate', names = 'Aircraft Manufacturer', title = 'Aircraft Manufactures Vs. Survival Rate')\n",
    "\n",
    "#st.plotly_chart(pie_chart)\n",
    "\n",
    "pie_chart.show()"
   ]
  },
  {
   "cell_type": "markdown",
   "id": "b5fec5de-e0b1-45f0-b779-1239ab05a9b8",
   "metadata": {},
   "source": [
    "## Q7"
   ]
  },
  {
   "cell_type": "code",
   "execution_count": 446,
   "id": "e2c258cf-a21e-4556-9c13-0fe1f5d04966",
   "metadata": {},
   "outputs": [
    {
     "data": {
      "text/html": [
       "<div>\n",
       "<style scoped>\n",
       "    .dataframe tbody tr th:only-of-type {\n",
       "        vertical-align: middle;\n",
       "    }\n",
       "\n",
       "    .dataframe tbody tr th {\n",
       "        vertical-align: top;\n",
       "    }\n",
       "\n",
       "    .dataframe thead th {\n",
       "        text-align: right;\n",
       "    }\n",
       "</style>\n",
       "<table border=\"1\" class=\"dataframe\">\n",
       "  <thead>\n",
       "    <tr style=\"text-align: right;\">\n",
       "      <th></th>\n",
       "      <th>Fatalities (air)</th>\n",
       "      <th>survival_rate</th>\n",
       "      <th>Aboard</th>\n",
       "    </tr>\n",
       "  </thead>\n",
       "  <tbody>\n",
       "    <tr>\n",
       "      <th>562</th>\n",
       "      <td>18</td>\n",
       "      <td>0</td>\n",
       "      <td>1350</td>\n",
       "    </tr>\n",
       "    <tr>\n",
       "      <th>585</th>\n",
       "      <td>20</td>\n",
       "      <td>0</td>\n",
       "      <td>1280</td>\n",
       "    </tr>\n",
       "    <tr>\n",
       "      <th>602</th>\n",
       "      <td>21</td>\n",
       "      <td>0</td>\n",
       "      <td>1239</td>\n",
       "    </tr>\n",
       "    <tr>\n",
       "      <th>405</th>\n",
       "      <td>10</td>\n",
       "      <td>0</td>\n",
       "      <td>1200</td>\n",
       "    </tr>\n",
       "    <tr>\n",
       "      <th>636</th>\n",
       "      <td>23</td>\n",
       "      <td>0</td>\n",
       "      <td>1173</td>\n",
       "    </tr>\n",
       "    <tr>\n",
       "      <th>...</th>\n",
       "      <td>...</td>\n",
       "      <td>...</td>\n",
       "      <td>...</td>\n",
       "    </tr>\n",
       "    <tr>\n",
       "      <th>55</th>\n",
       "      <td>1</td>\n",
       "      <td>-1</td>\n",
       "      <td>0</td>\n",
       "    </tr>\n",
       "    <tr>\n",
       "      <th>404</th>\n",
       "      <td>10</td>\n",
       "      <td>-10</td>\n",
       "      <td>0</td>\n",
       "    </tr>\n",
       "    <tr>\n",
       "      <th>382</th>\n",
       "      <td>9</td>\n",
       "      <td>-9</td>\n",
       "      <td>0</td>\n",
       "    </tr>\n",
       "    <tr>\n",
       "      <th>304</th>\n",
       "      <td>6</td>\n",
       "      <td>-6</td>\n",
       "      <td>0</td>\n",
       "    </tr>\n",
       "    <tr>\n",
       "      <th>0</th>\n",
       "      <td>0</td>\n",
       "      <td>0</td>\n",
       "      <td>0</td>\n",
       "    </tr>\n",
       "  </tbody>\n",
       "</table>\n",
       "<p>1181 rows × 3 columns</p>\n",
       "</div>"
      ],
      "text/plain": [
       "     Fatalities (air)  survival_rate  Aboard\n",
       "562                18              0    1350\n",
       "585                20              0    1280\n",
       "602                21              0    1239\n",
       "405                10              0    1200\n",
       "636                23              0    1173\n",
       "..                ...            ...     ...\n",
       "55                  1             -1       0\n",
       "404                10            -10       0\n",
       "382                 9             -9       0\n",
       "304                 6             -6       0\n",
       "0                   0              0       0\n",
       "\n",
       "[1181 rows x 3 columns]"
      ]
     },
     "execution_count": 446,
     "metadata": {},
     "output_type": "execute_result"
    }
   ],
   "source": [
    "#Does the size of the aircraft (total aboard) correlate with survival rates or total fatalities?\n",
    "\n",
    "\n",
    "size_aircraft = df.groupby(['Fatalities (air)','survival_rate'])['Aboard'].sum().reset_index()\n",
    "\n",
    "size_aircraft_sort = size_aircraft.sort_values(by = 'Aboard', ascending =False)\n",
    "\n",
    "size_aircraft_sort"
   ]
  },
  {
   "cell_type": "code",
   "execution_count": 449,
   "id": "34e1527b-dc9a-4222-90be-9e12f8705168",
   "metadata": {},
   "outputs": [
    {
     "data": {
      "application/vnd.plotly.v1+json": {
       "config": {
        "plotlyServerURL": "https://plot.ly"
       },
       "data": [
        {
         "fillpattern": {
          "shape": ""
         },
         "hovertemplate": "variable=Fatalities (air)<br>Aboard=%{x}<br>value=%{y}<extra></extra>",
         "legendgroup": "Fatalities (air)",
         "line": {
          "color": "#000001"
         },
         "marker": {
          "symbol": "circle"
         },
         "mode": "lines",
         "name": "Fatalities (air)",
         "orientation": "v",
         "showlegend": true,
         "stackgroup": "1",
         "type": "scatter",
         "x": [
          1350,
          1280,
          1239,
          1200,
          1173,
          1157,
          1128,
          1122,
          1056,
          1026,
          1022,
          1003,
          992,
          986,
          957,
          950,
          945,
          930,
          925,
          910,
          876,
          870,
          851,
          840,
          840,
          837,
          800,
          784,
          763,
          748,
          730,
          728,
          720,
          702,
          702,
          696,
          689,
          672,
          656,
          644,
          612,
          608,
          598,
          596,
          588,
          572,
          567,
          560,
          528,
          524,
          517,
          514,
          504,
          495,
          488,
          488,
          470,
          468,
          456,
          450,
          440,
          432,
          429,
          428,
          425,
          416,
          415,
          413,
          412,
          408,
          408,
          402,
          400,
          396,
          394,
          393,
          385,
          385,
          384,
          384,
          384,
          380,
          378,
          378,
          372,
          368,
          365,
          360,
          356,
          352,
          350,
          349,
          348,
          346,
          340,
          336,
          334,
          333,
          330,
          329,
          327,
          324,
          320,
          316,
          315,
          314,
          314,
          312,
          310,
          309,
          307,
          304,
          301,
          301,
          300,
          300,
          298,
          298,
          298,
          296,
          293,
          292,
          291,
          290,
          290,
          290,
          288,
          287,
          285,
          284,
          282,
          282,
          275,
          275,
          274,
          274,
          272,
          271,
          271,
          269,
          266,
          264,
          262,
          261,
          260,
          259,
          258,
          257,
          256,
          256,
          254,
          248,
          246,
          245,
          239,
          239,
          236,
          234,
          234,
          232,
          231,
          230,
          230,
          229,
          229,
          229,
          228,
          228,
          226,
          226,
          226,
          225,
          224,
          223,
          222,
          220,
          218,
          217,
          216,
          216,
          214,
          213,
          212,
          208,
          204,
          203,
          202,
          200,
          200,
          200,
          199,
          198,
          196,
          196,
          195,
          192,
          192,
          191,
          190,
          189,
          189,
          188,
          188,
          188,
          187,
          187,
          183,
          182,
          181,
          180,
          179,
          179,
          179,
          178,
          178,
          177,
          177,
          177,
          176,
          175,
          174,
          174,
          174,
          172,
          172,
          172,
          171,
          170,
          169,
          169,
          168,
          168,
          167,
          166,
          166,
          166,
          165,
          165,
          164,
          164,
          164,
          164,
          163,
          163,
          163,
          162,
          162,
          161,
          161,
          160,
          160,
          159,
          159,
          158,
          158,
          158,
          157,
          156,
          156,
          155,
          155,
          154,
          154,
          153,
          153,
          153,
          153,
          153,
          153,
          153,
          152,
          152,
          152,
          150,
          150,
          148,
          147,
          146,
          146,
          146,
          146,
          145,
          145,
          144,
          144,
          144,
          143,
          142,
          142,
          140,
          140,
          140,
          138,
          138,
          137,
          137,
          135,
          135,
          135,
          135,
          134,
          134,
          134,
          134,
          133,
          133,
          132,
          132,
          132,
          132,
          131,
          131,
          131,
          130,
          130,
          130,
          130,
          129,
          129,
          129,
          129,
          129,
          129,
          128,
          128,
          128,
          128,
          127,
          127,
          127,
          127,
          127,
          126,
          126,
          126,
          126,
          124,
          124,
          124,
          124,
          123,
          122,
          121,
          121,
          121,
          120,
          120,
          119,
          119,
          119,
          119,
          118,
          118,
          118,
          117,
          117,
          117,
          116,
          116,
          116,
          116,
          115,
          115,
          115,
          114,
          114,
          113,
          113,
          113,
          113,
          112,
          112,
          112,
          111,
          111,
          111,
          110,
          110,
          110,
          110,
          109,
          108,
          108,
          108,
          108,
          107,
          107,
          107,
          106,
          106,
          106,
          106,
          106,
          106,
          106,
          105,
          105,
          105,
          105,
          104,
          104,
          104,
          104,
          103,
          103,
          103,
          103,
          103,
          103,
          102,
          102,
          102,
          101,
          101,
          101,
          101,
          100,
          100,
          100,
          100,
          100,
          100,
          100,
          100,
          99,
          99,
          99,
          98,
          98,
          98,
          98,
          98,
          97,
          97,
          97,
          97,
          96,
          96,
          96,
          96,
          96,
          96,
          96,
          96,
          96,
          96,
          95,
          95,
          95,
          94,
          93,
          93,
          93,
          92,
          92,
          91,
          91,
          91,
          90,
          90,
          90,
          90,
          90,
          90,
          90,
          90,
          90,
          90,
          90,
          90,
          90,
          90,
          89,
          89,
          89,
          88,
          88,
          88,
          88,
          88,
          88,
          88,
          88,
          88,
          87,
          87,
          87,
          87,
          87,
          86,
          86,
          86,
          85,
          85,
          85,
          84,
          84,
          84,
          84,
          84,
          84,
          84,
          84,
          84,
          84,
          84,
          84,
          84,
          84,
          83,
          83,
          83,
          83,
          82,
          82,
          82,
          82,
          82,
          82,
          82,
          81,
          80,
          80,
          80,
          80,
          80,
          80,
          80,
          80,
          80,
          80,
          80,
          80,
          80,
          80,
          80,
          79,
          79,
          79,
          79,
          78,
          78,
          78,
          78,
          78,
          78,
          77,
          77,
          77,
          77,
          77,
          77,
          76,
          76,
          76,
          76,
          76,
          76,
          76,
          76,
          76,
          76,
          76,
          76,
          75,
          75,
          75,
          75,
          75,
          75,
          74,
          74,
          74,
          74,
          73,
          73,
          73,
          73,
          73,
          73,
          72,
          72,
          72,
          72,
          72,
          72,
          72,
          72,
          72,
          72,
          72,
          72,
          72,
          72,
          72,
          72,
          71,
          71,
          71,
          71,
          70,
          70,
          70,
          70,
          70,
          70,
          70,
          70,
          70,
          69,
          69,
          69,
          69,
          69,
          69,
          69,
          69,
          69,
          68,
          68,
          68,
          68,
          68,
          68,
          68,
          67,
          67,
          66,
          66,
          66,
          66,
          66,
          66,
          66,
          66,
          65,
          65,
          65,
          65,
          64,
          64,
          64,
          64,
          64,
          64,
          64,
          63,
          63,
          63,
          63,
          63,
          63,
          63,
          63,
          63,
          63,
          62,
          62,
          62,
          62,
          62,
          62,
          62,
          62,
          61,
          61,
          61,
          61,
          61,
          60,
          60,
          60,
          60,
          60,
          60,
          60,
          60,
          60,
          60,
          60,
          60,
          60,
          60,
          60,
          60,
          59,
          59,
          58,
          58,
          58,
          58,
          58,
          58,
          58,
          58,
          58,
          58,
          58,
          57,
          57,
          57,
          57,
          57,
          57,
          57,
          57,
          56,
          56,
          56,
          56,
          56,
          56,
          56,
          56,
          56,
          56,
          56,
          56,
          55,
          55,
          55,
          55,
          55,
          55,
          55,
          54,
          54,
          54,
          54,
          54,
          54,
          54,
          54,
          54,
          54,
          54,
          54,
          53,
          53,
          53,
          53,
          53,
          53,
          53,
          53,
          52,
          52,
          52,
          52,
          52,
          52,
          52,
          52,
          52,
          52,
          52,
          52,
          52,
          52,
          51,
          51,
          51,
          51,
          51,
          51,
          51,
          51,
          51,
          51,
          51,
          51,
          51,
          50,
          50,
          50,
          50,
          50,
          50,
          50,
          50,
          50,
          50,
          50,
          50,
          50,
          50,
          49,
          49,
          49,
          49,
          49,
          49,
          49,
          49,
          48,
          48,
          48,
          48,
          48,
          48,
          48,
          48,
          48,
          48,
          48,
          48,
          48,
          48,
          48,
          48,
          48,
          47,
          47,
          47,
          47,
          47,
          47,
          47,
          47,
          47,
          47,
          46,
          46,
          46,
          46,
          46,
          46,
          46,
          46,
          46,
          46,
          46,
          46,
          46,
          46,
          46,
          46,
          45,
          45,
          45,
          45,
          45,
          45,
          45,
          45,
          45,
          45,
          45,
          45,
          45,
          45,
          45,
          45,
          45,
          45,
          44,
          44,
          44,
          44,
          44,
          44,
          44,
          44,
          44,
          44,
          44,
          44,
          44,
          44,
          44,
          44,
          43,
          43,
          43,
          43,
          43,
          43,
          43,
          43,
          42,
          42,
          42,
          42,
          42,
          42,
          42,
          42,
          42,
          42,
          42,
          42,
          42,
          42,
          42,
          42,
          42,
          42,
          41,
          41,
          41,
          41,
          41,
          41,
          41,
          41,
          40,
          40,
          40,
          40,
          40,
          40,
          40,
          40,
          40,
          40,
          40,
          40,
          40,
          40,
          40,
          40,
          40,
          40,
          40,
          39,
          39,
          39,
          39,
          39,
          39,
          39,
          39,
          39,
          39,
          39,
          39,
          39,
          39,
          39,
          38,
          38,
          38,
          38,
          38,
          38,
          38,
          38,
          38,
          38,
          38,
          38,
          37,
          37,
          37,
          37,
          37,
          37,
          37,
          37,
          37,
          37,
          37,
          36,
          36,
          36,
          36,
          36,
          36,
          36,
          36,
          36,
          36,
          36,
          36,
          36,
          36,
          36,
          35,
          35,
          35,
          35,
          35,
          35,
          35,
          35,
          35,
          34,
          34,
          34,
          34,
          34,
          34,
          34,
          34,
          34,
          34,
          34,
          34,
          34,
          34,
          34,
          34,
          33,
          33,
          33,
          33,
          33,
          33,
          32,
          32,
          32,
          32,
          32,
          32,
          32,
          32,
          32,
          32,
          32,
          32,
          32,
          32,
          32,
          31,
          31,
          31,
          31,
          31,
          31,
          31,
          30,
          30,
          30,
          30,
          30,
          30,
          30,
          30,
          30,
          30,
          30,
          30,
          30,
          30,
          29,
          29,
          29,
          28,
          28,
          28,
          28,
          28,
          28,
          28,
          28,
          28,
          28,
          28,
          28,
          28,
          27,
          27,
          27,
          27,
          27,
          27,
          27,
          26,
          26,
          26,
          26,
          26,
          26,
          26,
          26,
          26,
          26,
          25,
          25,
          25,
          25,
          25,
          25,
          25,
          25,
          25,
          25,
          24,
          24,
          24,
          24,
          24,
          24,
          24,
          24,
          24,
          24,
          23,
          23,
          23,
          23,
          23,
          23,
          23,
          23,
          23,
          22,
          22,
          22,
          22,
          22,
          22,
          22,
          22,
          22,
          22,
          22,
          22,
          22,
          22,
          21,
          21,
          21,
          21,
          21,
          20,
          20,
          20,
          20,
          20,
          20,
          20,
          20,
          19,
          19,
          19,
          19,
          19,
          19,
          19,
          18,
          18,
          18,
          18,
          18,
          17,
          17,
          17,
          16,
          16,
          16,
          15,
          15,
          15,
          15,
          14,
          14,
          14,
          14,
          13,
          13,
          12,
          12,
          12,
          12,
          12,
          12,
          11,
          8,
          6,
          6,
          6,
          5,
          0,
          0,
          0,
          0,
          0,
          0,
          0,
          0
         ],
         "xaxis": "x",
         "y": [
          18,
          20,
          21,
          10,
          23,
          13,
          24,
          22,
          44,
          19,
          14,
          17,
          16,
          29,
          11,
          50,
          27,
          31,
          25,
          26,
          12,
          30,
          37,
          15,
          40,
          9,
          32,
          112,
          7,
          34,
          5,
          28,
          45,
          3,
          39,
          6,
          53,
          8,
          4,
          583,
          36,
          38,
          46,
          1,
          49,
          52,
          81,
          35,
          132,
          520,
          1,
          257,
          63,
          33,
          122,
          61,
          47,
          117,
          57,
          90,
          88,
          54,
          143,
          107,
          85,
          104,
          83,
          59,
          2,
          68,
          102,
          67,
          80,
          66,
          50,
          1,
          5,
          55,
          16,
          48,
          128,
          95,
          189,
          42,
          62,
          92,
          73,
          60,
          9,
          176,
          70,
          349,
          87,
          346,
          56,
          84,
          167,
          111,
          155,
          329,
          109,
          108,
          160,
          79,
          3,
          16,
          157,
          156,
          155,
          0,
          3,
          0,
          43,
          301,
          75,
          0,
          112,
          1,
          298,
          148,
          1,
          0,
          2,
          145,
          290,
          58,
          72,
          41,
          1,
          2,
          141,
          94,
          3,
          275,
          137,
          0,
          3,
          271,
          264,
          269,
          133,
          2,
          183,
          261,
          260,
          259,
          7,
          0,
          256,
          1,
          228,
          124,
          82,
          1,
          239,
          3,
          118,
          78,
          234,
          116,
          77,
          230,
          115,
          1,
          229,
          47,
          228,
          114,
          15,
          113,
          128,
          225,
          224,
          223,
          74,
          110,
          0,
          217,
          1,
          0,
          32,
          213,
          2,
          1,
          51,
          125,
          176,
          2,
          200,
          129,
          75,
          8,
          98,
          196,
          65,
          181,
          64,
          191,
          20,
          1,
          10,
          188,
          3,
          45,
          187,
          176,
          183,
          68,
          13,
          180,
          169,
          174,
          83,
          178,
          89,
          30,
          3,
          0,
          103,
          127,
          174,
          3,
          24,
          154,
          0,
          86,
          171,
          170,
          3,
          2,
          1,
          168,
          99,
          166,
          128,
          159,
          0,
          59,
          163,
          131,
          160,
          70,
          1,
          25,
          134,
          26,
          162,
          140,
          154,
          2,
          0,
          159,
          22,
          76,
          73,
          158,
          59,
          14,
          0,
          154,
          0,
          21,
          154,
          152,
          153,
          1,
          16,
          0,
          50,
          16,
          152,
          76,
          0,
          150,
          22,
          29,
          121,
          92,
          127,
          102,
          146,
          11,
          108,
          141,
          1,
          144,
          11,
          0,
          71,
          22,
          34,
          2,
          0,
          69,
          9,
          55,
          14,
          93,
          1,
          2,
          4,
          9,
          134,
          123,
          10,
          1,
          1,
          130,
          1,
          108,
          131,
          0,
          2,
          25,
          130,
          90,
          126,
          124,
          42,
          0,
          41,
          129,
          108,
          56,
          4,
          123,
          126,
          0,
          121,
          127,
          1,
          5,
          126,
          97,
          47,
          108,
          113,
          3,
          30,
          24,
          123,
          17,
          22,
          4,
          121,
          120,
          75,
          58,
          32,
          8,
          119,
          2,
          27,
          55,
          98,
          99,
          12,
          55,
          43,
          2,
          0,
          0,
          87,
          77,
          1,
          1,
          108,
          20,
          55,
          112,
          2,
          4,
          13,
          1,
          110,
          17,
          10,
          68,
          20,
          108,
          2,
          13,
          14,
          0,
          1,
          2,
          0,
          43,
          63,
          1,
          4,
          11,
          92,
          106,
          40,
          15,
          96,
          77,
          100,
          103,
          35,
          23,
          51,
          102,
          0,
          103,
          60,
          63,
          64,
          5,
          16,
          12,
          101,
          97,
          34,
          21,
          66,
          1,
          100,
          1,
          19,
          99,
          2,
          8,
          2,
          99,
          97,
          12,
          40,
          1,
          83,
          77,
          1,
          35,
          97,
          83,
          50,
          44,
          87,
          1,
          15,
          96,
          15,
          8,
          31,
          4,
          1,
          13,
          1,
          80,
          80,
          93,
          70,
          91,
          54,
          70,
          43,
          91,
          7,
          4,
          1,
          12,
          76,
          17,
          13,
          1,
          68,
          5,
          5,
          27,
          51,
          3,
          7,
          0,
          47,
          75,
          84,
          1,
          72,
          2,
          45,
          37,
          0,
          15,
          14,
          82,
          0,
          28,
          1,
          85,
          3,
          82,
          62,
          2,
          1,
          20,
          19,
          18,
          1,
          5,
          72,
          3,
          78,
          3,
          7,
          2,
          83,
          79,
          34,
          2,
          77,
          78,
          80,
          38,
          72,
          1,
          54,
          61,
          37,
          28,
          53,
          58,
          3,
          75,
          60,
          2,
          9,
          32,
          2,
          14,
          7,
          24,
          16,
          5,
          5,
          3,
          78,
          46,
          34,
          74,
          22,
          5,
          24,
          36,
          72,
          41,
          10,
          7,
          76,
          71,
          74,
          6,
          2,
          18,
          38,
          5,
          28,
          74,
          57,
          62,
          1,
          73,
          17,
          0,
          27,
          23,
          20,
          13,
          1,
          11,
          28,
          35,
          30,
          33,
          50,
          65,
          5,
          3,
          28,
          66,
          64,
          62,
          4,
          13,
          14,
          10,
          22,
          20,
          53,
          3,
          2,
          59,
          1,
          23,
          8,
          1,
          27,
          1,
          70,
          51,
          12,
          50,
          1,
          19,
          6,
          11,
          7,
          7,
          3,
          37,
          1,
          67,
          12,
          24,
          2,
          65,
          25,
          52,
          58,
          2,
          60,
          19,
          27,
          14,
          15,
          52,
          47,
          46,
          32,
          0,
          32,
          21,
          65,
          4,
          1,
          54,
          8,
          28,
          48,
          2,
          32,
          61,
          45,
          52,
          1,
          5,
          23,
          1,
          6,
          2,
          5,
          34,
          29,
          22,
          2,
          21,
          1,
          48,
          0,
          4,
          23,
          14,
          14,
          58,
          25,
          3,
          2,
          43,
          1,
          15,
          2,
          1,
          14,
          17,
          7,
          26,
          47,
          2,
          14,
          28,
          1,
          6,
          25,
          12,
          1,
          17,
          1,
          11,
          27,
          10,
          1,
          48,
          8,
          2,
          7,
          25,
          8,
          3,
          13,
          7,
          27,
          6,
          15,
          36,
          37,
          6,
          22,
          3,
          38,
          28,
          35,
          5,
          56,
          46,
          24,
          24,
          27,
          30,
          2,
          4,
          22,
          48,
          47,
          1,
          2,
          1,
          12,
          11,
          48,
          36,
          23,
          49,
          22,
          2,
          2,
          5,
          2,
          15,
          4,
          29,
          44,
          34,
          2,
          50,
          37,
          1,
          34,
          2,
          20,
          33,
          13,
          7,
          6,
          25,
          46,
          28,
          47,
          24,
          0,
          17,
          20,
          27,
          4,
          1,
          25,
          2,
          23,
          9,
          6,
          37,
          44,
          3,
          2,
          49,
          37,
          2,
          19,
          1,
          30,
          9,
          45,
          21,
          24,
          1,
          23,
          11,
          47,
          43,
          46,
          44,
          8,
          42,
          13,
          30,
          1,
          42,
          43,
          17,
          3,
          3,
          44,
          3,
          39,
          14,
          22,
          7,
          2,
          20,
          3,
          16,
          35,
          4,
          17,
          43,
          3,
          13,
          20,
          15,
          1,
          46,
          38,
          15,
          44,
          3,
          1,
          45,
          28,
          4,
          43,
          23,
          25,
          41,
          37,
          19,
          16,
          0,
          4,
          32,
          15,
          19,
          3,
          2,
          16,
          5,
          2,
          34,
          2,
          0,
          6,
          44,
          5,
          4,
          40,
          29,
          41,
          17,
          30,
          23,
          43,
          4,
          6,
          38,
          16,
          9,
          34,
          17,
          27,
          40,
          1,
          6,
          42,
          1,
          22,
          7,
          36,
          19,
          31,
          14,
          33,
          39,
          3,
          13,
          17,
          9,
          32,
          2,
          10,
          38,
          1,
          1,
          20,
          23,
          15,
          3,
          13,
          35,
          4,
          2,
          8,
          34,
          25,
          22,
          17,
          40,
          38,
          38,
          25,
          1,
          2,
          39,
          9,
          35,
          29,
          20,
          11,
          33,
          5,
          27,
          17,
          26,
          34,
          6,
          4,
          8,
          1,
          18,
          16,
          38,
          11,
          3,
          37,
          5,
          10,
          9,
          25,
          6,
          35,
          19,
          0,
          7,
          29,
          23,
          12,
          30,
          4,
          16,
          1,
          11,
          26,
          21,
          37,
          0,
          7,
          23,
          17,
          21,
          24,
          31,
          11,
          28,
          29,
          35,
          6,
          4,
          14,
          15,
          8,
          7,
          30,
          22,
          5,
          0,
          20,
          15,
          28,
          10,
          7,
          30,
          5,
          21,
          14,
          22,
          2,
          24,
          13,
          27,
          25,
          8,
          11,
          13,
          28,
          13,
          0,
          1,
          3,
          5,
          5,
          4,
          3,
          29,
          26,
          32,
          17,
          5,
          23,
          3,
          24,
          3,
          10,
          14,
          11,
          8,
          13,
          24,
          12,
          20,
          10,
          28,
          3,
          26,
          22,
          30,
          0,
          11,
          28,
          17,
          13,
          21,
          27,
          26,
          19,
          4,
          13,
          20,
          4,
          3,
          2,
          8,
          23,
          21,
          27,
          6,
          7,
          10,
          23,
          26,
          22,
          8,
          23,
          14,
          26,
          1,
          6,
          7,
          4,
          11,
          18,
          10,
          8,
          21,
          2,
          4,
          16,
          8,
          24,
          18,
          19,
          6,
          2,
          21,
          0,
          7,
          8,
          10,
          9,
          1,
          15,
          0,
          16,
          12,
          10,
          7,
          4,
          9,
          5,
          3,
          22,
          11,
          5,
          18,
          6,
          12,
          11,
          9,
          16,
          7,
          3,
          18,
          14,
          13,
          6,
          20,
          21,
          22,
          17,
          12,
          9,
          1,
          8,
          10,
          11,
          12,
          6,
          0,
          5,
          19,
          2,
          3,
          0,
          18,
          16,
          6,
          12,
          10,
          8,
          9,
          13,
          16,
          18,
          9,
          2,
          7,
          6,
          10,
          5,
          4,
          12,
          8,
          3,
          9,
          9,
          11,
          3,
          12,
          3,
          2,
          8,
          12,
          2,
          6,
          12,
          7,
          6,
          9,
          0,
          0,
          10,
          5,
          4,
          8,
          5,
          0,
          0,
          9,
          5,
          1,
          0,
          7,
          0,
          0,
          0,
          0,
          0,
          3,
          16,
          26,
          1,
          10,
          9,
          6,
          0
         ],
         "yaxis": "y"
        },
        {
         "fillpattern": {
          "shape": ""
         },
         "hovertemplate": "variable=survival_rate<br>Aboard=%{x}<br>value=%{y}<extra></extra>",
         "legendgroup": "survival_rate",
         "line": {
          "color": "#000002"
         },
         "marker": {
          "symbol": "circle"
         },
         "mode": "lines",
         "name": "survival_rate",
         "orientation": "v",
         "showlegend": true,
         "stackgroup": "1",
         "type": "scatter",
         "x": [
          1350,
          1280,
          1239,
          1200,
          1173,
          1157,
          1128,
          1122,
          1056,
          1026,
          1022,
          1003,
          992,
          986,
          957,
          950,
          945,
          930,
          925,
          910,
          876,
          870,
          851,
          840,
          840,
          837,
          800,
          784,
          763,
          748,
          730,
          728,
          720,
          702,
          702,
          696,
          689,
          672,
          656,
          644,
          612,
          608,
          598,
          596,
          588,
          572,
          567,
          560,
          528,
          524,
          517,
          514,
          504,
          495,
          488,
          488,
          470,
          468,
          456,
          450,
          440,
          432,
          429,
          428,
          425,
          416,
          415,
          413,
          412,
          408,
          408,
          402,
          400,
          396,
          394,
          393,
          385,
          385,
          384,
          384,
          384,
          380,
          378,
          378,
          372,
          368,
          365,
          360,
          356,
          352,
          350,
          349,
          348,
          346,
          340,
          336,
          334,
          333,
          330,
          329,
          327,
          324,
          320,
          316,
          315,
          314,
          314,
          312,
          310,
          309,
          307,
          304,
          301,
          301,
          300,
          300,
          298,
          298,
          298,
          296,
          293,
          292,
          291,
          290,
          290,
          290,
          288,
          287,
          285,
          284,
          282,
          282,
          275,
          275,
          274,
          274,
          272,
          271,
          271,
          269,
          266,
          264,
          262,
          261,
          260,
          259,
          258,
          257,
          256,
          256,
          254,
          248,
          246,
          245,
          239,
          239,
          236,
          234,
          234,
          232,
          231,
          230,
          230,
          229,
          229,
          229,
          228,
          228,
          226,
          226,
          226,
          225,
          224,
          223,
          222,
          220,
          218,
          217,
          216,
          216,
          214,
          213,
          212,
          208,
          204,
          203,
          202,
          200,
          200,
          200,
          199,
          198,
          196,
          196,
          195,
          192,
          192,
          191,
          190,
          189,
          189,
          188,
          188,
          188,
          187,
          187,
          183,
          182,
          181,
          180,
          179,
          179,
          179,
          178,
          178,
          177,
          177,
          177,
          176,
          175,
          174,
          174,
          174,
          172,
          172,
          172,
          171,
          170,
          169,
          169,
          168,
          168,
          167,
          166,
          166,
          166,
          165,
          165,
          164,
          164,
          164,
          164,
          163,
          163,
          163,
          162,
          162,
          161,
          161,
          160,
          160,
          159,
          159,
          158,
          158,
          158,
          157,
          156,
          156,
          155,
          155,
          154,
          154,
          153,
          153,
          153,
          153,
          153,
          153,
          153,
          152,
          152,
          152,
          150,
          150,
          148,
          147,
          146,
          146,
          146,
          146,
          145,
          145,
          144,
          144,
          144,
          143,
          142,
          142,
          140,
          140,
          140,
          138,
          138,
          137,
          137,
          135,
          135,
          135,
          135,
          134,
          134,
          134,
          134,
          133,
          133,
          132,
          132,
          132,
          132,
          131,
          131,
          131,
          130,
          130,
          130,
          130,
          129,
          129,
          129,
          129,
          129,
          129,
          128,
          128,
          128,
          128,
          127,
          127,
          127,
          127,
          127,
          126,
          126,
          126,
          126,
          124,
          124,
          124,
          124,
          123,
          122,
          121,
          121,
          121,
          120,
          120,
          119,
          119,
          119,
          119,
          118,
          118,
          118,
          117,
          117,
          117,
          116,
          116,
          116,
          116,
          115,
          115,
          115,
          114,
          114,
          113,
          113,
          113,
          113,
          112,
          112,
          112,
          111,
          111,
          111,
          110,
          110,
          110,
          110,
          109,
          108,
          108,
          108,
          108,
          107,
          107,
          107,
          106,
          106,
          106,
          106,
          106,
          106,
          106,
          105,
          105,
          105,
          105,
          104,
          104,
          104,
          104,
          103,
          103,
          103,
          103,
          103,
          103,
          102,
          102,
          102,
          101,
          101,
          101,
          101,
          100,
          100,
          100,
          100,
          100,
          100,
          100,
          100,
          99,
          99,
          99,
          98,
          98,
          98,
          98,
          98,
          97,
          97,
          97,
          97,
          96,
          96,
          96,
          96,
          96,
          96,
          96,
          96,
          96,
          96,
          95,
          95,
          95,
          94,
          93,
          93,
          93,
          92,
          92,
          91,
          91,
          91,
          90,
          90,
          90,
          90,
          90,
          90,
          90,
          90,
          90,
          90,
          90,
          90,
          90,
          90,
          89,
          89,
          89,
          88,
          88,
          88,
          88,
          88,
          88,
          88,
          88,
          88,
          87,
          87,
          87,
          87,
          87,
          86,
          86,
          86,
          85,
          85,
          85,
          84,
          84,
          84,
          84,
          84,
          84,
          84,
          84,
          84,
          84,
          84,
          84,
          84,
          84,
          83,
          83,
          83,
          83,
          82,
          82,
          82,
          82,
          82,
          82,
          82,
          81,
          80,
          80,
          80,
          80,
          80,
          80,
          80,
          80,
          80,
          80,
          80,
          80,
          80,
          80,
          80,
          79,
          79,
          79,
          79,
          78,
          78,
          78,
          78,
          78,
          78,
          77,
          77,
          77,
          77,
          77,
          77,
          76,
          76,
          76,
          76,
          76,
          76,
          76,
          76,
          76,
          76,
          76,
          76,
          75,
          75,
          75,
          75,
          75,
          75,
          74,
          74,
          74,
          74,
          73,
          73,
          73,
          73,
          73,
          73,
          72,
          72,
          72,
          72,
          72,
          72,
          72,
          72,
          72,
          72,
          72,
          72,
          72,
          72,
          72,
          72,
          71,
          71,
          71,
          71,
          70,
          70,
          70,
          70,
          70,
          70,
          70,
          70,
          70,
          69,
          69,
          69,
          69,
          69,
          69,
          69,
          69,
          69,
          68,
          68,
          68,
          68,
          68,
          68,
          68,
          67,
          67,
          66,
          66,
          66,
          66,
          66,
          66,
          66,
          66,
          65,
          65,
          65,
          65,
          64,
          64,
          64,
          64,
          64,
          64,
          64,
          63,
          63,
          63,
          63,
          63,
          63,
          63,
          63,
          63,
          63,
          62,
          62,
          62,
          62,
          62,
          62,
          62,
          62,
          61,
          61,
          61,
          61,
          61,
          60,
          60,
          60,
          60,
          60,
          60,
          60,
          60,
          60,
          60,
          60,
          60,
          60,
          60,
          60,
          60,
          59,
          59,
          58,
          58,
          58,
          58,
          58,
          58,
          58,
          58,
          58,
          58,
          58,
          57,
          57,
          57,
          57,
          57,
          57,
          57,
          57,
          56,
          56,
          56,
          56,
          56,
          56,
          56,
          56,
          56,
          56,
          56,
          56,
          55,
          55,
          55,
          55,
          55,
          55,
          55,
          54,
          54,
          54,
          54,
          54,
          54,
          54,
          54,
          54,
          54,
          54,
          54,
          53,
          53,
          53,
          53,
          53,
          53,
          53,
          53,
          52,
          52,
          52,
          52,
          52,
          52,
          52,
          52,
          52,
          52,
          52,
          52,
          52,
          52,
          51,
          51,
          51,
          51,
          51,
          51,
          51,
          51,
          51,
          51,
          51,
          51,
          51,
          50,
          50,
          50,
          50,
          50,
          50,
          50,
          50,
          50,
          50,
          50,
          50,
          50,
          50,
          49,
          49,
          49,
          49,
          49,
          49,
          49,
          49,
          48,
          48,
          48,
          48,
          48,
          48,
          48,
          48,
          48,
          48,
          48,
          48,
          48,
          48,
          48,
          48,
          48,
          47,
          47,
          47,
          47,
          47,
          47,
          47,
          47,
          47,
          47,
          46,
          46,
          46,
          46,
          46,
          46,
          46,
          46,
          46,
          46,
          46,
          46,
          46,
          46,
          46,
          46,
          45,
          45,
          45,
          45,
          45,
          45,
          45,
          45,
          45,
          45,
          45,
          45,
          45,
          45,
          45,
          45,
          45,
          45,
          44,
          44,
          44,
          44,
          44,
          44,
          44,
          44,
          44,
          44,
          44,
          44,
          44,
          44,
          44,
          44,
          43,
          43,
          43,
          43,
          43,
          43,
          43,
          43,
          42,
          42,
          42,
          42,
          42,
          42,
          42,
          42,
          42,
          42,
          42,
          42,
          42,
          42,
          42,
          42,
          42,
          42,
          41,
          41,
          41,
          41,
          41,
          41,
          41,
          41,
          40,
          40,
          40,
          40,
          40,
          40,
          40,
          40,
          40,
          40,
          40,
          40,
          40,
          40,
          40,
          40,
          40,
          40,
          40,
          39,
          39,
          39,
          39,
          39,
          39,
          39,
          39,
          39,
          39,
          39,
          39,
          39,
          39,
          39,
          38,
          38,
          38,
          38,
          38,
          38,
          38,
          38,
          38,
          38,
          38,
          38,
          37,
          37,
          37,
          37,
          37,
          37,
          37,
          37,
          37,
          37,
          37,
          36,
          36,
          36,
          36,
          36,
          36,
          36,
          36,
          36,
          36,
          36,
          36,
          36,
          36,
          36,
          35,
          35,
          35,
          35,
          35,
          35,
          35,
          35,
          35,
          34,
          34,
          34,
          34,
          34,
          34,
          34,
          34,
          34,
          34,
          34,
          34,
          34,
          34,
          34,
          34,
          33,
          33,
          33,
          33,
          33,
          33,
          32,
          32,
          32,
          32,
          32,
          32,
          32,
          32,
          32,
          32,
          32,
          32,
          32,
          32,
          32,
          31,
          31,
          31,
          31,
          31,
          31,
          31,
          30,
          30,
          30,
          30,
          30,
          30,
          30,
          30,
          30,
          30,
          30,
          30,
          30,
          30,
          29,
          29,
          29,
          28,
          28,
          28,
          28,
          28,
          28,
          28,
          28,
          28,
          28,
          28,
          28,
          28,
          27,
          27,
          27,
          27,
          27,
          27,
          27,
          26,
          26,
          26,
          26,
          26,
          26,
          26,
          26,
          26,
          26,
          25,
          25,
          25,
          25,
          25,
          25,
          25,
          25,
          25,
          25,
          24,
          24,
          24,
          24,
          24,
          24,
          24,
          24,
          24,
          24,
          23,
          23,
          23,
          23,
          23,
          23,
          23,
          23,
          23,
          22,
          22,
          22,
          22,
          22,
          22,
          22,
          22,
          22,
          22,
          22,
          22,
          22,
          22,
          21,
          21,
          21,
          21,
          21,
          20,
          20,
          20,
          20,
          20,
          20,
          20,
          20,
          19,
          19,
          19,
          19,
          19,
          19,
          19,
          18,
          18,
          18,
          18,
          18,
          17,
          17,
          17,
          16,
          16,
          16,
          15,
          15,
          15,
          15,
          14,
          14,
          14,
          14,
          13,
          13,
          12,
          12,
          12,
          12,
          12,
          12,
          11,
          8,
          6,
          6,
          6,
          5,
          0,
          0,
          0,
          0,
          0,
          0,
          0,
          0
         ],
         "xaxis": "x",
         "y": [
          0,
          0,
          0,
          0,
          0,
          0,
          0,
          0,
          0,
          0,
          0,
          0,
          0,
          0,
          0,
          0,
          0,
          0,
          0,
          0,
          0,
          0,
          0,
          0,
          0,
          0,
          0,
          0,
          0,
          0,
          0,
          0,
          0,
          0,
          0,
          0,
          0,
          0,
          0,
          61,
          0,
          0,
          0,
          297,
          0,
          0,
          0,
          0,
          0,
          4,
          516,
          0,
          0,
          0,
          0,
          0,
          0,
          0,
          0,
          0,
          0,
          0,
          0,
          0,
          0,
          0,
          0,
          0,
          0,
          0,
          0,
          0,
          0,
          0,
          344,
          392,
          380,
          0,
          368,
          0,
          0,
          0,
          0,
          0,
          0,
          0,
          0,
          0,
          347,
          0,
          0,
          0,
          0,
          0,
          284,
          0,
          0,
          0,
          175,
          0,
          0,
          0,
          0,
          0,
          312,
          298,
          0,
          0,
          0,
          309,
          304,
          304,
          0,
          0,
          0,
          300,
          186,
          148,
          0,
          0,
          292,
          292,
          289,
          0,
          0,
          0,
          0,
          0,
          284,
          140,
          0,
          0,
          272,
          0,
          0,
          274,
          133,
          0,
          7,
          0,
          0,
          262,
          79,
          0,
          0,
          0,
          251,
          257,
          0,
          127,
          26,
          0,
          0,
          244,
          0,
          236,
          0,
          0,
          0,
          0,
          0,
          0,
          0,
          228,
          0,
          182,
          0,
          0,
          211,
          0,
          98,
          0,
          0,
          0,
          0,
          0,
          218,
          0,
          71,
          108,
          182,
          0,
          210,
          51,
          0,
          78,
          26,
          198,
          0,
          71,
          124,
          190,
          0,
          0,
          0,
          11,
          0,
          0,
          170,
          188,
          179,
          0,
          91,
          2,
          0,
          11,
          0,
          114,
          168,
          0,
          10,
          5,
          96,
          0,
          0,
          147,
          174,
          177,
          73,
          48,
          0,
          171,
          150,
          18,
          172,
          0,
          0,
          0,
          166,
          167,
          167,
          0,
          68,
          0,
          38,
          7,
          165,
          106,
          1,
          33,
          4,
          12,
          162,
          138,
          29,
          1,
          0,
          21,
          7,
          78,
          160,
          0,
          137,
          3,
          85,
          0,
          98,
          142,
          78,
          1,
          155,
          1,
          0,
          1,
          0,
          152,
          137,
          153,
          1,
          1,
          0,
          0,
          152,
          0,
          128,
          119,
          26,
          54,
          19,
          44,
          0,
          134,
          37,
          3,
          15,
          0,
          132,
          142,
          0,
          118,
          1,
          68,
          69,
          0,
          128,
          82,
          1,
          42,
          26,
          133,
          130,
          125,
          0,
          11,
          123,
          0,
          131,
          2,
          32,
          24,
          0,
          131,
          129,
          1,
          0,
          40,
          4,
          5,
          1,
          129,
          2,
          0,
          21,
          8,
          124,
          5,
          2,
          127,
          6,
          0,
          126,
          122,
          0,
          29,
          79,
          18,
          11,
          121,
          1,
          100,
          0,
          105,
          99,
          117,
          0,
          0,
          45,
          61,
          87,
          111,
          0,
          116,
          91,
          63,
          19,
          18,
          1,
          3,
          15,
          114,
          116,
          115,
          28,
          38,
          113,
          56,
          5,
          93,
          58,
          1,
          110,
          108,
          1,
          36,
          1,
          94,
          1,
          42,
          2,
          2,
          107,
          41,
          94,
          54,
          17,
          105,
          107,
          64,
          43,
          52,
          102,
          95,
          14,
          0,
          13,
          90,
          9,
          28,
          5,
          1,
          69,
          3,
          1,
          1,
          103,
          0,
          43,
          40,
          39,
          1,
          86,
          90,
          0,
          4,
          67,
          80,
          34,
          19,
          0,
          24,
          1,
          1,
          98,
          92,
          31,
          0,
          2,
          86,
          58,
          97,
          15,
          21,
          96,
          62,
          0,
          14,
          46,
          52,
          9,
          95,
          1,
          0,
          81,
          4,
          1,
          12,
          94,
          82,
          18,
          14,
          13,
          0,
          23,
          1,
          38,
          21,
          48,
          0,
          3,
          6,
          9,
          3,
          14,
          1,
          2,
          29,
          22,
          13,
          25,
          18,
          39,
          7,
          82,
          89,
          42,
          13,
          4,
          43,
          16,
          42,
          43,
          51,
          88,
          7,
          73,
          5,
          87,
          1,
          28,
          1,
          83,
          4,
          23,
          83,
          84,
          1,
          2,
          3,
          83,
          2,
          12,
          11,
          6,
          4,
          35,
          19,
          1,
          5,
          8,
          81,
          6,
          5,
          3,
          44,
          10,
          81,
          28,
          21,
          4,
          54,
          28,
          22,
          2,
          5,
          20,
          14,
          7,
          8,
          8,
          2,
          73,
          56,
          64,
          35,
          15,
          77,
          1,
          33,
          45,
          5,
          4,
          73,
          54,
          3,
          6,
          37,
          67,
          70,
          1,
          6,
          3,
          1,
          17,
          1,
          38,
          33,
          48,
          2,
          19,
          14,
          1,
          3,
          2,
          76,
          48,
          2,
          5,
          62,
          14,
          4,
          46,
          39,
          44,
          4,
          23,
          8,
          68,
          70,
          45,
          7,
          8,
          10,
          2,
          5,
          22,
          2,
          2,
          52,
          19,
          1,
          1,
          13,
          23,
          1,
          1,
          35,
          44,
          70,
          1,
          20,
          2,
          20,
          34,
          16,
          4,
          3,
          63,
          28,
          67,
          32,
          68,
          2,
          57,
          45,
          21,
          4,
          44,
          17,
          10,
          2,
          8,
          15,
          7,
          3,
          2,
          15,
          20,
          20,
          1,
          66,
          34,
          45,
          1,
          7,
          5,
          11,
          57,
          37,
          17,
          30,
          32,
          3,
          19,
          12,
          63,
          11,
          40,
          20,
          57,
          5,
          16,
          29,
          34,
          41,
          61,
          42,
          61,
          14,
          31,
          27,
          8,
          48,
          17,
          4,
          36,
          58,
          59,
          18,
          60,
          5,
          10,
          2,
          16,
          3,
          5,
          4,
          13,
          58,
          6,
          2,
          11,
          6,
          5,
          8,
          59,
          42,
          58,
          18,
          2,
          19,
          57,
          10,
          21,
          27,
          22,
          4,
          50,
          55,
          6,
          50,
          30,
          51,
          4,
          21,
          20,
          13,
          6,
          25,
          18,
          28,
          21,
          3,
          0,
          10,
          4,
          32,
          1,
          26,
          9,
          51,
          33,
          7,
          8,
          54,
          53,
          8,
          42,
          43,
          6,
          18,
          4,
          5,
          5,
          4,
          52,
          22,
          16,
          38,
          49,
          24,
          9,
          19,
          51,
          3,
          16,
          12,
          18,
          11,
          6,
          19,
          13,
          45,
          20,
          27,
          6,
          24,
          5,
          2,
          52,
          34,
          31,
          24,
          47,
          16,
          26,
          49,
          28,
          8,
          11,
          14,
          7,
          48,
          48,
          1,
          13,
          23,
          31,
          4,
          20,
          41,
          5,
          4,
          1,
          49,
          27,
          14,
          2,
          6,
          3,
          5,
          41,
          7,
          36,
          19,
          7,
          6,
          5,
          7,
          9,
          13,
          4,
          5,
          9,
          10,
          26,
          1,
          22,
          4,
          45,
          32,
          13,
          43,
          30,
          4,
          44,
          34,
          27,
          32,
          46,
          1,
          9,
          8,
          2,
          20,
          22,
          1,
          18,
          42,
          3,
          23,
          21,
          5,
          9,
          4,
          7,
          46,
          19,
          13,
          30,
          26,
          12,
          13,
          29,
          4,
          3,
          11,
          7,
          45,
          39,
          1,
          40,
          1,
          5,
          16,
          4,
          27,
          14,
          21,
          1,
          40,
          16,
          6,
          6,
          2,
          10,
          5,
          17,
          4,
          10,
          38,
          2,
          42,
          21,
          36,
          7,
          24,
          12,
          29,
          10,
          3,
          3,
          29,
          4,
          5,
          10,
          12,
          32,
          4,
          13,
          6,
          22,
          19,
          6,
          18,
          8,
          7,
          38,
          39,
          33,
          7,
          16,
          19,
          24,
          1,
          3,
          2,
          15,
          39,
          38,
          1,
          31,
          5,
          11,
          20,
          29,
          7,
          5,
          13,
          23,
          14,
          6,
          2,
          4,
          12,
          38,
          21,
          23,
          1,
          2,
          10,
          2,
          34,
          3,
          4,
          14,
          33,
          4,
          20,
          39,
          12,
          9,
          15,
          26,
          8,
          34,
          3,
          37,
          27,
          12,
          17,
          1,
          37,
          30,
          14,
          20,
          16,
          13,
          6,
          26,
          9,
          8,
          2,
          3,
          14,
          4,
          3,
          10,
          29,
          6,
          14,
          31,
          18,
          16,
          21,
          8,
          8,
          2,
          5,
          30,
          14,
          21,
          13,
          33,
          11,
          22,
          8,
          9,
          26,
          23,
          21,
          6,
          4,
          34,
          33,
          31,
          29,
          12,
          13,
          14,
          5,
          8,
          2,
          16,
          6,
          10,
          8,
          9,
          30,
          6,
          18,
          5,
          8,
          3,
          8,
          20,
          12,
          22,
          4,
          29,
          6,
          10,
          2,
          32,
          20,
          3,
          14,
          18,
          10,
          4,
          5,
          11,
          26,
          17,
          10,
          11,
          27,
          28,
          2,
          7,
          9,
          3,
          24,
          23,
          5,
          6,
          3,
          7,
          20,
          5,
          14,
          2,
          27,
          8,
          21,
          3,
          17,
          10,
          18,
          6,
          7,
          25,
          5,
          11,
          19,
          3,
          9,
          8,
          7,
          24,
          5,
          26,
          6,
          18,
          16,
          17,
          25,
          11,
          25,
          9,
          13,
          15,
          18,
          21,
          16,
          20,
          22,
          3,
          1,
          19,
          6,
          18,
          12,
          13,
          15,
          8,
          17,
          21,
          5,
          9,
          10,
          17,
          3,
          2,
          1,
          6,
          11,
          13,
          21,
          3,
          12,
          11,
          10,
          5,
          11,
          17,
          3,
          20,
          19,
          22,
          4,
          5,
          15,
          9,
          11,
          13,
          1,
          7,
          4,
          2,
          11,
          18,
          13,
          14,
          9,
          14,
          15,
          7,
          11,
          16,
          10,
          9,
          7,
          15,
          6,
          6,
          15,
          9,
          5,
          6,
          10,
          4,
          8,
          9,
          6,
          15,
          7,
          4,
          9,
          10,
          5,
          8,
          4,
          6,
          3,
          7,
          3,
          12,
          4,
          8,
          1,
          2,
          3,
          5,
          -3,
          -16,
          -26,
          -1,
          -10,
          -9,
          -6,
          0
         ],
         "yaxis": "y"
        }
       ],
       "layout": {
        "autosize": true,
        "legend": {
         "title": {
          "text": "variable"
         },
         "tracegroupgap": 0
        },
        "template": {
         "data": {
          "candlestick": [
           {
            "decreasing": {
             "line": {
              "color": "#000033"
             }
            },
            "increasing": {
             "line": {
              "color": "#000032"
             }
            },
            "type": "candlestick"
           }
          ],
          "contour": [
           {
            "colorscale": [
             [
              0,
              "#000011"
             ],
             [
              0.1111111111111111,
              "#000012"
             ],
             [
              0.2222222222222222,
              "#000013"
             ],
             [
              0.3333333333333333,
              "#000014"
             ],
             [
              0.4444444444444444,
              "#000015"
             ],
             [
              0.5555555555555556,
              "#000016"
             ],
             [
              0.6666666666666666,
              "#000017"
             ],
             [
              0.7777777777777778,
              "#000018"
             ],
             [
              0.8888888888888888,
              "#000019"
             ],
             [
              1,
              "#000020"
             ]
            ],
            "type": "contour"
           }
          ],
          "contourcarpet": [
           {
            "colorscale": [
             [
              0,
              "#000011"
             ],
             [
              0.1111111111111111,
              "#000012"
             ],
             [
              0.2222222222222222,
              "#000013"
             ],
             [
              0.3333333333333333,
              "#000014"
             ],
             [
              0.4444444444444444,
              "#000015"
             ],
             [
              0.5555555555555556,
              "#000016"
             ],
             [
              0.6666666666666666,
              "#000017"
             ],
             [
              0.7777777777777778,
              "#000018"
             ],
             [
              0.8888888888888888,
              "#000019"
             ],
             [
              1,
              "#000020"
             ]
            ],
            "type": "contourcarpet"
           }
          ],
          "heatmap": [
           {
            "colorscale": [
             [
              0,
              "#000011"
             ],
             [
              0.1111111111111111,
              "#000012"
             ],
             [
              0.2222222222222222,
              "#000013"
             ],
             [
              0.3333333333333333,
              "#000014"
             ],
             [
              0.4444444444444444,
              "#000015"
             ],
             [
              0.5555555555555556,
              "#000016"
             ],
             [
              0.6666666666666666,
              "#000017"
             ],
             [
              0.7777777777777778,
              "#000018"
             ],
             [
              0.8888888888888888,
              "#000019"
             ],
             [
              1,
              "#000020"
             ]
            ],
            "type": "heatmap"
           }
          ],
          "histogram2d": [
           {
            "colorscale": [
             [
              0,
              "#000011"
             ],
             [
              0.1111111111111111,
              "#000012"
             ],
             [
              0.2222222222222222,
              "#000013"
             ],
             [
              0.3333333333333333,
              "#000014"
             ],
             [
              0.4444444444444444,
              "#000015"
             ],
             [
              0.5555555555555556,
              "#000016"
             ],
             [
              0.6666666666666666,
              "#000017"
             ],
             [
              0.7777777777777778,
              "#000018"
             ],
             [
              0.8888888888888888,
              "#000019"
             ],
             [
              1,
              "#000020"
             ]
            ],
            "type": "histogram2d"
           }
          ],
          "icicle": [
           {
            "textfont": {
             "color": "white"
            },
            "type": "icicle"
           }
          ],
          "sankey": [
           {
            "textfont": {
             "color": "#000036"
            },
            "type": "sankey"
           }
          ],
          "scatter": [
           {
            "marker": {
             "line": {
              "width": 0
             }
            },
            "type": "scatter"
           }
          ],
          "table": [
           {
            "cells": {
             "fill": {
              "color": "#000038"
             },
             "font": {
              "color": "#000037"
             },
             "line": {
              "color": "#000039"
             }
            },
            "header": {
             "fill": {
              "color": "#000040"
             },
             "font": {
              "color": "#000036"
             },
             "line": {
              "color": "#000039"
             }
            },
            "type": "table"
           }
          ],
          "waterfall": [
           {
            "connector": {
             "line": {
              "color": "#000036",
              "width": 2
             }
            },
            "decreasing": {
             "marker": {
              "color": "#000033"
             }
            },
            "increasing": {
             "marker": {
              "color": "#000032"
             }
            },
            "totals": {
             "marker": {
              "color": "#000034"
             }
            },
            "type": "waterfall"
           }
          ]
         },
         "layout": {
          "coloraxis": {
           "colorscale": [
            [
             0,
             "#000011"
            ],
            [
             0.1111111111111111,
             "#000012"
            ],
            [
             0.2222222222222222,
             "#000013"
            ],
            [
             0.3333333333333333,
             "#000014"
            ],
            [
             0.4444444444444444,
             "#000015"
            ],
            [
             0.5555555555555556,
             "#000016"
            ],
            [
             0.6666666666666666,
             "#000017"
            ],
            [
             0.7777777777777778,
             "#000018"
            ],
            [
             0.8888888888888888,
             "#000019"
            ],
            [
             1,
             "#000020"
            ]
           ]
          },
          "colorscale": {
           "diverging": [
            [
             0,
             "#000021"
            ],
            [
             0.1,
             "#000022"
            ],
            [
             0.2,
             "#000023"
            ],
            [
             0.3,
             "#000024"
            ],
            [
             0.4,
             "#000025"
            ],
            [
             0.5,
             "#000026"
            ],
            [
             0.6,
             "#000027"
            ],
            [
             0.7,
             "#000028"
            ],
            [
             0.8,
             "#000029"
            ],
            [
             0.9,
             "#000030"
            ],
            [
             1,
             "#000031"
            ]
           ],
           "sequential": [
            [
             0,
             "#000011"
            ],
            [
             0.1111111111111111,
             "#000012"
            ],
            [
             0.2222222222222222,
             "#000013"
            ],
            [
             0.3333333333333333,
             "#000014"
            ],
            [
             0.4444444444444444,
             "#000015"
            ],
            [
             0.5555555555555556,
             "#000016"
            ],
            [
             0.6666666666666666,
             "#000017"
            ],
            [
             0.7777777777777778,
             "#000018"
            ],
            [
             0.8888888888888888,
             "#000019"
            ],
            [
             1,
             "#000020"
            ]
           ],
           "sequentialminus": [
            [
             0,
             "#000011"
            ],
            [
             0.1111111111111111,
             "#000012"
            ],
            [
             0.2222222222222222,
             "#000013"
            ],
            [
             0.3333333333333333,
             "#000014"
            ],
            [
             0.4444444444444444,
             "#000015"
            ],
            [
             0.5555555555555556,
             "#000016"
            ],
            [
             0.6666666666666666,
             "#000017"
            ],
            [
             0.7777777777777778,
             "#000018"
            ],
            [
             0.8888888888888888,
             "#000019"
            ],
            [
             1,
             "#000020"
            ]
           ]
          },
          "colorway": [
           "#000001",
           "#000002",
           "#000003",
           "#000004",
           "#000005",
           "#000006",
           "#000007",
           "#000008",
           "#000009",
           "#000010"
          ]
         }
        },
        "title": {
         "text": "Correlation of Sum of Abord Vs. survival rates and total fatalities "
        },
        "xaxis": {
         "anchor": "y",
         "autorange": true,
         "domain": [
          0,
          1
         ],
         "range": [
          0,
          1350
         ],
         "title": {
          "text": "Aboard"
         },
         "type": "linear"
        },
        "yaxis": {
         "anchor": "x",
         "autorange": true,
         "domain": [
          0,
          1
         ],
         "range": [
          0,
          677.8947368421052
         ],
         "title": {
          "text": "value"
         },
         "type": "linear"
        }
       }
      },
      "image/png": "[encoded data removed]",
      "text/html": [
       "<div>                            <div id=\"84ab5ed9-4603-4552-bbc2-3c165e7ef073\" class=\"plotly-graph-div\" style=\"height:525px; width:100%;\"></div>            <script type=\"text/javascript\">                require([\"plotly\"], function(Plotly) {                    window.PLOTLYENV=window.PLOTLYENV || {};                                    if (document.getElementById(\"84ab5ed9-4603-4552-bbc2-3c165e7ef073\")) {                    Plotly.newPlot(                        \"84ab5ed9-4603-4552-bbc2-3c165e7ef073\",                        [{\"fillpattern\":{\"shape\":\"\"},\"hovertemplate\":\"variable=Fatalities (air)\\u003cbr\\u003eAboard=%{x}\\u003cbr\\u003evalue=%{y}\\u003cextra\\u003e\\u003c\\u002fextra\\u003e\",\"legendgroup\":\"Fatalities (air)\",\"line\":{\"color\":\"#000001\"},\"marker\":{\"symbol\":\"circle\"},\"mode\":\"lines\",\"name\":\"Fatalities (air)\",\"orientation\":\"v\",\"showlegend\":true,\"stackgroup\":\"1\",\"x\":[1350,1280,1239,1200,1173,1157,1128,1122,1056,1026,1022,1003,992,986,957,950,945,930,925,910,876,870,851,840,840,837,800,784,763,748,730,728,720,702,702,696,689,672,656,644,612,608,598,596,588,572,567,560,528,524,517,514,504,495,488,488,470,468,456,450,440,432,429,428,425,416,415,413,412,408,408,402,400,396,394,393,385,385,384,384,384,380,378,378,372,368,365,360,356,352,350,349,348,346,340,336,334,333,330,329,327,324,320,316,315,314,314,312,310,309,307,304,301,301,300,300,298,298,298,296,293,292,291,290,290,290,288,287,285,284,282,282,275,275,274,274,272,271,271,269,266,264,262,261,260,259,258,257,256,256,254,248,246,245,239,239,236,234,234,232,231,230,230,229,229,229,228,228,226,226,226,225,224,223,222,220,218,217,216,216,214,213,212,208,204,203,202,200,200,200,199,198,196,196,195,192,192,191,190,189,189,188,188,188,187,187,183,182,181,180,179,179,179,178,178,177,177,177,176,175,174,174,174,172,172,172,171,170,169,169,168,168,167,166,166,166,165,165,164,164,164,164,163,163,163,162,162,161,161,160,160,159,159,158,158,158,157,156,156,155,155,154,154,153,153,153,153,153,153,153,152,152,152,150,150,148,147,146,146,146,146,145,145,144,144,144,143,142,142,140,140,140,138,138,137,137,135,135,135,135,134,134,134,134,133,133,132,132,132,132,131,131,131,130,130,130,130,129,129,129,129,129,129,128,128,128,128,127,127,127,127,127,126,126,126,126,124,124,124,124,123,122,121,121,121,120,120,119,119,119,119,118,118,118,117,117,117,116,116,116,116,115,115,115,114,114,113,113,113,113,112,112,112,111,111,111,110,110,110,110,109,108,108,108,108,107,107,107,106,106,106,106,106,106,106,105,105,105,105,104,104,104,104,103,103,103,103,103,103,102,102,102,101,101,101,101,100,100,100,100,100,100,100,100,99,99,99,98,98,98,98,98,97,97,97,97,96,96,96,96,96,96,96,96,96,96,95,95,95,94,93,93,93,92,92,91,91,91,90,90,90,90,90,90,90,90,90,90,90,90,90,90,89,89,89,88,88,88,88,88,88,88,88,88,87,87,87,87,87,86,86,86,85,85,85,84,84,84,84,84,84,84,84,84,84,84,84,84,84,83,83,83,83,82,82,82,82,82,82,82,81,80,80,80,80,80,80,80,80,80,80,80,80,80,80,80,79,79,79,79,78,78,78,78,78,78,77,77,77,77,77,77,76,76,76,76,76,76,76,76,76,76,76,76,75,75,75,75,75,75,74,74,74,74,73,73,73,73,73,73,72,72,72,72,72,72,72,72,72,72,72,72,72,72,72,72,71,71,71,71,70,70,70,70,70,70,70,70,70,69,69,69,69,69,69,69,69,69,68,68,68,68,68,68,68,67,67,66,66,66,66,66,66,66,66,65,65,65,65,64,64,64,64,64,64,64,63,63,63,63,63,63,63,63,63,63,62,62,62,62,62,62,62,62,61,61,61,61,61,60,60,60,60,60,60,60,60,60,60,60,60,60,60,60,60,59,59,58,58,58,58,58,58,58,58,58,58,58,57,57,57,57,57,57,57,57,56,56,56,56,56,56,56,56,56,56,56,56,55,55,55,55,55,55,55,54,54,54,54,54,54,54,54,54,54,54,54,53,53,53,53,53,53,53,53,52,52,52,52,52,52,52,52,52,52,52,52,52,52,51,51,51,51,51,51,51,51,51,51,51,51,51,50,50,50,50,50,50,50,50,50,50,50,50,50,50,49,49,49,49,49,49,49,49,48,48,48,48,48,48,48,48,48,48,48,48,48,48,48,48,48,47,47,47,47,47,47,47,47,47,47,46,46,46,46,46,46,46,46,46,46,46,46,46,46,46,46,45,45,45,45,45,45,45,45,45,45,45,45,45,45,45,45,45,45,44,44,44,44,44,44,44,44,44,44,44,44,44,44,44,44,43,43,43,43,43,43,43,43,42,42,42,42,42,42,42,42,42,42,42,42,42,42,42,42,42,42,41,41,41,41,41,41,41,41,40,40,40,40,40,40,40,40,40,40,40,40,40,40,40,40,40,40,40,39,39,39,39,39,39,39,39,39,39,39,39,39,39,39,38,38,38,38,38,38,38,38,38,38,38,38,37,37,37,37,37,37,37,37,37,37,37,36,36,36,36,36,36,36,36,36,36,36,36,36,36,36,35,35,35,35,35,35,35,35,35,34,34,34,34,34,34,34,34,34,34,34,34,34,34,34,34,33,33,33,33,33,33,32,32,32,32,32,32,32,32,32,32,32,32,32,32,32,31,31,31,31,31,31,31,30,30,30,30,30,30,30,30,30,30,30,30,30,30,29,29,29,28,28,28,28,28,28,28,28,28,28,28,28,28,27,27,27,27,27,27,27,26,26,26,26,26,26,26,26,26,26,25,25,25,25,25,25,25,25,25,25,24,24,24,24,24,24,24,24,24,24,23,23,23,23,23,23,23,23,23,22,22,22,22,22,22,22,22,22,22,22,22,22,22,21,21,21,21,21,20,20,20,20,20,20,20,20,19,19,19,19,19,19,19,18,18,18,18,18,17,17,17,16,16,16,15,15,15,15,14,14,14,14,13,13,12,12,12,12,12,12,11,8,6,6,6,5,0,0,0,0,0,0,0,0],\"xaxis\":\"x\",\"y\":[18,20,21,10,23,13,24,22,44,19,14,17,16,29,11,50,27,31,25,26,12,30,37,15,40,9,32,112,7,34,5,28,45,3,39,6,53,8,4,583,36,38,46,1,49,52,81,35,132,520,1,257,63,33,122,61,47,117,57,90,88,54,143,107,85,104,83,59,2,68,102,67,80,66,50,1,5,55,16,48,128,95,189,42,62,92,73,60,9,176,70,349,87,346,56,84,167,111,155,329,109,108,160,79,3,16,157,156,155,0,3,0,43,301,75,0,112,1,298,148,1,0,2,145,290,58,72,41,1,2,141,94,3,275,137,0,3,271,264,269,133,2,183,261,260,259,7,0,256,1,228,124,82,1,239,3,118,78,234,116,77,230,115,1,229,47,228,114,15,113,128,225,224,223,74,110,0,217,1,0,32,213,2,1,51,125,176,2,200,129,75,8,98,196,65,181,64,191,20,1,10,188,3,45,187,176,183,68,13,180,169,174,83,178,89,30,3,0,103,127,174,3,24,154,0,86,171,170,3,2,1,168,99,166,128,159,0,59,163,131,160,70,1,25,134,26,162,140,154,2,0,159,22,76,73,158,59,14,0,154,0,21,154,152,153,1,16,0,50,16,152,76,0,150,22,29,121,92,127,102,146,11,108,141,1,144,11,0,71,22,34,2,0,69,9,55,14,93,1,2,4,9,134,123,10,1,1,130,1,108,131,0,2,25,130,90,126,124,42,0,41,129,108,56,4,123,126,0,121,127,1,5,126,97,47,108,113,3,30,24,123,17,22,4,121,120,75,58,32,8,119,2,27,55,98,99,12,55,43,2,0,0,87,77,1,1,108,20,55,112,2,4,13,1,110,17,10,68,20,108,2,13,14,0,1,2,0,43,63,1,4,11,92,106,40,15,96,77,100,103,35,23,51,102,0,103,60,63,64,5,16,12,101,97,34,21,66,1,100,1,19,99,2,8,2,99,97,12,40,1,83,77,1,35,97,83,50,44,87,1,15,96,15,8,31,4,1,13,1,80,80,93,70,91,54,70,43,91,7,4,1,12,76,17,13,1,68,5,5,27,51,3,7,0,47,75,84,1,72,2,45,37,0,15,14,82,0,28,1,85,3,82,62,2,1,20,19,18,1,5,72,3,78,3,7,2,83,79,34,2,77,78,80,38,72,1,54,61,37,28,53,58,3,75,60,2,9,32,2,14,7,24,16,5,5,3,78,46,34,74,22,5,24,36,72,41,10,7,76,71,74,6,2,18,38,5,28,74,57,62,1,73,17,0,27,23,20,13,1,11,28,35,30,33,50,65,5,3,28,66,64,62,4,13,14,10,22,20,53,3,2,59,1,23,8,1,27,1,70,51,12,50,1,19,6,11,7,7,3,37,1,67,12,24,2,65,25,52,58,2,60,19,27,14,15,52,47,46,32,0,32,21,65,4,1,54,8,28,48,2,32,61,45,52,1,5,23,1,6,2,5,34,29,22,2,21,1,48,0,4,23,14,14,58,25,3,2,43,1,15,2,1,14,17,7,26,47,2,14,28,1,6,25,12,1,17,1,11,27,10,1,48,8,2,7,25,8,3,13,7,27,6,15,36,37,6,22,3,38,28,35,5,56,46,24,24,27,30,2,4,22,48,47,1,2,1,12,11,48,36,23,49,22,2,2,5,2,15,4,29,44,34,2,50,37,1,34,2,20,33,13,7,6,25,46,28,47,24,0,17,20,27,4,1,25,2,23,9,6,37,44,3,2,49,37,2,19,1,30,9,45,21,24,1,23,11,47,43,46,44,8,42,13,30,1,42,43,17,3,3,44,3,39,14,22,7,2,20,3,16,35,4,17,43,3,13,20,15,1,46,38,15,44,3,1,45,28,4,43,23,25,41,37,19,16,0,4,32,15,19,3,2,16,5,2,34,2,0,6,44,5,4,40,29,41,17,30,23,43,4,6,38,16,9,34,17,27,40,1,6,42,1,22,7,36,19,31,14,33,39,3,13,17,9,32,2,10,38,1,1,20,23,15,3,13,35,4,2,8,34,25,22,17,40,38,38,25,1,2,39,9,35,29,20,11,33,5,27,17,26,34,6,4,8,1,18,16,38,11,3,37,5,10,9,25,6,35,19,0,7,29,23,12,30,4,16,1,11,26,21,37,0,7,23,17,21,24,31,11,28,29,35,6,4,14,15,8,7,30,22,5,0,20,15,28,10,7,30,5,21,14,22,2,24,13,27,25,8,11,13,28,13,0,1,3,5,5,4,3,29,26,32,17,5,23,3,24,3,10,14,11,8,13,24,12,20,10,28,3,26,22,30,0,11,28,17,13,21,27,26,19,4,13,20,4,3,2,8,23,21,27,6,7,10,23,26,22,8,23,14,26,1,6,7,4,11,18,10,8,21,2,4,16,8,24,18,19,6,2,21,0,7,8,10,9,1,15,0,16,12,10,7,4,9,5,3,22,11,5,18,6,12,11,9,16,7,3,18,14,13,6,20,21,22,17,12,9,1,8,10,11,12,6,0,5,19,2,3,0,18,16,6,12,10,8,9,13,16,18,9,2,7,6,10,5,4,12,8,3,9,9,11,3,12,3,2,8,12,2,6,12,7,6,9,0,0,10,5,4,8,5,0,0,9,5,1,0,7,0,0,0,0,0,3,16,26,1,10,9,6,0],\"yaxis\":\"y\",\"type\":\"scatter\"},{\"fillpattern\":{\"shape\":\"\"},\"hovertemplate\":\"variable=survival_rate\\u003cbr\\u003eAboard=%{x}\\u003cbr\\u003evalue=%{y}\\u003cextra\\u003e\\u003c\\u002fextra\\u003e\",\"legendgroup\":\"survival_rate\",\"line\":{\"color\":\"#000002\"},\"marker\":{\"symbol\":\"circle\"},\"mode\":\"lines\",\"name\":\"survival_rate\",\"orientation\":\"v\",\"showlegend\":true,\"stackgroup\":\"1\",\"x\":[1350,1280,1239,1200,1173,1157,1128,1122,1056,1026,1022,1003,992,986,957,950,945,930,925,910,876,870,851,840,840,837,800,784,763,748,730,728,720,702,702,696,689,672,656,644,612,608,598,596,588,572,567,560,528,524,517,514,504,495,488,488,470,468,456,450,440,432,429,428,425,416,415,413,412,408,408,402,400,396,394,393,385,385,384,384,384,380,378,378,372,368,365,360,356,352,350,349,348,346,340,336,334,333,330,329,327,324,320,316,315,314,314,312,310,309,307,304,301,301,300,300,298,298,298,296,293,292,291,290,290,290,288,287,285,284,282,282,275,275,274,274,272,271,271,269,266,264,262,261,260,259,258,257,256,256,254,248,246,245,239,239,236,234,234,232,231,230,230,229,229,229,228,228,226,226,226,225,224,223,222,220,218,217,216,216,214,213,212,208,204,203,202,200,200,200,199,198,196,196,195,192,192,191,190,189,189,188,188,188,187,187,183,182,181,180,179,179,179,178,178,177,177,177,176,175,174,174,174,172,172,172,171,170,169,169,168,168,167,166,166,166,165,165,164,164,164,164,163,163,163,162,162,161,161,160,160,159,159,158,158,158,157,156,156,155,155,154,154,153,153,153,153,153,153,153,152,152,152,150,150,148,147,146,146,146,146,145,145,144,144,144,143,142,142,140,140,140,138,138,137,137,135,135,135,135,134,134,134,134,133,133,132,132,132,132,131,131,131,130,130,130,130,129,129,129,129,129,129,128,128,128,128,127,127,127,127,127,126,126,126,126,124,124,124,124,123,122,121,121,121,120,120,119,119,119,119,118,118,118,117,117,117,116,116,116,116,115,115,115,114,114,113,113,113,113,112,112,112,111,111,111,110,110,110,110,109,108,108,108,108,107,107,107,106,106,106,106,106,106,106,105,105,105,105,104,104,104,104,103,103,103,103,103,103,102,102,102,101,101,101,101,100,100,100,100,100,100,100,100,99,99,99,98,98,98,98,98,97,97,97,97,96,96,96,96,96,96,96,96,96,96,95,95,95,94,93,93,93,92,92,91,91,91,90,90,90,90,90,90,90,90,90,90,90,90,90,90,89,89,89,88,88,88,88,88,88,88,88,88,87,87,87,87,87,86,86,86,85,85,85,84,84,84,84,84,84,84,84,84,84,84,84,84,84,83,83,83,83,82,82,82,82,82,82,82,81,80,80,80,80,80,80,80,80,80,80,80,80,80,80,80,79,79,79,79,78,78,78,78,78,78,77,77,77,77,77,77,76,76,76,76,76,76,76,76,76,76,76,76,75,75,75,75,75,75,74,74,74,74,73,73,73,73,73,73,72,72,72,72,72,72,72,72,72,72,72,72,72,72,72,72,71,71,71,71,70,70,70,70,70,70,70,70,70,69,69,69,69,69,69,69,69,69,68,68,68,68,68,68,68,67,67,66,66,66,66,66,66,66,66,65,65,65,65,64,64,64,64,64,64,64,63,63,63,63,63,63,63,63,63,63,62,62,62,62,62,62,62,62,61,61,61,61,61,60,60,60,60,60,60,60,60,60,60,60,60,60,60,60,60,59,59,58,58,58,58,58,58,58,58,58,58,58,57,57,57,57,57,57,57,57,56,56,56,56,56,56,56,56,56,56,56,56,55,55,55,55,55,55,55,54,54,54,54,54,54,54,54,54,54,54,54,53,53,53,53,53,53,53,53,52,52,52,52,52,52,52,52,52,52,52,52,52,52,51,51,51,51,51,51,51,51,51,51,51,51,51,50,50,50,50,50,50,50,50,50,50,50,50,50,50,49,49,49,49,49,49,49,49,48,48,48,48,48,48,48,48,48,48,48,48,48,48,48,48,48,47,47,47,47,47,47,47,47,47,47,46,46,46,46,46,46,46,46,46,46,46,46,46,46,46,46,45,45,45,45,45,45,45,45,45,45,45,45,45,45,45,45,45,45,44,44,44,44,44,44,44,44,44,44,44,44,44,44,44,44,43,43,43,43,43,43,43,43,42,42,42,42,42,42,42,42,42,42,42,42,42,42,42,42,42,42,41,41,41,41,41,41,41,41,40,40,40,40,40,40,40,40,40,40,40,40,40,40,40,40,40,40,40,39,39,39,39,39,39,39,39,39,39,39,39,39,39,39,38,38,38,38,38,38,38,38,38,38,38,38,37,37,37,37,37,37,37,37,37,37,37,36,36,36,36,36,36,36,36,36,36,36,36,36,36,36,35,35,35,35,35,35,35,35,35,34,34,34,34,34,34,34,34,34,34,34,34,34,34,34,34,33,33,33,33,33,33,32,32,32,32,32,32,32,32,32,32,32,32,32,32,32,31,31,31,31,31,31,31,30,30,30,30,30,30,30,30,30,30,30,30,30,30,29,29,29,28,28,28,28,28,28,28,28,28,28,28,28,28,27,27,27,27,27,27,27,26,26,26,26,26,26,26,26,26,26,25,25,25,25,25,25,25,25,25,25,24,24,24,24,24,24,24,24,24,24,23,23,23,23,23,23,23,23,23,22,22,22,22,22,22,22,22,22,22,22,22,22,22,21,21,21,21,21,20,20,20,20,20,20,20,20,19,19,19,19,19,19,19,18,18,18,18,18,17,17,17,16,16,16,15,15,15,15,14,14,14,14,13,13,12,12,12,12,12,12,11,8,6,6,6,5,0,0,0,0,0,0,0,0],\"xaxis\":\"x\",\"y\":[0,0,0,0,0,0,0,0,0,0,0,0,0,0,0,0,0,0,0,0,0,0,0,0,0,0,0,0,0,0,0,0,0,0,0,0,0,0,0,61,0,0,0,297,0,0,0,0,0,4,516,0,0,0,0,0,0,0,0,0,0,0,0,0,0,0,0,0,0,0,0,0,0,0,344,392,380,0,368,0,0,0,0,0,0,0,0,0,347,0,0,0,0,0,284,0,0,0,175,0,0,0,0,0,312,298,0,0,0,309,304,304,0,0,0,300,186,148,0,0,292,292,289,0,0,0,0,0,284,140,0,0,272,0,0,274,133,0,7,0,0,262,79,0,0,0,251,257,0,127,26,0,0,244,0,236,0,0,0,0,0,0,0,228,0,182,0,0,211,0,98,0,0,0,0,0,218,0,71,108,182,0,210,51,0,78,26,198,0,71,124,190,0,0,0,11,0,0,170,188,179,0,91,2,0,11,0,114,168,0,10,5,96,0,0,147,174,177,73,48,0,171,150,18,172,0,0,0,166,167,167,0,68,0,38,7,165,106,1,33,4,12,162,138,29,1,0,21,7,78,160,0,137,3,85,0,98,142,78,1,155,1,0,1,0,152,137,153,1,1,0,0,152,0,128,119,26,54,19,44,0,134,37,3,15,0,132,142,0,118,1,68,69,0,128,82,1,42,26,133,130,125,0,11,123,0,131,2,32,24,0,131,129,1,0,40,4,5,1,129,2,0,21,8,124,5,2,127,6,0,126,122,0,29,79,18,11,121,1,100,0,105,99,117,0,0,45,61,87,111,0,116,91,63,19,18,1,3,15,114,116,115,28,38,113,56,5,93,58,1,110,108,1,36,1,94,1,42,2,2,107,41,94,54,17,105,107,64,43,52,102,95,14,0,13,90,9,28,5,1,69,3,1,1,103,0,43,40,39,1,86,90,0,4,67,80,34,19,0,24,1,1,98,92,31,0,2,86,58,97,15,21,96,62,0,14,46,52,9,95,1,0,81,4,1,12,94,82,18,14,13,0,23,1,38,21,48,0,3,6,9,3,14,1,2,29,22,13,25,18,39,7,82,89,42,13,4,43,16,42,43,51,88,7,73,5,87,1,28,1,83,4,23,83,84,1,2,3,83,2,12,11,6,4,35,19,1,5,8,81,6,5,3,44,10,81,28,21,4,54,28,22,2,5,20,14,7,8,8,2,73,56,64,35,15,77,1,33,45,5,4,73,54,3,6,37,67,70,1,6,3,1,17,1,38,33,48,2,19,14,1,3,2,76,48,2,5,62,14,4,46,39,44,4,23,8,68,70,45,7,8,10,2,5,22,2,2,52,19,1,1,13,23,1,1,35,44,70,1,20,2,20,34,16,4,3,63,28,67,32,68,2,57,45,21,4,44,17,10,2,8,15,7,3,2,15,20,20,1,66,34,45,1,7,5,11,57,37,17,30,32,3,19,12,63,11,40,20,57,5,16,29,34,41,61,42,61,14,31,27,8,48,17,4,36,58,59,18,60,5,10,2,16,3,5,4,13,58,6,2,11,6,5,8,59,42,58,18,2,19,57,10,21,27,22,4,50,55,6,50,30,51,4,21,20,13,6,25,18,28,21,3,0,10,4,32,1,26,9,51,33,7,8,54,53,8,42,43,6,18,4,5,5,4,52,22,16,38,49,24,9,19,51,3,16,12,18,11,6,19,13,45,20,27,6,24,5,2,52,34,31,24,47,16,26,49,28,8,11,14,7,48,48,1,13,23,31,4,20,41,5,4,1,49,27,14,2,6,3,5,41,7,36,19,7,6,5,7,9,13,4,5,9,10,26,1,22,4,45,32,13,43,30,4,44,34,27,32,46,1,9,8,2,20,22,1,18,42,3,23,21,5,9,4,7,46,19,13,30,26,12,13,29,4,3,11,7,45,39,1,40,1,5,16,4,27,14,21,1,40,16,6,6,2,10,5,17,4,10,38,2,42,21,36,7,24,12,29,10,3,3,29,4,5,10,12,32,4,13,6,22,19,6,18,8,7,38,39,33,7,16,19,24,1,3,2,15,39,38,1,31,5,11,20,29,7,5,13,23,14,6,2,4,12,38,21,23,1,2,10,2,34,3,4,14,33,4,20,39,12,9,15,26,8,34,3,37,27,12,17,1,37,30,14,20,16,13,6,26,9,8,2,3,14,4,3,10,29,6,14,31,18,16,21,8,8,2,5,30,14,21,13,33,11,22,8,9,26,23,21,6,4,34,33,31,29,12,13,14,5,8,2,16,6,10,8,9,30,6,18,5,8,3,8,20,12,22,4,29,6,10,2,32,20,3,14,18,10,4,5,11,26,17,10,11,27,28,2,7,9,3,24,23,5,6,3,7,20,5,14,2,27,8,21,3,17,10,18,6,7,25,5,11,19,3,9,8,7,24,5,26,6,18,16,17,25,11,25,9,13,15,18,21,16,20,22,3,1,19,6,18,12,13,15,8,17,21,5,9,10,17,3,2,1,6,11,13,21,3,12,11,10,5,11,17,3,20,19,22,4,5,15,9,11,13,1,7,4,2,11,18,13,14,9,14,15,7,11,16,10,9,7,15,6,6,15,9,5,6,10,4,8,9,6,15,7,4,9,10,5,8,4,6,3,7,3,12,4,8,1,2,3,5,-3,-16,-26,-1,-10,-9,-6,0],\"yaxis\":\"y\",\"type\":\"scatter\"}],                        {\"template\":{\"data\":{\"candlestick\":[{\"decreasing\":{\"line\":{\"color\":\"#000033\"}},\"increasing\":{\"line\":{\"color\":\"#000032\"}},\"type\":\"candlestick\"}],\"contourcarpet\":[{\"colorscale\":[[0.0,\"#000011\"],[0.1111111111111111,\"#000012\"],[0.2222222222222222,\"#000013\"],[0.3333333333333333,\"#000014\"],[0.4444444444444444,\"#000015\"],[0.5555555555555556,\"#000016\"],[0.6666666666666666,\"#000017\"],[0.7777777777777778,\"#000018\"],[0.8888888888888888,\"#000019\"],[1.0,\"#000020\"]],\"type\":\"contourcarpet\"}],\"contour\":[{\"colorscale\":[[0.0,\"#000011\"],[0.1111111111111111,\"#000012\"],[0.2222222222222222,\"#000013\"],[0.3333333333333333,\"#000014\"],[0.4444444444444444,\"#000015\"],[0.5555555555555556,\"#000016\"],[0.6666666666666666,\"#000017\"],[0.7777777777777778,\"#000018\"],[0.8888888888888888,\"#000019\"],[1.0,\"#000020\"]],\"type\":\"contour\"}],\"heatmap\":[{\"colorscale\":[[0.0,\"#000011\"],[0.1111111111111111,\"#000012\"],[0.2222222222222222,\"#000013\"],[0.3333333333333333,\"#000014\"],[0.4444444444444444,\"#000015\"],[0.5555555555555556,\"#000016\"],[0.6666666666666666,\"#000017\"],[0.7777777777777778,\"#000018\"],[0.8888888888888888,\"#000019\"],[1.0,\"#000020\"]],\"type\":\"heatmap\"}],\"histogram2d\":[{\"colorscale\":[[0.0,\"#000011\"],[0.1111111111111111,\"#000012\"],[0.2222222222222222,\"#000013\"],[0.3333333333333333,\"#000014\"],[0.4444444444444444,\"#000015\"],[0.5555555555555556,\"#000016\"],[0.6666666666666666,\"#000017\"],[0.7777777777777778,\"#000018\"],[0.8888888888888888,\"#000019\"],[1.0,\"#000020\"]],\"type\":\"histogram2d\"}],\"icicle\":[{\"textfont\":{\"color\":\"white\"},\"type\":\"icicle\"}],\"sankey\":[{\"textfont\":{\"color\":\"#000036\"},\"type\":\"sankey\"}],\"scatter\":[{\"marker\":{\"line\":{\"width\":0}},\"type\":\"scatter\"}],\"table\":[{\"cells\":{\"fill\":{\"color\":\"#000038\"},\"font\":{\"color\":\"#000037\"},\"line\":{\"color\":\"#000039\"}},\"header\":{\"fill\":{\"color\":\"#000040\"},\"font\":{\"color\":\"#000036\"},\"line\":{\"color\":\"#000039\"}},\"type\":\"table\"}],\"waterfall\":[{\"connector\":{\"line\":{\"color\":\"#000036\",\"width\":2}},\"decreasing\":{\"marker\":{\"color\":\"#000033\"}},\"increasing\":{\"marker\":{\"color\":\"#000032\"}},\"totals\":{\"marker\":{\"color\":\"#000034\"}},\"type\":\"waterfall\"}]},\"layout\":{\"coloraxis\":{\"colorscale\":[[0.0,\"#000011\"],[0.1111111111111111,\"#000012\"],[0.2222222222222222,\"#000013\"],[0.3333333333333333,\"#000014\"],[0.4444444444444444,\"#000015\"],[0.5555555555555556,\"#000016\"],[0.6666666666666666,\"#000017\"],[0.7777777777777778,\"#000018\"],[0.8888888888888888,\"#000019\"],[1.0,\"#000020\"]]},\"colorscale\":{\"diverging\":[[0.0,\"#000021\"],[0.1,\"#000022\"],[0.2,\"#000023\"],[0.3,\"#000024\"],[0.4,\"#000025\"],[0.5,\"#000026\"],[0.6,\"#000027\"],[0.7,\"#000028\"],[0.8,\"#000029\"],[0.9,\"#000030\"],[1.0,\"#000031\"]],\"sequential\":[[0.0,\"#000011\"],[0.1111111111111111,\"#000012\"],[0.2222222222222222,\"#000013\"],[0.3333333333333333,\"#000014\"],[0.4444444444444444,\"#000015\"],[0.5555555555555556,\"#000016\"],[0.6666666666666666,\"#000017\"],[0.7777777777777778,\"#000018\"],[0.8888888888888888,\"#000019\"],[1.0,\"#000020\"]],\"sequentialminus\":[[0.0,\"#000011\"],[0.1111111111111111,\"#000012\"],[0.2222222222222222,\"#000013\"],[0.3333333333333333,\"#000014\"],[0.4444444444444444,\"#000015\"],[0.5555555555555556,\"#000016\"],[0.6666666666666666,\"#000017\"],[0.7777777777777778,\"#000018\"],[0.8888888888888888,\"#000019\"],[1.0,\"#000020\"]]},\"colorway\":[\"#000001\",\"#000002\",\"#000003\",\"#000004\",\"#000005\",\"#000006\",\"#000007\",\"#000008\",\"#000009\",\"#000010\"]}},\"xaxis\":{\"anchor\":\"y\",\"domain\":[0.0,1.0],\"title\":{\"text\":\"Aboard\"}},\"yaxis\":{\"anchor\":\"x\",\"domain\":[0.0,1.0],\"title\":{\"text\":\"value\"}},\"legend\":{\"title\":{\"text\":\"variable\"},\"tracegroupgap\":0},\"title\":{\"text\":\"Correlation of Sum of Abord Vs. survival rates and total fatalities \"}},                        {\"responsive\": true}                    ).then(function(){\n",
       "                            \n",
       "var gd = document.getElementById('84ab5ed9-4603-4552-bbc2-3c165e7ef073');\n",
       "var x = new MutationObserver(function (mutations, observer) {{\n",
       "        var display = window.getComputedStyle(gd).display;\n",
       "        if (!display || display === 'none') {{\n",
       "            console.log([gd, 'removed!']);\n",
       "            Plotly.purge(gd);\n",
       "            observer.disconnect();\n",
       "        }}\n",
       "}});\n",
       "\n",
       "// Listen for the removal of the full notebook cells\n",
       "var notebookContainer = gd.closest('#notebook-container');\n",
       "if (notebookContainer) {{\n",
       "    x.observe(notebookContainer, {childList: true});\n",
       "}}\n",
       "\n",
       "// Listen for the clearing of the current output cell\n",
       "var outputEl = gd.closest('.output');\n",
       "if (outputEl) {{\n",
       "    x.observe(outputEl, {childList: true});\n",
       "}}\n",
       "\n",
       "                        })                };                });            </script>        </div>"
      ]
     },
     "metadata": {},
     "output_type": "display_data"
    }
   ],
   "source": [
    "# Create a stacked area chart\n",
    "fig = px.area(size_aircraft_sort, x='Aboard', y=['Fatalities (air)', 'survival_rate'], \n",
    "              title='Correlation of Sum of Abord Vs. survival rates and total fatalities ') \n",
    "\n",
    "\n",
    "fig.show()\n",
    "\n",
    "#st.plotly_chart(fig)"
   ]
  },
  {
   "cell_type": "code",
   "execution_count": null,
   "id": "4fbbc8ed-17b4-4b7b-9a3f-2e46015f0b3a",
   "metadata": {},
   "outputs": [],
   "source": [
    "# Sample DataFrame\n",
    "data = {'Survived': [1, 0, 1, 1, 0, 0, 1]} \n",
    "df = pd.DataFrame(data)\n",
    "\n",
    "num_survivors = data['survival_rate'].sum()\n",
    "total_individuals = len('survival_rate')\n",
    "percentage_of_survival = (num_survivors / total_individuals) * 100"
   ]
  },
  {
   "cell_type": "code",
   "execution_count": null,
   "id": "44e028b3-bc85-46f3-94ee-48fb881fe72f",
   "metadata": {},
   "outputs": [],
   "source": []
  },
  {
   "cell_type": "markdown",
   "id": "bd1848f1-9f75-443f-86b2-675384e31006",
   "metadata": {},
   "source": [
    "## Findings and Recomendations "
   ]
  },
  {
   "cell_type": "code",
   "execution_count": null,
   "id": "bc8b9d05-a1c5-4775-b15e-31556b6ffab9",
   "metadata": {},
   "outputs": [],
   "source": []
  },
  {
   "cell_type": "markdown",
   "id": "0c0f7668-9ae2-4ba4-96a9-1a30c5e5bcdc",
   "metadata": {},
   "source": [
    "## Findings \n",
    "\n",
    "\n",
    "## 1. The trend of Fatalities Over the Years\n",
    "\n",
    "The scatter plot visualization of fatalities over the years indicates the temporal trends in air crashes with 1972 being a peak for fatalities. Peaks in deaths may correlate with historical events, outdated technology, or specific operational factors in certain periods.\n",
    "\n",
    "## 2. Monthly and Quarterly Trends\n",
    "\n",
    "The area chart highlights fluctuations in fatalities across months and quarters. Some months or quarters exhibit higher crash incidences, potentially due to seasonal weather conditions, higher traffic, or operational issues.\n",
    "\n",
    "## 3. Countries with the Most Crashes\n",
    "\n",
    "The Choropleth map identifies countries with the highest number of fatalities from air crashes. These countries may have higher air traffic, less stringent regulations, or challenging terrain and weather conditions.\n",
    "\n",
    "## 4. Aircraft Manufacturers with the Most Fatalities\n",
    "\n",
    "As shown in the bar chart certain aircraft manufacturers are associated with higher fatality counts. These trends might be related to design issues, operational prevalence, or historical safety challenges.\n",
    "\n",
    "## 5. Aircraft Manufacturers with the Highest Survival Rates\n",
    "\n",
    "The pie chart reveals manufacturers with the highest survival rates, indicating better safety features or structural integrity in certain aircraft designs.\n",
    "\n",
    "## 6. Aircraft Size and Survival/Fatalities Correlation\n",
    "The correlation analysis between aircraft size (measured by total passengers aboard) and survival/fatality rates shows potential relationships. Larger aircraft may have higher total fatalities but also potentially higher survival rates due to advanced safety systems.\n",
    "\n",
    "## 7. KPI Insights\n",
    "\n",
    "Fatalities, Ground Fatalities, and Survival Percentage:\n",
    "The aggregate metrics provide an overview of total fatalities and survival rates, highlighting areas for safety improvement."
   ]
  },
  {
   "cell_type": "code",
   "execution_count": null,
   "id": "980522db-efe4-4c65-95d1-f837e8a7a70f",
   "metadata": {},
   "outputs": [],
   "source": []
  },
  {
   "cell_type": "markdown",
   "id": "3b34b682-2d76-48a2-8a27-ce7b7f96720c",
   "metadata": {},
   "source": [
    "## Recommendations\n",
    "\n",
    "1. Countries with the highest fatalities should review and enhance aviation safety regulations, focusing on pilot training, maintenance standards, and air traffic control systems.\n",
    "Identify seasonal or quarterly trends in crashes and adapt operational safety measures accordingly.\n",
    "\n",
    "2. Aircraft manufacturers with high fatality counts should investigate historical design flaws and enhance maintenance programs.\n",
    "\n",
    "3. Further research into the monthly and quarterly crash patterns can help predict and mitigate risks during high-incidence periods.\n",
    "\n",
    "4. Implement time series analysis techniques to identify trends and patterns in crash occurrences over time. This could involve exploring factors like changes in safety regulations or technological advancements.\n",
    "\n",
    "5. As larger aircraft exhibit potential correlations between size and survival/fatality rates, focus on improving evacuation protocols, fire suppression systems, and structural integrity."
   ]
  },
  {
   "cell_type": "code",
   "execution_count": null,
   "id": "50987b93-06e4-4c04-90ec-1311126317fa",
   "metadata": {},
   "outputs": [],
   "source": []
  }
 ],
 "metadata": {
  "kernelspec": {
   "display_name": "Python 3 (ipykernel)",
   "language": "python",
   "name": "python3"
  },
  "language_info": {
   "codemirror_mode": {
    "name": "ipython",
    "version": 3
   },
   "file_extension": ".py",
   "mimetype": "text/x-python",
   "name": "python",
   "nbconvert_exporter": "python",
   "pygments_lexer": "ipython3",
   "version": "3.12.4"
  }
 },
 "nbformat": 4,
 "nbformat_minor": 5
}
